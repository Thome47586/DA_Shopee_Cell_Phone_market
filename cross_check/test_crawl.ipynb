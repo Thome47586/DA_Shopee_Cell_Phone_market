{
 "cells": [
  {
   "cell_type": "code",
   "execution_count": 25,
   "source": [
    "import pandas as pd\n",
    "from selenium.common.exceptions import NoSuchElementException\n",
    "from selenium import webdriver\n",
    "import time\n",
    "import json"
   ],
   "outputs": [],
   "metadata": {}
  },
  {
   "cell_type": "markdown",
   "source": [
    "Path contain selenium"
   ],
   "metadata": {}
  },
  {
   "cell_type": "code",
   "execution_count": 26,
   "source": [
    "import sys\n",
    "sys.path"
   ],
   "outputs": [
    {
     "output_type": "execute_result",
     "data": {
      "text/plain": [
       "['/Users/Thome/Desktop/CoderSchool/Shopee_Phone_EDA',\n",
       " '/Users/thome/.vscode/extensions/ms-toolsai.jupyter-2021.8.2041215044/pythonFiles',\n",
       " '/Users/thome/.vscode/extensions/ms-toolsai.jupyter-2021.8.2041215044/pythonFiles/lib/python',\n",
       " '/Users/thome/opt/anaconda3/envs/shopee_eda/lib/python39.zip',\n",
       " '/Users/thome/opt/anaconda3/envs/shopee_eda/lib/python3.9',\n",
       " '/Users/thome/opt/anaconda3/envs/shopee_eda/lib/python3.9/lib-dynload',\n",
       " '',\n",
       " '/Users/thome/opt/anaconda3/envs/shopee_eda/lib/python3.9/site-packages',\n",
       " '/Users/thome/opt/anaconda3/envs/shopee_eda/lib/python3.9/site-packages/IPython/extensions',\n",
       " '/Users/thome/.ipython',\n",
       " '/Library/Python/3.8/site-packages']"
      ]
     },
     "metadata": {},
     "execution_count": 26
    }
   ],
   "metadata": {}
  },
  {
   "cell_type": "code",
   "execution_count": 27,
   "source": [
    "sys.path.append('/Library/Python/3.8/site-packages')\n",
    "sys.path"
   ],
   "outputs": [
    {
     "output_type": "execute_result",
     "data": {
      "text/plain": [
       "['/Users/Thome/Desktop/CoderSchool/Shopee_Phone_EDA',\n",
       " '/Users/thome/.vscode/extensions/ms-toolsai.jupyter-2021.8.2041215044/pythonFiles',\n",
       " '/Users/thome/.vscode/extensions/ms-toolsai.jupyter-2021.8.2041215044/pythonFiles/lib/python',\n",
       " '/Users/thome/opt/anaconda3/envs/shopee_eda/lib/python39.zip',\n",
       " '/Users/thome/opt/anaconda3/envs/shopee_eda/lib/python3.9',\n",
       " '/Users/thome/opt/anaconda3/envs/shopee_eda/lib/python3.9/lib-dynload',\n",
       " '',\n",
       " '/Users/thome/opt/anaconda3/envs/shopee_eda/lib/python3.9/site-packages',\n",
       " '/Users/thome/opt/anaconda3/envs/shopee_eda/lib/python3.9/site-packages/IPython/extensions',\n",
       " '/Users/thome/.ipython',\n",
       " '/Library/Python/3.8/site-packages',\n",
       " '/Library/Python/3.8/site-packages']"
      ]
     },
     "metadata": {},
     "execution_count": 27
    }
   ],
   "metadata": {}
  },
  {
   "cell_type": "markdown",
   "source": [
    "Khai báo biến browser"
   ],
   "metadata": {}
  },
  {
   "cell_type": "code",
   "execution_count": 28,
   "source": [
    "df = pd.read_csv('./shopee_phone_final.csv')"
   ],
   "outputs": [],
   "metadata": {}
  },
  {
   "cell_type": "code",
   "execution_count": 29,
   "source": [
    "df.head()"
   ],
   "outputs": [
    {
     "output_type": "execute_result",
     "data": {
      "text/html": [
       "<div>\n",
       "<style scoped>\n",
       "    .dataframe tbody tr th:only-of-type {\n",
       "        vertical-align: middle;\n",
       "    }\n",
       "\n",
       "    .dataframe tbody tr th {\n",
       "        vertical-align: top;\n",
       "    }\n",
       "\n",
       "    .dataframe thead th {\n",
       "        text-align: right;\n",
       "    }\n",
       "</style>\n",
       "<table border=\"1\" class=\"dataframe\">\n",
       "  <thead>\n",
       "    <tr style=\"text-align: right;\">\n",
       "      <th></th>\n",
       "      <th>Unnamed: 0</th>\n",
       "      <th>Unnamed: 0.1</th>\n",
       "      <th>name</th>\n",
       "      <th>price_dis</th>\n",
       "      <th>price_nondis</th>\n",
       "      <th>freeship</th>\n",
       "      <th>rating</th>\n",
       "      <th>rating_count</th>\n",
       "      <th>monthly_sold</th>\n",
       "      <th>store_location</th>\n",
       "      <th>monthly_event</th>\n",
       "      <th>favorite_product</th>\n",
       "      <th>shopee_mall</th>\n",
       "      <th>discount_tag</th>\n",
       "      <th>product_url</th>\n",
       "      <th>image</th>\n",
       "      <th>ShopDacBiet</th>\n",
       "    </tr>\n",
       "  </thead>\n",
       "  <tbody>\n",
       "    <tr>\n",
       "      <th>0</th>\n",
       "      <td>0</td>\n",
       "      <td>0</td>\n",
       "      <td>Miếng dán điện thoại may mắn, lung linh phù hợ...</td>\n",
       "      <td>1.400</td>\n",
       "      <td>₫1.400 - ₫6.700</td>\n",
       "      <td>True</td>\n",
       "      <td>4.83</td>\n",
       "      <td>616.0</td>\n",
       "      <td>5,4k/tháng</td>\n",
       "      <td>Lào Cai</td>\n",
       "      <td>False</td>\n",
       "      <td>Yêu thích</td>\n",
       "      <td>False</td>\n",
       "      <td>NaN</td>\n",
       "      <td>https://shopee.vn/Mi%E1%BA%BFng-d%C3%A1n-%C4%9...</td>\n",
       "      <td>https://cf.shopee.vn/file/cd7f36d677941ad531a8...</td>\n",
       "      <td>False</td>\n",
       "    </tr>\n",
       "    <tr>\n",
       "      <th>1</th>\n",
       "      <td>1</td>\n",
       "      <td>1</td>\n",
       "      <td>Điện thoại Vivo Y20 (2021) 4GB + 64GB - Hàng c...</td>\n",
       "      <td>3.390.000</td>\n",
       "      <td>₫3.990.000</td>\n",
       "      <td>True</td>\n",
       "      <td>4.95</td>\n",
       "      <td>926.0</td>\n",
       "      <td>1,8k/tháng</td>\n",
       "      <td>TP. Hồ Chí Minh</td>\n",
       "      <td>True</td>\n",
       "      <td>NaN</td>\n",
       "      <td>True</td>\n",
       "      <td>15%\\nGIẢM</td>\n",
       "      <td>https://shopee.vn/%C4%90i%E1%BB%87n-tho%E1%BA%...</td>\n",
       "      <td>https://cf.shopee.vn/file/41694acce229f8102e75...</td>\n",
       "      <td>False</td>\n",
       "    </tr>\n",
       "    <tr>\n",
       "      <th>2</th>\n",
       "      <td>2</td>\n",
       "      <td>2</td>\n",
       "      <td>Apple iPhone 11 64GB</td>\n",
       "      <td>13.990.000</td>\n",
       "      <td>₫21.990.000</td>\n",
       "      <td>True</td>\n",
       "      <td>4.84</td>\n",
       "      <td>1132.0</td>\n",
       "      <td>1,1k/tháng</td>\n",
       "      <td>TP. Hồ Chí Minh</td>\n",
       "      <td>True</td>\n",
       "      <td>NaN</td>\n",
       "      <td>True</td>\n",
       "      <td>36%\\nGIẢM</td>\n",
       "      <td>https://shopee.vn/Apple-iPhone-11-64GB-i.88201...</td>\n",
       "      <td>https://cf.shopee.vn/file/b107f2e6167adb250100...</td>\n",
       "      <td>False</td>\n",
       "    </tr>\n",
       "    <tr>\n",
       "      <th>3</th>\n",
       "      <td>3</td>\n",
       "      <td>3</td>\n",
       "      <td>[Hàng Chính Hãng 100%] Nokia 1280, Điện Thoại ...</td>\n",
       "      <td>239.000</td>\n",
       "      <td>₫239.000</td>\n",
       "      <td>False</td>\n",
       "      <td>5.00</td>\n",
       "      <td>4.0</td>\n",
       "      <td>763/tháng</td>\n",
       "      <td>Hưng Yên</td>\n",
       "      <td>False</td>\n",
       "      <td>NaN</td>\n",
       "      <td>False</td>\n",
       "      <td>NaN</td>\n",
       "      <td>https://shopee.vn/-H%C3%A0ng-Ch%C3%ADnh-H%C3%A...</td>\n",
       "      <td>https://cf.shopee.vn/file/5d35156b434e236ee552...</td>\n",
       "      <td>False</td>\n",
       "    </tr>\n",
       "    <tr>\n",
       "      <th>4</th>\n",
       "      <td>4</td>\n",
       "      <td>4</td>\n",
       "      <td>Điện Thoại Samsung Galaxy M12 (3GB/32GB) - Hãn...</td>\n",
       "      <td>3.490.000</td>\n",
       "      <td>₫3.490.000</td>\n",
       "      <td>True</td>\n",
       "      <td>4.93</td>\n",
       "      <td>715.0</td>\n",
       "      <td>715/tháng</td>\n",
       "      <td>TP. Hồ Chí Minh</td>\n",
       "      <td>True</td>\n",
       "      <td>NaN</td>\n",
       "      <td>True</td>\n",
       "      <td>NaN</td>\n",
       "      <td>https://shopee.vn/%C4%90i%E1%BB%87n-Tho%E1%BA%...</td>\n",
       "      <td>https://cf.shopee.vn/file/a277200d45df2ef46c4a...</td>\n",
       "      <td>False</td>\n",
       "    </tr>\n",
       "  </tbody>\n",
       "</table>\n",
       "</div>"
      ],
      "text/plain": [
       "   Unnamed: 0  Unnamed: 0.1  \\\n",
       "0           0             0   \n",
       "1           1             1   \n",
       "2           2             2   \n",
       "3           3             3   \n",
       "4           4             4   \n",
       "\n",
       "                                                name   price_dis  \\\n",
       "0  Miếng dán điện thoại may mắn, lung linh phù hợ...       1.400   \n",
       "1  Điện thoại Vivo Y20 (2021) 4GB + 64GB - Hàng c...   3.390.000   \n",
       "2                               Apple iPhone 11 64GB  13.990.000   \n",
       "3  [Hàng Chính Hãng 100%] Nokia 1280, Điện Thoại ...     239.000   \n",
       "4  Điện Thoại Samsung Galaxy M12 (3GB/32GB) - Hãn...   3.490.000   \n",
       "\n",
       "      price_nondis  freeship  rating  rating_count monthly_sold  \\\n",
       "0  ₫1.400 - ₫6.700      True    4.83         616.0   5,4k/tháng   \n",
       "1       ₫3.990.000      True    4.95         926.0   1,8k/tháng   \n",
       "2      ₫21.990.000      True    4.84        1132.0   1,1k/tháng   \n",
       "3         ₫239.000     False    5.00           4.0    763/tháng   \n",
       "4       ₫3.490.000      True    4.93         715.0    715/tháng   \n",
       "\n",
       "    store_location  monthly_event favorite_product  shopee_mall discount_tag  \\\n",
       "0          Lào Cai          False        Yêu thích        False          NaN   \n",
       "1  TP. Hồ Chí Minh           True              NaN         True    15%\\nGIẢM   \n",
       "2  TP. Hồ Chí Minh           True              NaN         True    36%\\nGIẢM   \n",
       "3         Hưng Yên          False              NaN        False          NaN   \n",
       "4  TP. Hồ Chí Minh           True              NaN         True          NaN   \n",
       "\n",
       "                                         product_url  \\\n",
       "0  https://shopee.vn/Mi%E1%BA%BFng-d%C3%A1n-%C4%9...   \n",
       "1  https://shopee.vn/%C4%90i%E1%BB%87n-tho%E1%BA%...   \n",
       "2  https://shopee.vn/Apple-iPhone-11-64GB-i.88201...   \n",
       "3  https://shopee.vn/-H%C3%A0ng-Ch%C3%ADnh-H%C3%A...   \n",
       "4  https://shopee.vn/%C4%90i%E1%BB%87n-Tho%E1%BA%...   \n",
       "\n",
       "                                               image  ShopDacBiet  \n",
       "0  https://cf.shopee.vn/file/cd7f36d677941ad531a8...        False  \n",
       "1  https://cf.shopee.vn/file/41694acce229f8102e75...        False  \n",
       "2  https://cf.shopee.vn/file/b107f2e6167adb250100...        False  \n",
       "3  https://cf.shopee.vn/file/5d35156b434e236ee552...        False  \n",
       "4  https://cf.shopee.vn/file/a277200d45df2ef46c4a...        False  "
      ]
     },
     "metadata": {},
     "execution_count": 29
    }
   ],
   "metadata": {}
  },
  {
   "cell_type": "code",
   "execution_count": 230,
   "source": [
    "list_url = list(df['product_url'])\n",
    "print(f'Number of url: {len(list_url)}')\n",
    "list_url"
   ],
   "outputs": [
    {
     "output_type": "stream",
     "name": "stdout",
     "text": [
      "Number of url: 2078\n"
     ]
    },
    {
     "output_type": "execute_result",
     "data": {
      "text/plain": [
       "['https://shopee.vn/Mi%E1%BA%BFng-d%C3%A1n-%C4%91i%E1%BB%87n-tho%E1%BA%A1i-may-m%E1%BA%AFn-lung-linh-ph%C3%B9-h%E1%BB%A3p-c%C3%A1c-d%C3%B2ng-m%C3%A1y-i.157579372.6793129121?position=0',\n",
       " 'https://shopee.vn/%C4%90i%E1%BB%87n-tho%E1%BA%A1i-Vivo-Y20-(2021)-4GB-64GB-H%C3%A0ng-ch%C3%ADnh-h%C3%A3ng-i.69897724.9570657944?position=1',\n",
       " 'https://shopee.vn/Apple-iPhone-11-64GB-i.88201679.5600084939?position=2',\n",
       " 'https://shopee.vn/-H%C3%A0ng-Ch%C3%ADnh-H%C3%A3ng-100-Nokia-1280-%C4%90i%E1%BB%87n-Tho%E1%BA%A1i-Nokia1280-Zin-Ch%C3%ADnh-H%C3%A3ng-%C4%90%E1%BB%A7-Ph%E1%BB%A5-Ki%E1%BB%87n-Pin-S%C3%A0i-C%E1%BA%A3-Tu%E1%BA%A7n-i.241243428.12508961420?position=3',\n",
       " 'https://shopee.vn/%C4%90i%E1%BB%87n-Tho%E1%BA%A1i-Samsung-Galaxy-M12-(3GB-32GB)-H%C3%A3ng-Ph%C3%A2n-Ph%E1%BB%91i-Ch%C3%ADnh-Th%E1%BB%A9c-i.65589552.6685849255?position=4',\n",
       " 'https://shopee.vn/%C4%90i%E1%BB%87n-tho%E1%BA%A1i-Mini-L8STAR-BM10-(-Nokia-3310-)-2-sim-2-s%C3%B3ng-si%C3%AAu-nh%E1%BB%8F-%C4%91%E1%BB%95i-gi%E1%BB%8Dng-n%C3%B3i-k%E1%BA%BFt-n%E1%BB%91i-BT-Nghe-Nh%E1%BA%A1c-mp3-i.86608834.2106797077?position=5',\n",
       " 'https://shopee.vn/%C4%90i%E1%BB%87n-Tho%E1%BA%A1i-Nokia-101-Nokia-100-Nokia-105-Zin-Ch%C3%ADnh-H%C3%A3ng-K%C3%A8m-Pin-S%E1%BA%A1c-i.1657913.1236186398?position=6',\n",
       " 'https://shopee.vn/%C4%90i%E1%BB%87n-tho%E1%BA%A1i-OPPO-A16-4GB-H%C3%A0ng-ch%C3%ADnh-h%C3%A3ng-i.458675969.9272220112?position=7',\n",
       " 'https://shopee.vn/%C4%90i%E1%BB%87n-Tho%E1%BA%A1i-Nghe-G%E1%BB%8Di-Nokia-105-Zin-Ch%C3%ADnh-H%C3%A3ng-BH-12-Th%C3%A1ng-K%C3%A8m-Pin-S%E1%BA%A1c-i.1657913.753117458?position=8',\n",
       " 'https://shopee.vn/%C4%90i%E1%BB%87n-Tho%E1%BA%A1i-Samsung-Galaxy-A12-(4GB-128GB)-H%C3%A0ng-Ch%C3%ADnh-H%C3%A3ng-i.65589552.8407312736?position=9',\n",
       " 'https://shopee.vn/%C4%90i%E1%BB%87n-Tho%E1%BA%A1i-Samsung-Galaxy-A32-(128GB-8GB)-H%C3%A0ng-Ch%C3%ADnh-H%C3%A3ng-i.65589552.9342556615?position=10',\n",
       " 'https://shopee.vn/%C4%90i%E1%BB%87n-tho%E1%BA%A1i-Nokia-mini-3310-si%C3%AAu-nh%E1%BB%8F-2-sim-2-s%C3%B3ng-h%E1%BB%97-tr%E1%BB%A3-blutooth-mp3-th%E1%BA%BB-nh%E1%BB%9B-thay-%C4%91%E1%BB%95i-gi%E1%BB%8Dng-n%C3%B3i-i.83847933.2091259840?position=11',\n",
       " 'https://shopee.vn/%C4%90i%E1%BB%87n-tho%E1%BA%A1i-Xiaomi-POCO-X3-PRO-6GB-128GB-i.191065034.4982865800?position=12',\n",
       " 'https://shopee.vn/%C4%90i%E1%BB%87n-Tho%E1%BA%A1i-Xiaomi-Redmi-K40-Gaming-Edition-h%C3%A0ng-nh%E1%BA%ADp-kh%E1%BA%A9u-i.134747469.8152421023?position=13',\n",
       " 'https://shopee.vn/%C4%90i%E1%BB%87n-tho%E1%BA%A1i-Vivo-Y1s-2GB-32GB-H%C3%A0ng-ch%C3%ADnh-h%C3%A3ng-i.69897724.4541960822?position=14',\n",
       " 'https://shopee.vn/Tr%C3%A2u-th%E1%BA%A7n-t%C3%A0i-M%C3%A8o-th%E1%BA%A7n-t%C3%A0i-m%E1%BA%A1-v%C3%A0ng-24k-%C4%91%E1%BB%83-v%C3%AD-%E1%BB%91p-%C4%91i%E1%BB%87n-tho%E1%BA%A1i-M%E1%BA%AAU-HOT-2021-i.61629434.3369884056?position=15',\n",
       " 'https://shopee.vn/%C4%90i%E1%BB%87n-Tho%E1%BA%A1i-Nokia-101-Nokia-105-M%C3%A1y-2-Sim-2-S%C3%B3ng-M%C3%A1y-Zin-%C4%90%E1%BB%A7-Ph%E1%BB%A5-Ki%E1%BB%87n-Pin-S%E1%BA%A1c-i.1657913.1605445818?position=16',\n",
       " 'https://shopee.vn/Nokia-e7-zin-ch%C3%ADnh-h%C3%A3ng.-V%E1%BB%8F-zin-i.61623136.2991646388?position=17',\n",
       " 'https://shopee.vn/Nokia-8600-zin-ch%C3%ADnh-h%C3%A3ng.-V%E1%BB%8F-zin-theo-m%C3%A1y-i.61623136.6138933143?position=18',\n",
       " 'https://shopee.vn/-CH%C3%8DNH-H%C3%83NG-Tai-Nghe-OPPO-F3-F5-F7-F9-F11-R11-R15-CH%C3%8DNH-H%C3%83NG-BH-1-%C4%90%E1%BB%94i-1-12-Th%C3%A1ng.-i.234729693.7043145752?position=19',\n",
       " 'https://shopee.vn/(C%C3%B3-Pin-S%E1%BA%A1c)-%C4%90i%E1%BB%87n-Tho%E1%BA%A1i-Nokia-1280-Zin-Ch%C3%ADnh-H%C3%A3ng-M%C3%A0n-H%C3%ACnh-Zin-Main-Zin-C%C3%B3-Video-i.1657913.938839622?position=20',\n",
       " 'https://shopee.vn/%C4%90i%E1%BB%87n-Tho%E1%BA%A1i-Vsmart-Joy-4-4GB-64GB-H%C3%A0ng-Ch%C3%ADnh-H%C3%A3ng-i.193124085.6654044618?position=21',\n",
       " 'https://shopee.vn/%C4%90i%E1%BB%87n-tho%E1%BA%A1i-LG-V50-ThinQ-3-Camera-b%E1%BA%A3n-H%C3%A0n-Qu%E1%BB%91c-ram-6G-128G-Snap855-Chi%E1%BA%BFn-PUBG-Li%C3%AAn-Q-i.24876825.9076180614?position=22',\n",
       " 'https://shopee.vn/Nokia-3310-Zin-Ch%C3%ADnh-H%C3%A3ng-%C4%90i%E1%BB%87n-Tho%E1%BA%A1i-Nokia-3310-Bin-B%E1%BB%81n-Nghe-G%E1%BB%8Di-To-R%C3%B5-B%E1%BA%A3o-H%C3%A0nh-12-Th%C3%A1ng-TU%C3%82N-H%C6%AFNG-Y%C3%8AN-i.241243428.4850205984?position=23',\n",
       " 'https://shopee.vn/%C4%90i%E1%BB%87n-Tho%E1%BA%A1i-Realme-Q3-Pro-6-128-8-128GB-Khang-Nhung-H%C3%A0ng-nh%E1%BA%ADp-kh%E1%BA%A9u-i.39104237.10841317627?position=24',\n",
       " 'https://shopee.vn/%C4%90i%E1%BB%87n-Tho%E1%BA%A1i-Samsung-Galaxy-A71-8GB-128GB-H%C3%A0ng-Ch%C3%ADnh-H%C3%A3ng-i.65589552.7116610361?position=25',\n",
       " 'https://shopee.vn/%C4%90i%E1%BB%87n-tho%E1%BA%A1i-Realme-V15-5G-6-128Gb-H%C3%A0ng-nh%E1%BA%ADp-kh%E1%BA%A9u-i.134747469.9319371211?position=26',\n",
       " 'https://shopee.vn/%C4%90i%E1%BB%87n-tho%E1%BA%A1i-Realme-C21Y-4GB-i.130961937.13101143285?position=27',\n",
       " 'https://shopee.vn/%C4%90i%E1%BB%87n-tho%E1%BA%A1i-Mini-nh%E1%BB%8F-g%E1%BB%8Dn-2-sim-k%E1%BA%BFt-n%E1%BB%91i-blutus-i.95642495.1950625875?position=28',\n",
       " 'https://shopee.vn/%C4%90i%E1%BB%87n-tho%E1%BA%A1i-Samsung-Galaxy-S20-FE-(8GB-256GB)-H%C3%A0ng-Ch%C3%ADnh-H%C3%A3ng-i.65589552.9980498489?position=29',\n",
       " 'https://shopee.vn/%C4%90i%E1%BB%87n-tho%E1%BA%A1i-Samsung-Galaxy-Note-10-256GB-i.65589552.2632230916?position=30',\n",
       " 'https://shopee.vn/%C4%90i%E1%BB%87n-Tho%E1%BA%A1i-Mini-3310-L8Star-BM10-2-Sim-2-S%C3%B3ng-H%E1%BB%97-Tr%E1%BB%A3-Th%E1%BA%BB-Nh%E1%BB%9B-Full-M%C3%A0u-(-%C4%90en-H%E1%BB%93ng-%C4%90%E1%BB%8F-X%C3%A1m-V%C3%A0ng-)-i.75417885.2111585603?position=31',\n",
       " 'https://shopee.vn/%C4%90i%E1%BB%87n-tho%E1%BA%A1i-Samsung-Galaxy-A22-(6GB-128GB)-i.65589552.7297413303?position=32',\n",
       " 'https://shopee.vn/Apple-iPhone-12-Pro-Max-128GB-i.88201679.6360756336?position=33',\n",
       " 'https://shopee.vn/%C4%90i%E1%BB%87n-tho%E1%BA%A1i-OPPO-A54-(4GB-128GB)-H%C3%A0ng-Ch%C3%ADnh-H%C3%A3ng-i.458675969.8581331327?position=34',\n",
       " 'https://shopee.vn/m%C3%A1y-c%C5%A9-gi%C3%A1-r%E1%BA%BB-oppo-neo5-ram-1gb-i.178181467.4451525706?position=35',\n",
       " 'https://shopee.vn/Gi%C3%A1-%C4%91%E1%BB%A1-%C4%91i%E1%BB%87n-tho%E1%BA%A1i-%C4%91%E1%BB%83-b%C3%A0n-gi%C3%A1-%C4%91%E1%BB%A1-th%C3%B4ng-minh-nh%E1%BB%8F-g%E1%BB%8Dn-b%E1%BB%8F-t%C3%BAi-%C4%91a-n%C4%83ng-ti%E1%BB%87n-l%E1%BB%A3i-s%E1%BB%AD-d%E1%BB%A5ng-i.131690630.10250454670?position=36',\n",
       " 'https://shopee.vn/%C4%90i%E1%BB%87n-tho%E1%BA%A1i-Xiaomi-Mi11-8-128-k%C3%A8m-b%E1%BB%99-s%E1%BA%A1c-nhanh-i.199249933.8307280432?position=37',\n",
       " 'https://shopee.vn/%C4%90i%E1%BB%87n-tho%E1%BA%A1i-Samsung-Galaxy-A02s-(4GB-64GB)-i.65589552.10126341638?position=38',\n",
       " 'https://shopee.vn/%C4%90i%E1%BB%87n-tho%E1%BA%A1i-OPPO-A54-(4GB-128GB)-H%C3%A0ng-Ch%C3%ADnh-H%C3%A3ng-i.458675969.9981330746?position=39',\n",
       " 'https://shopee.vn/%C4%90i%E1%BB%87n-tho%E1%BA%A1i-mini-L8STAR-3310-2-sim-2-s%C3%B3ng-%C4%91%E1%BA%A3m-b%E1%BA%A3o-%C4%91%C3%BAng-h%C3%ACnh-100-BH-6-th%C3%A1ng-1-%C4%91%E1%BB%95i-1-trong-v%C3%B2ng-7-ng%C3%A0y-i.132136656.2091893162?position=40',\n",
       " 'https://shopee.vn/%C4%90i%E1%BB%87n-tho%E1%BA%A1i-OPPO-A15s-(4GB-64GB)-H%C3%A0ng-Ch%C3%ADnh-H%C3%A3ng-i.458675969.10011334725?position=41',\n",
       " 'https://shopee.vn/Mi%E1%BA%BFng-D%C3%A1n-%C4%90i%E1%BB%87n-Tho%E1%BA%A1i-%C4%90%E1%BA%B9p-Lung-Linh-%E2%9A%A1%EF%B8%8F%F0%9D%90%85%F0%9D%90%91%F0%9D%90%84%F0%9D%90%84%F0%9D%90%92%F0%9D%90%87%F0%9D%90%88%F0%9D%90%8F%E2%9A%A1%EF%B8%8F-Ph%C3%B9-H%E1%BB%A3p-V%E1%BB%9Bi-T%E1%BA%A5t-C%E1%BA%A3-C%C3%A1c-D%C3%B2ng-%C4%90i%E1%BB%87n-Tho%E1%BA%A1i-i.35363715.12510385392?position=42',\n",
       " 'https://shopee.vn/%C4%90i%E1%BB%87n-tho%E1%BA%A1i-Xiaomi-Redmi-K40-Gaming-Enhanced-Edition-6-128-12-128GB-H%C3%A0ng-nh%E1%BA%ADp-kh%E1%BA%A9u-i.52809472.12402915522?position=43',\n",
       " 'https://shopee.vn/%C4%90i%E1%BB%87n-tho%E1%BA%A1i-OPPO-A54-(6GB-128GB)-H%C3%A0ng-Ch%C3%ADnh-H%C3%A3ng-i.458675969.13009311719?position=44',\n",
       " 'https://shopee.vn/%C4%90i%E1%BB%87n-Tho%E1%BA%A1i-Xiaomi-POCO-M3-64GB-H%C3%A0ng-Ch%C3%ADnh-H%C3%A3ng-i.53452181.10214585155?position=45',\n",
       " 'https://shopee.vn/%C4%90i%E1%BB%87n-tho%E1%BA%A1i-Vsmart-Joy-4-(4GB-64GB)-H%C3%A0ng-ch%C3%ADnh-h%C3%A3ng-i.407016717.9930204589?position=46',\n",
       " 'https://shopee.vn/%C4%90i%E1%BB%87n-tho%E1%BA%A1i-POCO-F3-(6GB-128GB)-i.191065034.10503840526?position=47',\n",
       " 'https://shopee.vn/%C4%90i%E1%BB%87n-tho%E1%BA%A1i-Vsmart-Joy-4-(4GB-64GB)-H%C3%A0ng-ch%C3%ADnh-h%C3%A3ng-i.331695868.4962557783?position=48',\n",
       " 'https://shopee.vn/%C4%90i%E1%BB%87n-tho%E1%BA%A1i-Xiaomi-Redmi-Note-3-Pro-2-Sim-Snap-650-M%C3%A0n-5.5-inch-i.49282974.1488375003?position=49',\n",
       " 'https://shopee.vn/%C4%90i%E1%BB%87n-Tho%E1%BA%A1i-Samsung-Galaxy-S21-Ultra-5G-(12GB-128GB)-H%C3%A0ng-Ch%C3%ADnh-H%C3%A3ng-i.65589552.9806110860?position=50',\n",
       " 'https://shopee.vn/%C4%90i%E1%BB%87n-tho%E1%BA%A1i-Xiaomi-Redmi-K40-6-128-nguy%C3%AAn-seal-i.199249933.9429978469?position=51',\n",
       " 'https://shopee.vn/%C4%90i%E1%BB%87n-tho%E1%BA%A1i-mini-nokia-3310-2-sim-2-s%C3%B3ng-c%E1%BB%B1c-kh%E1%BB%8Fe-h%E1%BB%97-tr%E1%BB%A3-nghe-nh%E1%BA%A1c-mp3-gi%E1%BA%A3-gi%E1%BB%8Dng-thay-th%E1%BA%BF-tai-nghe-blutooth-i.86399874.2091350373?position=52',\n",
       " 'https://shopee.vn/M%C3%A8o-th%E1%BA%A7n-t%C3%A0i-Tr%C3%A2u-th%E1%BA%A7n-t%C3%A0i-m%E1%BA%A1-v%C3%A0ng-24k-%C4%91%E1%BB%83-v%C3%AD-%E1%BB%91p-%C4%91i%E1%BB%87n-tho%E1%BA%A1i-M%E1%BA%AAU-HOT-2021-i.63214216.6669785980?position=53',\n",
       " 'https://shopee.vn/-M%C3%A3-SKAMSALE10-gi%E1%BA%A3m-10-%C4%91%C6%A1n-200K-%C4%90i%E1%BB%87n-tho%E1%BA%A1i-Samsung-Galaxy-A12-(4GB-128GB)-H%C3%A0ng-ch%C3%ADnh-h%C3%A3ng-i.40757878.6970564259?position=54',\n",
       " 'https://shopee.vn/%C4%90i%E1%BB%87n-Tho%E1%BA%A1i-Xiaomi-Redmi-Note-10S-(8GB-128GB)-H%C3%A0ng-Ch%C3%ADnh-H%C3%A3ng-i.340431675.10006406047?position=55',\n",
       " 'https://shopee.vn/%C4%90i%E1%BB%87n-Tho%E1%BA%A1i-Samsung-Galaxy-A72-(8GB-128GB)-H%C3%A0ng-Ch%C3%ADnh-H%C3%A3ng-i.65589552.10919847886?position=56',\n",
       " 'https://shopee.vn/%C4%90i%E1%BB%87n-tho%E1%BA%A1i-XIAOMI-POCO-X3-PRO-6.67-SNAP-860-6G-128G-48-8-2-2MP-20MP-5160mAh-H%C3%A0ng-ch%C3%ADnh-h%C3%A3ng-Digiworld-i.340431675.9634308263?position=57',\n",
       " 'https://shopee.vn/%C4%90i%E1%BB%87n-Tho%E1%BA%A1i-Nokia-105-Dual-Sim-(2019)-H%C3%A0ng-Ch%C3%ADnh-H%C3%A3ng-i.66829677.3553244494?position=58',\n",
       " 'https://shopee.vn/%C4%90i%E1%BB%87n-tho%E1%BA%A1i-Sony-Xperia-XZ2-Snap-845-4-64Gb-Camera-n%C3%A9t-c%E1%BA%A5u-h%C3%ACnh-kh%E1%BB%A7ng-i.30580603.7945420645?position=59',\n",
       " 'https://shopee.vn/%C4%90i%E1%BB%87n-Tho%E1%BA%A1i-Nokia-105-Single-Sim-(2019)-H%C3%A0ng-Ch%C3%ADnh-H%C3%A3ng-i.66829677.4553148635?position=60',\n",
       " 'https://shopee.vn/-M%C3%A3-SKAMSALE10-gi%E1%BA%A3m-10-%C4%91%C6%A1n-200K-%C4%90i%E1%BB%87n-tho%E1%BA%A1i-Vsmart-Joy-4-(4GB-64GB)-H%C3%A0ng-ch%C3%ADnh-h%C3%A3ng-i.40757878.7053767044?position=61',\n",
       " 'https://shopee.vn/%C4%90i%E1%BB%87n-tho%E1%BA%A1i-Brown-1-2G-16G-13mp-8mp-android-7-C%E1%BA%A3m-bi%E1%BA%BFn-v%C3%A2n-tay-i.53718300.5752565045?position=62',\n",
       " 'https://shopee.vn/%C4%90i%E1%BB%87n-Tho%E1%BA%A1i-Ng%C6%B0%E1%BB%9Di-%08Gi%C3%A0-Masstel-Fami-11-Loa-To-FM-Kh%C3%B4ng-D%C3%A2y-%C4%90%E1%BB%8Dc-S%E1%BB%91-B%E1%BA%B1ng-Gi%E1%BB%8Dng-N%C3%B3i-...-CH%C3%8DNH-H%C3%83NG--i.256310525.4856449214?position=63',\n",
       " 'https://shopee.vn/K%E1%BA%B9p-%C4%91i%E1%BB%87n-tho%E1%BA%A1i-iPad-%C4%91a-n%C4%83ng-si%C3%AAu-b%E1%BB%81n-i.493470973.4195138844?position=64',\n",
       " 'https://shopee.vn/Nokia-1110i-Ch%C3%ADnh-H%C3%A3ng-%C4%90i%E1%BB%87n-Tho%E1%BA%A1i-Ph%E1%BB%95-Th%C3%B4ng-Gi%C3%A1-R%E1%BA%BB-Nokia-1110i-B%E1%BA%A3o-H%C3%A0nh-12-Th%C3%A1ng-i.241243428.13008961462?position=65',\n",
       " 'https://shopee.vn/Jack-chuy%E1%BB%83n-%C4%91%E1%BB%95i-tai-nghe-3.5-sang-Audio-Mic-d%C3%B9ng-tr%C3%AAn-laptop-m%C3%A1y-t%C3%ADnh-C%C3%A1p-Chia-3.5mm(-%C4%91en-%C4%91%E1%BB%8F)-i.448190108.5697697492?position=66',\n",
       " 'https://shopee.vn/-H%C3%A0ng-Ch%C3%ADnh-H%C3%A3ng-100-Nokia1280-%C4%90i%E1%BB%87n-Tho%E1%BA%A1i-Nokia1280-Zin-Ch%C3%ADnh-H%C3%A3ng-%C4%90%E1%BB%A7-Ph%E1%BB%A5-Ki%E1%BB%87n-Pin-S%C3%A0i-C%E1%BA%A3-Tu%E1%BA%A7n-i.434360904.9974000725?position=67',\n",
       " 'https://shopee.vn/%C4%90i%E1%BB%87n-Tho%E1%BA%A1i-Vsmart-Star-5-4GB-64GB-H%C3%A0ng-Ch%C3%ADnh-H%C3%A3ng-i.193124085.10722269768?position=68',\n",
       " 'https://shopee.vn/%C4%90i%E1%BB%87n-Tho%E1%BA%A1i-Xiaomi-Redmi-K40-Gaming-Edition-Ram-12G-128GB-Nguy%C3%AAn-seal-i.230383794.8265804412?position=69',\n",
       " 'https://shopee.vn/-Ch%C3%ADnh-H%C3%A3ng-100-nokia6300-%C4%90%E1%BB%A7-M%C3%A0u-%C4%90i%E1%BB%87n-Tho%E1%BA%A1i-Nokia-6300-Zin-Ch%C3%ADnh-H%C3%A3ng-B%E1%BA%A3o-H%C3%A0nh-12-Th%C3%A1ng-TU%C3%82N-H%C6%AFNG-Y%C3%8AN-i.241243428.8850810871?position=70',\n",
       " 'https://shopee.vn/-R%E1%BA%BB-V%C3%B4-%C4%90%E1%BB%8Bch-_Nokia-e72_%C4%90i%E1%BB%87n-Tho%E1%BA%A1i-C%E1%BB%95-Nokia-E72-Wifi-Zin-M%E1%BB%9Bi-%C4%90i%E1%BB%87n-Ch%C3%ADnh-H%C3%A3ng-B%E1%BA%A3o-H%C3%A0nh-12-Th%C3%A1ng-i.241243428.3487956868?position=71',\n",
       " 'https://shopee.vn/%C4%90i%E1%BB%87n-tho%E1%BA%A1i-Xiaomi-Redmi-4A-2-sim-M%C3%A0n-5-inch-pin-t%E1%BB%91t-i.49282974.4051529577?position=72',\n",
       " 'https://shopee.vn/%C4%90i%E1%BB%87n-tho%E1%BA%A1i-pixel-3-Ram-4-64Gb-snap845-ch%E1%BB%A5p-%E1%BA%A3nh-si%C3%AAu-%C4%91%E1%BA%B9p-i.30580603.8930236009?position=73',\n",
       " 'https://shopee.vn/%C4%90i%E1%BB%87n-Tho%E1%BA%A1i-Nokia-1280-%C4%90%E1%BB%99-Led-%C4%90%E1%BA%B9p-10-B%C3%B3ng-(M%C3%A1y-Pin-S%E1%BA%A1c)-i.1657913.375676547?position=74',\n",
       " 'https://shopee.vn/%C4%90i%E1%BB%87n-tho%E1%BA%A1i-Xiaomi-Redmi-Note-10-Pro-ch%C3%ADnh-h%C3%A3ng-b%E1%BA%A3o-h%C3%A0nh-to%C3%A0n-qu%E1%BB%91c-18-th%C3%A1ng-i.199249933.9533668828?position=75',\n",
       " 'https://shopee.vn/%C4%90i%E1%BB%87n-Tho%E1%BA%A1i-Samsung-Galaxy-M12-(4GB-64GB)-H%C3%A3ng-Ph%C3%A2n-Ph%E1%BB%91i-Ch%C3%ADnh-Th%E1%BB%A9c-i.2849350.10810843653?position=76',\n",
       " 'https://shopee.vn/%C4%90i%E1%BB%87n-tho%E1%BA%A1i-5g-qu%E1%BB%91c-t%E1%BA%BF-gi%C3%A1-r%E1%BA%BB-16gb-32gb-c%C3%B3-ph%E1%BB%A5-ki%E1%BB%87n-fullbox-freeship-i.498394281.12616214332?position=77',\n",
       " 'https://shopee.vn/%C4%90i%E1%BB%87n-Tho%E1%BA%A1i-Samsung-Galaxy-M62-8GB-256GB-H%C3%A0ng-Ch%C3%ADnh-H%C3%A3ng-i.65589552.6691198569?position=78',\n",
       " 'https://shopee.vn/%C4%90i%E1%BB%87n-Tho%E1%BA%A1i-Vsmart-Aris-Vsmart-Aris-Pro-(-8GB-128GB-)-H%C3%A0ng-Ch%C3%ADnh-H%C3%A3ng-i.71791006.3957685760?position=79',\n",
       " 'https://shopee.vn/%C4%90i%E1%BB%87n-tho%E1%BA%A1i-Realme-Q3-Pro-8-128-Gb-nguy%C3%AAn-seal-b%E1%BA%A3o-h%C3%A0nh-1-n%C4%83m-i.199249933.3390325317?position=80',\n",
       " 'https://shopee.vn/%C4%90i%E1%BB%87n-tho%E1%BA%A1i-Nokia-105-Dual-SIM-(2-sim)-v%C3%A0-1-sim-H%C3%A0ng-Ch%C3%ADnh-h%C3%A3ng-m%C3%A1y-c%C5%A9-%C4%91%C3%A3-bao-g%E1%BB%93m-bin-s%E1%BA%A1c-i.345162160.8460623217?position=81',\n",
       " 'https://shopee.vn/%C4%90i%E1%BB%87n-tho%E1%BA%A1i-Nokia-mini-3310-si%C3%AAu-nh%E1%BB%8F-2-sim-2-s%C3%B3ng-h%E1%BB%97-tr%E1%BB%A3-blutooth-mp3-th%E1%BA%BB-nh%E1%BB%9B-thay-%C4%91%E1%BB%95i-gi%E1%BB%8Dng-n%C3%B3i-b%E1%BA%A3o-h%C3%A0nh-12-th%C3%A1ng-i.30054659.3396490654?position=82',\n",
       " 'https://shopee.vn/%C4%90i%C3%AA%CC%A3n-thoa%CC%A3i-ip5-16GB-c%C3%A2%CC%81u-hi%CC%80nh-ma%CC%A3nh.ch%C6%A1i-game-ho%CC%A3c-zoom.va%CC%80o-ma%CC%A3ng.Ba%CC%89o-ha%CC%80nh-12-tha%CC%81ng-i.498389273.13215542899?position=83',\n",
       " 'https://shopee.vn/%C4%90i%E1%BB%87n-tho%E1%BA%A1i-Xiaomi-Redmi-Note-4X-MIUI-11-ti%E1%BA%BFng-Vi%E1%BB%87t-i.49282974.1550180834?position=84',\n",
       " 'https://shopee.vn/%C4%90i%E1%BB%87n-Tho%E1%BA%A1i-Nokia-105-B%E1%BA%A3n-2-Sim-Zin-Ch%C3%ADnh-H%C3%A3ng-%C4%90%C6%B0%E1%BB%A3c-Ch%E1%BB%8Dn-Ph%E1%BB%A5-Ki%E1%BB%87n-Khi-%C4%90%E1%BA%B7t-H%C3%A0ng-i.1657913.1802173361?position=85',\n",
       " 'https://shopee.vn/%C4%91i%E1%BB%87n-tho%E1%BA%A1i-Xiaomi-Redmi-5-Plus-2sim-ram-3G-32G-ram4-64g-m%E1%BB%9Bi-Ch%C3%ADnh-H%C3%A3ng-c%C3%B3-Ti%E1%BA%BFng-Vi%E1%BB%87t-i.242263416.3678508670?position=86',\n",
       " 'https://shopee.vn/%C4%90i%E1%BB%87n-Tho%E1%BA%A1i-Nokia-1280-Zin-L%C3%AAn-S%C6%B0%E1%BB%9Dn-V%E1%BB%8F-Trong-Su%E1%BB%91t-C%C3%B3-Pin-S%E1%BA%A1c-i.1657913.7607042170?position=87',\n",
       " 'https://shopee.vn/%C4%90i%E1%BB%87n-Tho%E1%BA%A1i-Nokia-105-B%E1%BA%A3n-2017-2019-1-Sim-or-2-Sim-K%C3%A8m-Pin-S%E1%BA%A1c-i.1657913.4671213508?position=88',\n",
       " 'https://shopee.vn/%C4%90i%E1%BB%87n-tho%E1%BA%A1i-TECNO-POVA2-(4GB-64GB)-H%C3%A0ng-ch%C3%ADnh-h%C3%A3ng-i.453347243.9764742653?position=89',\n",
       " 'https://shopee.vn/%C4%90I%E1%BB%86N-THO%E1%BA%A0I-NOKIA-6300-CH%C3%8DNH-H%C3%83NG-SI%C3%8AU-B%E1%BB%80N-B%E1%BA%A2O-H%C3%80NH-18-TH%C3%81NG-C%C3%B3-imeil-tr%C3%B9ng-i.101299832.5442089242?position=90',\n",
       " 'https://shopee.vn/%C4%90i%E1%BB%87n-Tho%E1%BA%A1i-POCO-X3-Pro-6GB-128GB-pin-5160-mAh-Android-11-Qualcomm%C2%AE-Snapdragon%E2%84%A2-860-(7nm)-B%E1%BA%A3o-h%C3%A0nh-18-th%C3%A1ng-ch%C3%ADnh-h%C3%A3ng-i.252710995.9835389503?position=91',\n",
       " 'https://shopee.vn/%C4%90i%E1%BB%87n-tho%E1%BA%A1i-Vsmart-Star-5-(4GB-64GB)-H%C3%A0ng-ch%C3%ADnh-h%C3%A3ng-i.40757878.9930582107?position=92',\n",
       " 'https://shopee.vn/%C4%90i%E1%BB%87n-tho%E1%BA%A1i-Sony-Xperia-XZ1-64G-b%E1%BA%A3n-Nh%E1%BA%ADt-QT-Snap-835-4G-i.49282974.2521259776?position=93',\n",
       " 'https://shopee.vn/%C4%90i%E1%BB%87n-tho%E1%BA%A1i-Vivo-Y51-ram-2G-16G-Snap-410-M%C3%A0n-5.0-i.49282974.8482338206?position=94',\n",
       " 'https://shopee.vn/%C4%90i%E1%BB%87n-tho%E1%BA%A1i-Tecno-Pova-2-(4GB-64GB)-Pin-7000-mAh-6.9-FHD-MTK-Helio-G85-BH-13-Th%C3%A1ng-i.442733715.8361894676?position=95',\n",
       " 'https://shopee.vn/Nokia-e72-%E2%98%85Ch%C3%ADnh-H%C3%A3ng-100-%E2%98%85-%C4%90i%E1%BB%87n-Tho%E1%BA%A1i-Nokia-E72-B%E1%BA%AFt-Wifi-Ch%C6%A1i-Game-%C4%90i%E1%BB%87n-Tho%E1%BA%A1i-Ph%E1%BB%95-Th%C3%B4ng-Ch%C3%ADnh-H%C3%A3ng-B%E1%BA%A3o-H%C3%A0nh-12-Th%C3%A1ng-i.116554044.9116667246?position=96',\n",
       " 'https://shopee.vn/%C4%90i%E1%BB%87n-Tho%E1%BA%A1i-3G-Nokia-215-Nokia-216-Nokia-220-Nokia-150-(2-Sim)-Main-Zin-C%C3%B4ng-Ty-Like-New-K%C3%A8m-Pin-S%E1%BA%A1c-i.1657913.9330581709?position=97',\n",
       " 'https://shopee.vn/%C4%90i%E1%BB%87n-Tho%E1%BA%A1i-OPPO-RENO6-Z-5G-(8GB-128GB)-H%C3%A0ng-Ch%C3%ADnh-H%C3%A3ng-i.25452983.9678779700?position=98',\n",
       " 'https://shopee.vn/-R%E1%BA%BB-V%C3%B4-%C4%90%E1%BB%8Bch-%C4%90i%E1%BB%87n-tho%E1%BA%A1i-samsung-galaxy-G530-ch%C3%ADnh-h%C3%A3ng-%C4%91%E1%BA%B9p-zin-i.113506450.4488480836?position=99',\n",
       " 'https://shopee.vn/-T%E1%BA%B7ng-K%C3%A8m-1-Khay-M%C3%A1y-%C4%91i%E1%BB%87n-tho%E1%BA%A1i-k%C3%ADch-sim-i.66575073.3128808599?position=100',\n",
       " 'https://shopee.vn/%C4%90i%E1%BB%87n-tho%E1%BA%A1i-iPhone-8-b%E1%BA%A3n-qu%E1%BB%91c-t%E1%BA%BF-M%E1%BB%B9-zin-%C4%91%E1%BA%B9p-%C4%91%E1%BA%A7y-%C4%91%E1%BB%A7-c%C3%A1c-m%C3%A0u-s%E1%BA%AFc-V%C3%A0ng-%C4%90%E1%BB%8F-Tr%E1%BA%AFng-%C4%90en-t%C6%B0%C6%A1ng-%E1%BB%A9ng-b%E1%BB%99-nh%E1%BB%9B-64-256GB-i.242140455.13120282934?position=101',\n",
       " 'https://shopee.vn/(C%C3%B3-Pin-S%E1%BA%A1c)-Nokia-101-2-Sim-Nghe-Nh%E1%BA%A1c-B%E1%BA%A3o-H%C3%A0nh-12-Th%C3%A1ng-Gi%C3%A1-Chu%E1%BA%A9n-Ch%E1%BA%A5t-L%C6%B0%E1%BB%A3ng-Chu%E1%BA%A9n-i.34655911.1763992044?position=102',\n",
       " 'https://shopee.vn/%C4%90i%E1%BB%87n-tho%E1%BA%A1i-Xiaomi-Redmi-9T-(4GB-64GB)-H%C3%A0ng-ch%C3%ADnh-h%C3%A3ng-i.331695868.11009098546?position=103',\n",
       " 'https://shopee.vn/-B%E1%BA%A2O-H%C3%80NH-%C4%90i%E1%BB%87n-Tho%E1%BA%A1i-Oppo-A83-Ram-3GB-Selfie-C%E1%BB%B1c-%C4%90%E1%BA%B9p-B%E1%BA%A3o-H%C3%A0nh-3-Th%C3%A1ng-i.476550666.9272039551?position=104',\n",
       " 'https://shopee.vn/%C4%90i%E1%BB%87n-tho%E1%BA%A1i-Sony-Xperia-Z5-32G-v%C3%A2n-tay-1-ch%E1%BA%A1m-i.49282974.1197785684?position=105',\n",
       " 'https://shopee.vn/%C4%90i%E1%BB%87n-tho%E1%BA%A1i-NOKIA-105(2017)-%E1%BA%A2nh-th%E1%BA%ADt-i.110712093.9975111966?position=106',\n",
       " 'https://shopee.vn/-GI%C3%81-S%E1%BB%90C-%F0%9F%93%B1%C4%90i%E1%BB%87n-Tho%E1%BA%A1i-Vivo-Y67-Camera-Si%C3%AAu-N%C3%A9t-ch%C6%A1i-li%C3%AAn-qu%C3%A2n-m%C6%B0%E1%BB%A3t%F0%9F%93%B1-Gi%C3%A1-r%E1%BA%BB-s%E1%BB%91c-i.476550666.8972056983?position=107',\n",
       " 'https://shopee.vn/%C4%90i%E1%BB%87n-Tho%E1%BA%A1i-Samsung-A12-4GB-128GB-H%C3%A0ng-Ch%C3%ADnh-H%C3%A3ng-i.193124085.8307440556?position=108',\n",
       " 'https://shopee.vn/Apple-iPhone-12-64GB-i.288286284.3264568509?position=109',\n",
       " 'https://shopee.vn/%C4%90i%E1%BB%87n-tho%E1%BA%A1i-Tecno-Pova-2-(6GB-128GB)-Pin-7000-mAh-6.9-FHD-MTK-Helio-G85-BH-13-Th%C3%A1ng-i.442733715.8561895304?position=110',\n",
       " 'https://shopee.vn/%C4%90i%E1%BB%87n-tho%E1%BA%A1i-TECNO-POVA2-(6GB-128GB)-H%C3%A0ng-ch%C3%ADnh-h%C3%A3ng-i.453347243.10610052826?position=111',\n",
       " 'https://shopee.vn/%C4%90i%E1%BB%87n-tho%E1%BA%A1i-7G-lock-32-128-zin-%C4%91%E1%BA%B9p-99--i.107071604.13610466716?position=112',\n",
       " 'https://shopee.vn/%C4%90i%E1%BB%87n-Tho%E1%BA%A1i-Realme-C11-2021-(2GB-32GB)-H%C3%A0ng-Ch%C3%ADnh-H%C3%A3ng-i.130961937.8272558898?position=113',\n",
       " 'https://shopee.vn/%C4%90I%E1%BB%86N-THO%E1%BA%A0I-NOKIA-1202-CH%C3%8DNH-H%C3%83NG-(-C%C5%A8-99-)-cam-k%E1%BA%BFt-m%C3%A1y-zin-s%E1%BA%A1c-i.345162160.8234342183?position=114',\n",
       " 'https://shopee.vn/%C4%90i%E1%BB%87n-tho%E1%BA%A1i-Samsung-Galaxy-A12-(4GB-128GB)-H%C3%A0ng-ch%C3%ADnh-h%C3%A3ng-i.331695868.7270542171?position=120',\n",
       " 'https://shopee.vn/Ph%C3%ADm-n%C3%BAt-home-iPhone-6-6-Plus-6S-6S-Plus-zin-b%C3%B3c-m%C3%A1y-i.110084472.2463588214?position=121',\n",
       " 'https://shopee.vn/%C4%90I%E1%BB%86N-THO%E1%BA%A0I-NG%C6%AF%E1%BB%9CI-CAO-TU%E1%BB%94I-VIETTEL-V6216-V6216i-X6126C-MASSTEL-FAMI-9-FAMI-11-FAMI-12-F50-i.14408514.2381365763?position=122',\n",
       " 'https://shopee.vn/%C4%90i%E1%BB%87n-Tho%E1%BA%A1i-Nokia-150-Dual-Sim-(2020)-H%C3%A0ng-Ch%C3%ADnh-H%C3%A3ng-i.66829677.5353154555?position=123',\n",
       " 'https://shopee.vn/%C4%90i%E1%BB%87n-tho%E1%BA%A1i-Samsung-Galaxy-A12-(4GB-128GB)-H%C3%A0ng-Ch%C3%ADnh-H%C3%A3ng-M%E1%BB%9Bi-100--i.281825590.3776230037?position=124',\n",
       " 'https://shopee.vn/-R%E1%BA%BB-V%C3%B4-%C4%90%E1%BB%8Bch-_-Nokia-6300_%C4%90i%E1%BB%87n-Tho%E1%BA%A1i-Nokia-6300-M%E1%BB%9Bi-Ch%C3%ADnh-H%C3%A3ng-%C4%90%E1%BB%A7-M%C3%A0u-B%E1%BA%A3o-H%C3%A0nh-12-Th%C3%A1ng-Chu%E1%BA%A9n-Uy-T%C3%ADn-TU%C3%82N-H%C6%AFNG-Y%C3%8AN-i.434360904.3387888379?position=125',\n",
       " 'https://shopee.vn/%C4%90i%E1%BB%87n-tho%E1%BA%A1i-Samsung-G530-m%E1%BB%9Bi-99-gi%C3%A1-r%E1%BA%BB-i.178181467.7152396911?position=126',\n",
       " 'https://shopee.vn/%C4%90i%E1%BB%87n-tho%E1%BA%A1i-I.P-7-32-128-lock-Qte-zin-all-i.44772106.12610515532?position=127',\n",
       " 'https://shopee.vn/%C4%90i%E1%BB%87n-tho%E1%BA%A1i-xiaomi-redmi-k40-Gaming-i.199249933.9784991025?position=128',\n",
       " 'https://shopee.vn/%C4%90i%E1%BB%87n-tho%E1%BA%A1i-2-sim-gi%C3%A1-r%E1%BA%BB-oppo-neo7-nh%C6%B0-m%E1%BB%9Bi-.-i.515162517.8090629691?position=129',\n",
       " 'https://shopee.vn/%C4%90ie%CC%A3%CC%82n-thoa%CC%A3i-iPhone-5C-quo%CC%82%CC%81c-te%CC%82%CC%81-chi%CC%81nh-ha%CC%83ng-appple-ba%CC%89o-ha%CC%80nh-6-tha%CC%81ng-%C4%91a%CC%82%CC%80y-%C4%91u%CC%89-chu%CC%9B%CC%81c-na%CC%86ng-i.397143264.13113483485?position=130',\n",
       " 'https://shopee.vn/%C4%90i%E1%BB%87n-tho%E1%BA%A1i-LG-V50-ThinQ-128G-RAM6G-5G-b%E1%BA%A3n-H%C3%A0n-1Sim-i.227329817.10152228724?position=131',\n",
       " 'https://shopee.vn/%C4%90i%E1%BB%87n-tho%E1%BA%A1i-Sony-XZ2-chip-845-chuy%C3%AAn-game-c%E1%BA%A5u-h%C3%ACnh-cao-i.204574220.9646964489?position=132',\n",
       " 'https://shopee.vn/-C%E1%BB%B0C-CH%E1%BA%A4T-%C4%90I%E1%BB%86N-THO%E1%BA%A0I-RED-SUN-6-KI50-4-SIM-pin-13800-mah-VV12-3SIM-4SIM-loa-to-ch%E1%BB%AF-to-(H%C3%80NG-CH%C3%8DNH-H%C3%83NG)-i.105747592.2509510055?position=133',\n",
       " 'https://shopee.vn/V%E1%BB%8F-x%C6%B0%C6%A1ng-ph%C3%ADm-%C4%91i%E1%BB%87n-tho%E1%BA%A1i-Nokia-1280-lo%E1%BA%A1i-x%E1%BB%8Bn-i.190057198.4253853217?position=134',\n",
       " 'https://shopee.vn/Tai-nghe-J7-J7-Prime-J7-Pro-h%C3%A0ng-ch%C3%ADnh-h%C3%A3ng-zin-b%C3%B3c-m%C3%A1y-gi%C3%A1-s%E1%BB%89-i.229121603.7073788645?position=135',\n",
       " 'https://shopee.vn/%C4%90I%E1%BB%86N-THO%E1%BA%A0I-7PLUS-LOCK-32G-128G-ZIN-ALL-i.107071604.13210854735?position=136',\n",
       " 'https://shopee.vn/%C4%90i%E1%BB%87n-tho%E1%BA%A1i-Sony-Xz2-64G-RAM4G-b%E1%BA%A3n-1-sim-i.227329817.12716314525?position=137',\n",
       " 'https://shopee.vn/%C4%90i%E1%BB%87n-tho%E1%BA%A1i-Nokia-105-Dual-Sim-2019-H%C3%A0ng-ch%C3%ADnh-h%C3%A3ng-i.40757878.2588141242?position=138',\n",
       " 'https://shopee.vn/%C4%90i%E1%BB%87n-Tho%E1%BA%A1i-Xiaomi-Redmi-9C-3GB-64GB-H%C3%A0ng-Ch%C3%ADnh-H%C3%A3ng-i.193124085.7249694468?position=139',\n",
       " 'https://shopee.vn/%C4%90i%E1%BB%87n-tho%E1%BA%A1i-Samsung-Galaxy-A12-(4GB-128GB)-H%C3%A0ng-ch%C3%ADnh-h%C3%A3ng-i.2849350.7176603061?position=140',\n",
       " 'https://shopee.vn/%C4%90i%E1%BB%87n-tho%E1%BA%A1i-Vsmart-Aris-(8GB-128GB)-H%C3%A0ng-Ch%C3%ADnh-H%C3%A3ng-i.23597245.4692719244?position=141',\n",
       " 'https://shopee.vn/%C4%90i%E1%BB%87n-tho%E1%BA%A1i-Xiaomi-Redmi-K40-5G-Ram-6Gb-B%E1%BB%99-nh%E1%BB%9B-128GB-H%C3%A0ng-nh%E1%BA%ADp-kh%E1%BA%A9u-i.134747469.9828705474?position=142',\n",
       " 'https://shopee.vn/%C4%90i%E1%BB%87n-tho%E1%BA%A1i-Sony-XZ2-Premium-64G-RAM6G-Zin-%C3%A1p-kh%C3%A1ng-n%C6%B0%E1%BB%9Bc-i.227329817.10452537662?position=143',\n",
       " 'https://shopee.vn/%C4%90i%E1%BB%87n-tho%E1%BA%A1i-di-%C4%91%E1%BB%99ng-Nokia-215-4G-Dual-Sim-(2020)-H%C3%A0ng-Ch%C3%ADnh-H%C3%A3ng-i.66829677.4563321256?position=144',\n",
       " 'https://shopee.vn/%C4%90i%E1%BB%87n-tho%E1%BA%A1i-iPhone-6S-b%E1%BA%A3n-qu%E1%BB%91c-t%E1%BA%BF-ch%C3%ADnh-h%C3%A3ng-zin-%C4%91%E1%BA%B9p-h%C3%ACnh-th%E1%BB%A9c-t%E1%BB%AB-90-%C4%91%E1%BA%BFn-99-%C4%91%E1%BA%A7y-%C4%91%E1%BB%A7-c%C3%A1c-m%C3%A0u-s%E1%BA%AFc-v%C3%A0-b%E1%BB%99-nh%E1%BB%9B00-i.242140455.12720282546?position=145',\n",
       " 'https://shopee.vn/%C4%90i%E1%BB%87n-tho%E1%BA%A1i-nokia-c2-01-m%E1%BA%A1ng-3G-(pin-s%E1%BA%A1c-th%E1%BA%BB-nh%E1%BB%9B)-ch%C3%ADnh-h%C3%A3ng-1-sim-i.20977279.1762902024?position=146',\n",
       " 'https://shopee.vn/%E1%BB%90p-iphone-M%C3%A8o-th%E1%BA%A7n-t%C3%A0i-Tr%C3%A2u-v%C3%A0ng-Iphone-6-%C4%91%E1%BA%BFn-12-Pro-max-M%C3%A8o-th%E1%BA%A7n-t%C3%A0i-rinh-t%C3%A0i-l%E1%BB%99c-T%C3%AD-chu%E1%BB%99t-i.138233819.6214192683?position=147',\n",
       " 'https://shopee.vn/%C4%90i%E1%BB%87n-Tho%E1%BA%A1i-Xiaomi-Redmi-K40-Gaming-Edition-si%C3%AAu-ph%E1%BA%A9m-Gaming-Phone-H%C3%A0ng-nh%E1%BA%ADp-kh%E1%BA%A9u-i.242986983.4392165314?position=148',\n",
       " 'https://shopee.vn/%C4%90i%E1%BB%87n-tho%E1%BA%A1i-i-phone-4-BH-3-th%C3%A1ng-qu%E1%BB%91c-t%E1%BA%BF-(-d%C3%A1n-s%E1%BA%B5n-c%C6%B0%E1%BB%9Dng-l%E1%BB%B1c-v%C3%A0-t%E1%BA%B7ng-c%C3%A1p-s%E1%BA%A1c-)-i.448296087.10051191490?position=149',\n",
       " 'https://shopee.vn/%C4%90i%E1%BB%87n-tho%E1%BA%A1i-lP-8-nh%E1%BB%8F-b%E1%BA%A3n-qu%E1%BB%91c-t%E1%BA%BF-M%E1%BB%B9-zin-%C4%91%E1%BA%B9p-%C4%91%E1%BA%A7y-%C4%91%E1%BB%A7-c%C3%A1c-m%C3%A0u-s%E1%BA%AFc-V%C3%A0ng-%C4%90%E1%BB%8F-Tr%E1%BA%AFng-%C4%90en-t%C6%B0%C6%A1ng-%E1%BB%A9ng-b%E1%BB%99-nh%E1%BB%9B-64-256GB-i.242140455.13316583005?position=150',\n",
       " 'https://shopee.vn/%C4%90i%E1%BB%87n-tho%E1%BA%A1i-SONY-Xperia-XZ3-64G-RAM4G-1-sim-i.227329817.12416413250?position=151',\n",
       " 'https://shopee.vn/Apple-iPhone-12-Pro-Max-128GB-i.288286284.6164437740?position=152',\n",
       " 'https://shopee.vn/%C4%90i%E1%BB%87n-tho%E1%BA%A1i-SONY-Xperia-XZ3-b%E1%BA%A3n-nh%E1%BA%ADt-Ram-4-ch%C3%ADp-845-1sim-i.227329817.11151263322?position=153',\n",
       " 'https://shopee.vn/%C4%90i%E1%BB%87n-tho%E1%BA%A1i-Xiaomi-POCO-X3-Pro-(6GB-128GB)-H%C3%A0ng-ch%C3%ADnh-h%C3%A3ng-i.2849350.9966005113?position=154',\n",
       " 'https://shopee.vn/%C4%90i%E1%BB%87n-tho%E1%BA%A1i-mini-2-sim-si%C3%AAu-d%E1%BB%85-th%C6%B0%C6%A1ng-7-m%C3%A0u-v%C3%A0ng-%C4%91%E1%BB%8F-cam-xanh-x%C3%A1m-h%E1%BB%93ng-%C4%91en-i.28763441.2089648338?position=155',\n",
       " 'https://shopee.vn/%C3%94%CC%81p-L%C6%B0ng-Ch%C3%B4%CC%81ng-va-%C4%91%C3%A2%CC%A3p-Redmi-K30-4g-5g-K40-K40-pro-i.13928634.7312453242?position=156',\n",
       " 'https://shopee.vn/%C4%90i%E1%BB%87n-tho%E1%BA%A1i-Vsmart-Joy-4-(6GB-64GB)-H%C3%A0ng-ch%C3%ADnh-h%C3%A3ng-i.407016717.10511892302?position=157',\n",
       " 'https://shopee.vn/%C4%90i%E1%BB%87n-Tho%E1%BA%A1i-itel-it2161-(-ACE-)-2-sim-B%E1%BA%A3o-h%C3%A0nh-12-th%C3%A1ng-i.392949477.3280508307?position=158',\n",
       " 'https://shopee.vn/%C4%90i%E1%BB%87n-tho%E1%BA%A1i-Sony-Xperia-1-64G-RAM6G-Snapdragon-855-b%E1%BA%A3n-nh%E1%BA%ADt-1-sim-i.227329817.13318367603?position=159',\n",
       " 'https://shopee.vn/%C4%90i%E1%BB%87n-tho%E1%BA%A1i-Nokia-1202-1280-%C4%90%E1%BB%99-10-B%C3%B3ng-Nh%C3%A1y-1-B%C3%B3ng-Led-7-M%C3%A0u-RGB-i.1657913.5512046636?position=160',\n",
       " 'https://shopee.vn/%C4%91i%E1%BB%87n-tho%E1%BA%A1i-Xiaomi-Redmi-6-2sim-ram-3G-32G-m%E1%BB%9Bi-Ch%C3%ADnh-h%C3%A3ng-Ti%E1%BA%BFng-Vi%E1%BB%87t-V%C3%82N-TAY-Chi%E1%BA%BFn-PUBG-Li%C3%AAn-Qu%C3%A2n-i.242263416.7079362564?position=161',\n",
       " 'https://shopee.vn/%C4%90i%E1%BB%87n-tho%E1%BA%A1i-SONY-Xperia-XZ3-b%E1%BA%A3n-nh%E1%BA%ADt-Ram-4-ch%C3%ADp-845-1-sim-i.71474818.8019379086?position=162',\n",
       " 'https://shopee.vn/%C4%90i%E1%BB%87n-tho%E1%BA%A1i-Google-Pixel-3-Android-11-si%C3%AAu-m%C6%B0%E1%BB%A3t-ch%E1%BB%A5p-%E1%BA%A3nh-%C4%91%E1%BA%B9p-i.204574220.8802113746?position=163',\n",
       " 'https://shopee.vn/L%C3%81-V%C3%80NG-M%C3%88O-TR%C3%82U-TH%E1%BA%A6N-T%C3%80I-%C4%90%E1%BB%82-TRONG-%E1%BB%90P-%C4%90I%E1%BB%86N-THO%E1%BA%A0I-V%C3%8D-TI%E1%BB%80N-MANG-T%C3%80I-L%E1%BB%98C-%E2%9A%A1Ph%E1%BB%A5-Ki%E1%BB%87n-%C4%90i%E1%BB%87n-Tho%E1%BA%A1i%E2%9A%A1%EF%B8%8F-i.27917519.4553140545?position=164',\n",
       " 'https://shopee.vn/01-Kh%C4%83n-Lau-K%C3%ADnh-%C4%90i%E1%BB%87n-Tho%E1%BA%A1i-Nhi%E1%BB%81u-M%C3%A0u-S%E1%BA%AFc-Lo%E1%BA%A1i-%C4%90%E1%BA%B9p-M%E1%BB%81m-M%E1%BB%8Bn-Gi%C3%A1-R%E1%BA%BB-i.205263340.7584419704?position=165',\n",
       " 'https://shopee.vn/Tai-nghe-SAMSUNG-A20-A30-A30s-A50-A50S-zin-b%E1%BA%A3o-h%C3%A0nh-6-th%C3%A1ng-i.58499218.6644950687?position=166',\n",
       " 'https://shopee.vn/%C4%90i%E1%BB%87n-tho%E1%BA%A1i-Nokia-1202.-1280-%C4%91%E1%BB%99-Led-10-b%C3%B3ng-nh%C3%A1y-i.396067204.7497792065?position=167',\n",
       " 'https://shopee.vn/%C4%90i%E1%BB%87n-tho%E1%BA%A1i-Sharp-Aquos-SHV37-L02-i.535494687.10047972948?position=168',\n",
       " 'https://shopee.vn/%C4%90i%E1%BB%87n-tho%E1%BA%A1i-POCO-F3-(8GB-256GB)-i.191065034.5488834436?position=169',\n",
       " 'https://shopee.vn/%C4%90i%E1%BB%87n-Tho%E1%BA%A1i-Masstel-iZi-220-(2020)-M%C3%A0n-H%C3%ACnh-L%E1%BB%9Bn-Loa-To-%C4%90%C3%A8n-Pin-Si%C3%AAu-S%C3%A1ng-CH%C3%8DNH-H%C3%83NG--i.256310525.3978233308?position=170',\n",
       " 'https://shopee.vn/-X%E1%BA%A2-KHO-H%C3%80NG-CH%C3%8DNH-H%C3%83NG-%C4%90i%E1%BB%87n-tho%E1%BA%A1i-105(1sim)-%C4%91%E1%BB%A7-ph%E1%BB%A5-ki%E1%BB%87n-s%E1%BA%A3n-xu%E1%BA%A5t-n%C4%83m-2015-i.427960551.9046428546?position=171',\n",
       " 'https://shopee.vn/%C4%90i%E1%BB%87n-tho%E1%BA%A1i-Xiaomi-Redmi-9T-(4GB-64GB)-H%C3%A0ng-ch%C3%ADnh-h%C3%A3ng-i.40757878.2964438850?position=172',\n",
       " 'https://shopee.vn/%C4%90i%E1%BB%87n-tho%E1%BA%A1i-LeTV-X520-X620-3-32G-i.310036275.7693086034?position=173',\n",
       " 'https://shopee.vn/%C4%91i%E1%BB%87n-tho%E1%BA%A1i-Oppo-A37-Oppo-Neo9-2sim-m%E1%BB%9Bi-99-Ch%C6%A1i-game-m%C6%B0%E1%BB%A3t-4.3-i.515162517.11433792314?position=174',\n",
       " 'https://shopee.vn/%C4%90i%E1%BB%87n-tho%E1%BA%A1i-Xiaomi-Note-5-i.535494687.13108321906?position=175',\n",
       " 'https://shopee.vn/Nokia-6300-%E2%98%85Ch%C3%ADnh-h%C3%A3ng-100-%E2%98%85-%C4%90i%E1%BB%87n-Tho%E1%BA%A1i-Ph%E1%BB%95-Th%C3%B4ng-%C4%90i%E1%BB%87n-Tho%E1%BA%A1i-Nokia-6300-Zin-B%E1%BA%A3o-H%C3%A0nh-12-Th%C3%A1ng-TU%C3%82N-H%C6%AFNG-Y%C3%8AN-i.116554044.8958237106?position=176',\n",
       " 'https://shopee.vn/%C4%90o%CC%82%CC%80ng-Ho%CC%82%CC%80-Tho%CC%82ng-Minh-T500-Plus-seri-6-Hiwatch-6-Thay-a%CC%89nh-tu%CC%80y-y%CC%81-Nghe-go%CC%A3i-ke%CC%82%CC%81t-no%CC%82%CC%81i-bluetooth-5.0-44mm-C%E1%BB%B1c-%C4%90%E1%BA%B9p-i.232085619.8310732805?position=177',\n",
       " 'https://shopee.vn/%C4%90i%E1%BB%87n-Tho%E1%BA%A1i-Mini-BM10-Si%C3%AAu-Nh%E1%BB%8F-i.130503882.6832923704?position=178',\n",
       " 'https://shopee.vn/%C4%90i%E1%BB%87n-tho%E1%BA%A1i-Xiaomi-Mi-11-Pro-Ram-8GB-H%C3%A0ng-Nh%E1%BA%ADp-Kh%E1%BA%A9u-i.134747469.8540278060?position=179',\n",
       " 'https://shopee.vn/%C4%91i%E1%BB%87n-tho%E1%BA%A1i-n%E1%BB%99i-%C4%91%E1%BB%8Ba-Nh%E1%BA%ADt-Softbank-503LV-ram-3Gb-32Gb-windows-phone-10-i.18479475.5969861226?position=180',\n",
       " 'https://shopee.vn/%C4%91i%E1%BB%87n-tho%E1%BA%A1i-LG-v30-m%E1%BB%B9-ram-4-b%E1%BB%99-nh%E1%BB%9B-64g-1-sim-i.71474818.4222807199?position=181',\n",
       " 'https://shopee.vn/-M%C3%A3-SKAMSALE10-gi%E1%BA%A3m-10-%C4%91%C6%A1n-200K-%C4%90i%E1%BB%87n-tho%E1%BA%A1i-LG-V50-ThinQ-5G-b%E1%BA%A3n-H%C3%A0n-b%E1%BA%A3n-M%E1%BB%B9-%C4%91%E1%BA%B9p-99-9-nh%C6%B0-m%E1%BB%9Bi-Ram-6-Rom-128-3-cam-nguy%C3%AA-i.8940655.4845324624?position=182',\n",
       " 'https://shopee.vn/%C4%90i%E1%BB%87n-Tho%E1%BA%A1i-mini-2-sim-2-s%C3%B3ng-5-m%C3%A0u-%C4%90%E1%BB%99c-L%E1%BA%A1-Hot-2-Sim-Thay-%C4%90%E1%BB%95i-Gi%E1%BB%8Dng-N%C3%B3i-H%E1%BB%97-Tr%E1%BB%A3-Th%E1%BA%BB-Nh%E1%BB%9B-L%C3%AAn-T%E1%BB%9Bi-32GB-i.34883652.2154017825?position=183',\n",
       " 'https://shopee.vn/%C4%90i%E1%BB%87n-tho%E1%BA%A1i-CAT-S48c-i.535494687.13408234970?position=184',\n",
       " 'https://shopee.vn/Qu%E1%BA%A1t-t%E1%BA%A3n-nhi%E1%BB%87t-Xiaomi-Black-Shark-Funcooler-PRO-BR20-c%C3%B3-LED-RGB-i.352574147.13407274230?position=185',\n",
       " 'https://shopee.vn/%C4%91i%E1%BB%87n-tho%E1%BA%A1i-Kyocera-705kc-Nh%E1%BA%ADt-B%E1%BA%A3n-Ram-3Gb-Rom-32Gb-ch%E1%BB%91ng-va-%C4%91%E1%BA%ADp-i.535494687.11747997367?position=186',\n",
       " 'https://shopee.vn/%C4%90i%E1%BB%87n-Tho%E1%BA%A1i-Nokia-E72-Wifi-3G-B%E1%BA%A3o-H%C3%A0nh-12-Th%C3%A1ng-t%E1%BA%B7ng-tai-nghe-xiaomi-ch%C3%ADnh-h%C3%A3ng--i.101299832.4162928552?position=187',\n",
       " 'https://shopee.vn/%C4%90i%E1%BB%87n-tho%E1%BA%A1i-Nh%E1%BA%ADt-Sharp-xxx-Aquos-304SH-i.118753950.3783235586?position=188',\n",
       " 'https://shopee.vn/%C4%90i%E1%BB%87n-tho%E1%BA%A1i-KYOCERA-DIGNO-704KC-ram3-ch%E1%BB%91ng-n%C6%B0%E1%BB%9Bc-ghi-%C3%A2m-cu%E1%BB%99c-g%E1%BB%8Di-i.535494687.13408365621?position=189',\n",
       " 'https://shopee.vn/%C4%90i%E1%BB%87n-Tho%E1%BA%A1i-Xiaomi-Redmi-Note-10-Pro-8GB-128GB-H%C3%A0ng-Ch%C3%ADnh-H%C3%A3ng-i.193124085.9831252032?position=190',\n",
       " 'https://shopee.vn/%C4%90i%E1%BB%87n-tho%E1%BA%A1i-Xiaomi-Mi-11-ram-8-256G-H%C3%A0ng-nh%E1%BA%ADp-kh%E1%BA%A9u-i.242986983.5077355099?position=191',\n",
       " 'https://shopee.vn/Apple-iPhone-12-128GB-i.288286284.7064399354?position=192',\n",
       " 'https://shopee.vn/Main-%C4%91i%E1%BB%87n-tho%E1%BA%A1i-iphone-bypass-nguy%C3%AAn-zin-d%C3%B9ng-full-ch%E1%BB%A9c-n%C4%83ng-i.5486009.7642578835?position=193',\n",
       " 'https://shopee.vn/-CH%C3%8DNH-H%C3%83NG-%C4%90I%E1%BB%86N-THO%E1%BA%A0I-NOKIA-1280-FULL-BOX-B%E1%BA%A2O-H%C3%80NH-12-TH%C3%81NG-K%C3%88M-PIN-V%C3%80-S%E1%BA%A0C-i.144902225.5295580770?position=194',\n",
       " 'https://shopee.vn/%C4%90i%E1%BB%87n-tho%E1%BA%A1i-Samsung-Galaxy-A32-H%C3%A0ng-Ch%C3%ADnh-H%C3%A3ng-M%E1%BB%9Bi-100-Nguy%C3%AAn-Seal-!-i.281825590.8129254499?position=195',\n",
       " 'https://shopee.vn/%C4%90i%E1%BB%87n-tho%E1%BA%A1i-nokia-1280-k%C3%A8m-pin-s%E1%BA%A1c-c%C3%B3-b%E1%BA%A3o-h%C3%A0nh-6th%C3%A1ng-i.110712093.9358757124?position=196',\n",
       " 'https://shopee.vn/%C4%90i%E1%BB%87n-tho%E1%BA%A1i-8-Plus-(8-Plut)-b%E1%BA%A3n-qu%E1%BB%91c-t%E1%BA%BF-ch%C3%ADnh-h%C3%A3ng-Zin-%C4%91%E1%BA%B9p-nh%C6%B0-m%E1%BB%9Bi-%C4%91%E1%BA%A7y-%C4%91%E1%BB%A7-c%C3%A1c-m%C3%A0u-s%E1%BA%AFc-v%C3%A0-b%E1%BB%99-nh%E1%BB%9B-c%C3%B3-nhi%E1%BB%81u-%C6%B0u-%C4%91%C3%A3i0-i.242140455.10352741273?position=197',\n",
       " 'https://shopee.vn/%C4%90i%E1%BB%87n-tho%E1%BA%A1i-Sharp-Aquos-R2-i.535494687.13908261601?position=198',\n",
       " 'https://shopee.vn/%C4%90i%E1%BB%87n-tho%E1%BA%A1i-Xiaomi-Redmi-5Plus-i.535494687.13508300071?position=199',\n",
       " 'https://shopee.vn/%C4%90i%E1%BB%87n-tho%E1%BA%A1i-Sharp-Aquos-R2-SHV42-Snap-845-M%C3%A0n-t%E1%BA%A7n-s%E1%BB%91-qu%C3%A9t-120Hz-i.49282974.4655155433?position=200',\n",
       " 'https://shopee.vn/%C4%90I%E1%BB%86N-THO%E1%BA%A0I-GOOGLE-PIXEL-3-ram-4-64-GB-chip-845-b%E1%BA%A3n-M%E1%BB%B9-1-sim-i.241749563.3020271587?position=201',\n",
       " 'https://shopee.vn/%C4%90i%E1%BB%87n-Tho%E1%BA%A1i-Xiaomi-POCO-F3-6.67-SNAP870-48-8-5MP-20MP-4520mAh-H%C3%A0ng-Ch%C3%ADnh-H%C3%A3ng-Digiworld-i.340431675.8169372917?position=202',\n",
       " 'https://shopee.vn/%C4%90I%E1%BB%86N-THO%E1%BA%A0I-NOKIA-1280-MAN-ZIN-M%C3%80N-ZIN-NGHE-G%E1%BB%8CI-T%E1%BB%90T-B%E1%BA%A2O-H%C3%80NH-12T-KAM-K%E1%BA%BFt-m%C3%A1y-Zin-i.345162160.9134685797?position=203',\n",
       " 'https://shopee.vn/%C4%90ie%CC%A3%CC%82n-thoa%CC%A3i-Viettel-V6216i-Hoa%CC%A3%CC%86c-Xphone-2-Sim-Cu%CC%83-Thoa%CC%A3i-Ngu%CC%9Bo%CC%9B%CC%80i-Gia%CC%80-Ke%CC%80m-Pin-Sa%CC%A3c-i.110712093.11405443587?position=204',\n",
       " 'https://shopee.vn/%C4%90i%E1%BB%87n-tho%E1%BA%A1i-Kingreat-M300-Pin-kh%E1%BB%A7ng-3000mah-Loa-To-B%E1%BA%A3o-H%C3%A0nh-1-%C4%91%E1%BB%95i-1-365-ng%C3%A0y-i.230383794.8971748307?position=205',\n",
       " 'https://shopee.vn/-%C4%90%E1%BB%88NH-CAO-%F0%9F%93%B1%C4%90i%E1%BB%87n-Tho%E1%BA%A1i-Oppo-A57-Ram-3g-32gb-Zin-i.476550666.8072056993?position=206',\n",
       " 'https://shopee.vn/Ph%C3%ADm-Home-iphone-5s-6g-6s-6plus-6splus-7g-7plus-8g-8plus-i.466037297.11511230752?position=207',\n",
       " 'https://shopee.vn/%C4%90i%E1%BB%87n-tho%E1%BA%A1i-Samsung-Galaxy-A12-(4GB-128GB)-B%E1%BA%A3o-H%C3%A0nh-Chinh-H%C3%A3ng-H%C3%A0ng-i.14947974.9506741602?position=208',\n",
       " 'https://shopee.vn/%C4%90i%E1%BB%87n-Tho%E1%BA%A1i-Ng%C6%B0%E1%BB%9Di-Gi%C3%A0-Masstel-Fami-11-Loa-To-FM-Kh%C3%B4ng-D%C3%A2y-%C4%90%E1%BB%8Dc-S%E1%BB%91-B%E1%BA%B1ng-Gi%E1%BB%8Dng-N%C3%B3i-m%E1%BB%9Bi-ch%C3%ADnh-h%C3%A3ng-i.63614537.8014671172?position=209',\n",
       " 'https://shopee.vn/%C4%90i%E1%BB%87n-tho%E1%BA%A1i-Google-pixel-3xl-64g-androi-g%E1%BB%91c-si%C3%AAu-m%C6%B0%E1%BB%A3t-camera-c%E1%BB%B1c-%C4%91%E1%BB%89nh-i.71474818.8239982417?position=210',\n",
       " 'https://shopee.vn/(C%C3%B3-Pin-S%E1%BA%A1c)-%C4%90i%E1%BB%87n-tho%E1%BA%A1i-Nokia-1202-zin-ch%C3%ADnh-h%C3%A3ng-i.1657913.744316571?position=211',\n",
       " 'https://shopee.vn/%C4%90i%E1%BB%87n-tho%E1%BA%A1i-Viettel-V6216i-Ho%E1%BA%B7c-Xphone-2-Sim-C%C5%A9-(80-90-X%C6%B0%E1%BB%9Bc)-%C4%90i%E1%BB%87n-Tho%E1%BA%A1i-Ng%C6%B0%E1%BB%9Di-Gi%C3%A0-K%C3%A8m-Pin-s%E1%BA%A1c-i.345162160.8920813357?position=212',\n",
       " 'https://shopee.vn/-Thanh-L%C3%BD-%C4%90i%E1%BB%87n-tho%E1%BA%A1i-Xiaomi-Redmi-Note-3-pro-zin-ch%C3%ADp-snap-650-pin-4020ma-i.113506450.7769712346?position=213',\n",
       " 'https://shopee.vn/%C4%91i%E1%BB%87n-tho%E1%BA%A1i-sony-xz2-ram-4-b%E1%BB%99-nh%E1%BB%9B-64g-b%E1%BA%A3n-nh%E1%BA%ADt-1-sim-i.71474818.6933769784?position=214',\n",
       " 'https://shopee.vn/%C4%90i%E1%BB%87n-tho%E1%BA%A1i-Sony-XZ1-chip-Snap-835-si%C3%AAu-r%E1%BA%BB-chi%E1%BA%BFn-game-m%C6%B0%E1%BB%A3t-i.204574220.9432378315?position=215',\n",
       " 'https://shopee.vn/%C4%90i%E1%BB%87n-tho%E1%BA%A1i-Vivo-Y12s-(4GB-128GB)-H%C3%A0ng-Ch%C3%ADnh-H%C3%A3ng-M%E1%BB%9Bi-100--i.281825590.7476127852?position=216',\n",
       " 'https://shopee.vn/%C4%90i%E1%BB%87n-tho%E1%BA%A1i-Samsung-j2-prime-g532-(1-5-8GB)-M%C3%A1y-c%C5%A9-H%C3%A0ng-ch%C3%ADnh-h%C3%A3ng-i.320293695.11222989365?position=217',\n",
       " 'https://shopee.vn/%C4%90i%E1%BB%87n-Tho%E1%BA%A1i-Samsung-Galaxy-M12-(3GB-32GB)-H%C3%A3ng-Ph%C3%A2n-Ph%E1%BB%91i-Ch%C3%ADnh-Th%E1%BB%A9c-i.2849350.9866015905?position=218',\n",
       " 'https://shopee.vn/-GI%C3%81-S%E1%BB%90C-%C4%90i%E1%BB%87n-Tho%E1%BA%A1i-Oppo-A83-Ram-3GB-ram-4-32-Selfie-C%E1%BB%B1c-%C4%90%E1%BA%B9p-B%E1%BA%A3o-H%C3%A0nh-6Th%C3%A1ng-i.470174765.8469486591?position=219',\n",
       " 'https://shopee.vn/-GI%C3%81-S%E1%BB%90C-%C4%90i%E1%BB%87n-Tho%E1%BA%A1i-Oppo-A83-Ram-3-32GB-Ram-4-32GB-Selfie-C%E1%BB%B1c-%C4%90%E1%BA%B9p-B%E1%BA%A3o-H%C3%A0nh-12-Th%C3%A1ng-i.425204786.6394042553?position=220',\n",
       " 'https://shopee.vn/%C4%90i%E1%BB%87n-tho%E1%BA%A1i-oppo-A7X-(OPPO-F9-)-RAM-4-128G-H%C3%80NG-FULL-H%E1%BB%98P-T%E1%BA%B6NG-K%C3%88M-%E1%BB%90P-L%C6%AFNG-C%C3%93-B%E1%BA%A2O-H%C3%80NH-i.470174765.6595653673?position=221',\n",
       " 'https://shopee.vn/%C4%91i%E1%BB%87n-tho%E1%BA%A1i-H%E1%BB%97-tr%E1%BB%A3-m%E1%BA%A1ng-4G-Vivo-Y51-a-2sim-ram-2G-16G-m%E1%BB%9Bi-chi%E1%BA%BFn-PUBG-ngon-i.425204786.11717075648?position=222',\n",
       " 'https://shopee.vn/%C4%90i%E1%BB%87n-Tho%E1%BA%A1i-Oppo-A1K-Ram-3GB-32-GB-T%E1%BA%B6NG-K%C3%88M-%E1%BB%90P-L%C6%AFNG-M%C3%81Y-FULL-BOX-i.425204786.8276056084?position=223',\n",
       " 'https://shopee.vn/%C4%90i%E1%BB%87n-tho%E1%BA%A1i-LG-G7-thinq-64G-RAM4-chip-snapdaragon-845-si%C3%AAu-m%C6%B0%E1%BB%A3t-i.227329817.13313910471?position=224',\n",
       " 'https://shopee.vn/%C4%90i%E1%BB%87n-tho%E1%BA%A1i-Oppo-reno-2-256G-Ram8G-b%E1%BA%A3n-2-sim-si%C3%AAu-camera-i.227329817.11651353256?position=225',\n",
       " 'https://shopee.vn/%C4%90i%E1%BB%87n-tho%E1%BA%A1i-Google-Pixel-4-Xl-Qu%E1%BB%91c-t%E1%BA%BF-2-Sim-vua-camera-i.227329817.13318035077?position=226',\n",
       " 'https://shopee.vn/Gi%C3%A1-%C4%90%E1%BB%A1-%C4%90i%E1%BB%87n-Tho%E1%BA%A1i-livestream-xem-video-%E1%BB%94n-%C4%90%E1%BB%8Bnh-Xoay-360-%C4%90%E1%BB%99-d%C3%B9ng-%C4%91%E1%BB%83-Quay-Phim-Ghi-H%C3%ACnh-%C4%90a-D%E1%BB%A5ng-i.68993420.13214270391?position=227',\n",
       " 'https://shopee.vn/%C4%90i%E1%BB%87n-tho%E1%BA%A1i-Xiaomi-Mi-8-Lite-RAM-4-64GB-H%C3%80NG-M%E1%BB%9AI-100-NGUY%C3%8AN-H%E1%BB%98P-B%E1%BA%A2O-H%C3%80NH-12-TH%C3%81NG-i.425204786.7696909092?position=228',\n",
       " 'https://shopee.vn/%F0%9F%92%A5-Free-Ship%F0%9F%92%A5%C4%90i%E1%BB%87n-tho%E1%BA%A1i-Vivo-Y53-Ram-2Gb-ROm-16Gb-(2-sim)-B%E1%BA%A3o-h%C3%A0nh-12-th%C3%A1ng-fullbox-t%E1%BA%B7ng-k%C3%A8m-%E1%BB%91p-Nh%E1%BA%ADp-kh%C3%A2u-i.425204786.6694022391?position=229',\n",
       " 'https://shopee.vn/C%C3%A2y-ch%E1%BB%8Dc-sim-%C4%91i%E1%BB%87n-tho%E1%BA%A1i-h%C3%A0ng-x%E1%BB%8Bn-i.46723565.10746400299?position=230',\n",
       " 'https://shopee.vn/n%C3%BAt-hom-iPhone-i.73845870.6856811289?position=231',\n",
       " 'https://shopee.vn/-SI%C3%8AU-R%E1%BA%BA-%C4%90i%E1%BB%87n-Tho%E1%BA%A1i-Oppo-A1K-Ram-3GB-32-GB-i.476550666.8272061851?position=232',\n",
       " 'https://shopee.vn/%C4%90i%E1%BB%87n-tho%E1%BA%A1i-OPPO-A7-RAM-4GB-ROM-64GB-m%E1%BB%9Bi-Fullbox-nguy%C3%AAn-h%E1%BB%99p-B%E1%BA%A3o-h%C3%A0nh-6-th%C3%A1ng-i.470174765.6993594442?position=233',\n",
       " 'https://shopee.vn/%C4%90i%E1%BB%87n-tho%E1%BA%A1i-5s-16gb-zin-b%E1%BA%A3n-qu%E1%BB%91c-t%E1%BA%BF-c%C3%B3-b%E1%BA%A3o-h%C3%A0nh-to%C3%A0n-qu%E1%BB%91c-i.498394281.10352526715?position=234',\n",
       " 'https://shopee.vn/%C4%90i%E1%BB%87n-tho%E1%BA%A1i-Xiaomi-CiVi-CV-Brand-New--i.2110370.13317690628?position=235',\n",
       " 'https://shopee.vn/%C4%90i%E1%BB%87n-tho%E1%BA%A1i-Oppo-Reno-6-Brand-New--i.2110370.10618177307?position=236',\n",
       " 'https://shopee.vn/-R%E1%BA%BA-QU%C3%81-%C4%90I-%C4%90i%E1%BB%87n-Tho%E1%BA%A1i-Vivo-Y85-B%E1%BA%A3o-H%C3%A0nh-12-th%C3%A1ng-Ch%C6%A1i-li%C3%AAn-qu%C3%A2n-m%C6%B0%E1%BB%A3t-B%E1%BA%A2O-H%C3%80NH-12-TH%C3%81NG-i.476550666.8472060586?position=237',\n",
       " 'https://shopee.vn/%C4%90i%C3%AAn-Tho%E1%BA%A1i-LG-V40-Thinq-64G-Ram6G-B%E1%BA%A3n-1-Sim-i.227329817.13115316913?position=238',\n",
       " 'https://shopee.vn/%C4%90i%E1%BB%87n-tho%E1%BA%A1i-Nokia-105-si%C3%AAu-r%E1%BA%BB-1-Sim-v%C3%A0-2-Sim-Pin-s%E1%BA%A1c-%C4%91%E1%BB%A7-H%C3%A0ng-ch%C3%ADnh-h%C3%A3ng-s%E1%BA%A3n-xu%E1%BA%A5t-n%C4%83m-2016-i.427960551.8755389684?position=239',\n",
       " 'https://shopee.vn/%C4%90i%E1%BB%87n-Tho%E1%BA%A1i-Samsung-Galaxy-M22-(6GB-128GB)-H%C3%A3ng-Ph%C3%A2n-Ph%E1%BB%91i-Ch%C3%ADnh-Th%E1%BB%A9c-i.65589552.13608640489?position=240',\n",
       " 'https://shopee.vn/%C4%90i%E1%BB%87n-tho%E1%BA%A1i-Xiaomi-Redmi-10-(4GB-64GB)-H%C3%A0ng-Ch%C3%ADnh-H%C3%A3ng-i.40757878.11440413295?position=241',\n",
       " 'https://shopee.vn/%C4%90i%E1%BB%87n-tho%E1%BA%A1i-Samsung-Galaxy-A03s-Ha%CC%80ng-Chi%CC%81nh-Ha%CC%83ng-m%C6%A1%CC%81i-100-Nguy%C3%AAn-Seal-!-i.281825590.11845969007?position=242',\n",
       " 'https://shopee.vn/%C4%90i%E1%BB%87n-tho%E1%BA%A1i-Vivo-Y12s-(2021)-H%C3%A0ng-Ch%C3%ADnh-H%C3%A3ng-M%E1%BB%9Bi-100-Nguy%C3%AAn-Seal-!-i.281825590.8556472261?position=243',\n",
       " 'https://shopee.vn/%C4%90I%E1%BB%86N-THO%E1%BA%A0I-NOKIA-E72-ch%C3%ADnh-h%C3%A3ng-c%C3%B4ng-ty-c%C5%A9-i.129649666.11340545366?position=244',\n",
       " 'https://shopee.vn/%C4%90i%E1%BB%87n-tho%E1%BA%A1i-nokia-1200-105-2730-ch%C3%ADnh-h%C3%A3ng-c%C5%A9-99-giao-m%C3%A0u-ng%E1%BA%ABu-nhi%C3%AAn-gi%C3%A1-r%E1%BA%BB-i.337486746.4497013520?position=245',\n",
       " 'https://shopee.vn/-R%E1%BA%BB-V%C3%B4-%C4%90%E1%BB%8Bch-_Nokia-E72-M%E1%BB%9Bi_%C4%90i%E1%BB%87n-Tho%E1%BA%A1i-C%E1%BB%95-Nokia-E72_%C4%90i%E1%BB%87n-Tho%E1%BA%A1i-Ph%E1%BB%95-Th%C3%B4ng-Zin-Ch%C3%ADnh-H%C3%A3ng-B%E1%BA%A3o-H%C3%A0nh-12-Th%C3%A1ng-Tu%C3%A2n-H%C6%B0ng-Y%C3%AAn-i.434360904.6487788444?position=246',\n",
       " 'https://shopee.vn/%C3%94%CC%81p-Ch%C3%B4%CC%81ng-Ba%CC%81m-B%C3%A2%CC%89n-Galaxy-A51-A71-Chi%CC%81nh-Ha%CC%83ng-Samsung-Vi%C3%AA%CC%A3t-Nam-i.254277068.4348958717?position=247',\n",
       " 'https://shopee.vn/%C4%90i%E1%BB%87n-tho%E1%BA%A1i-Nokia-1280-ch%C3%ADnh-h%C3%A3ng-main-zin-m%C3%A0n-zin-BH-12T--i.101299832.4742089256?position=248',\n",
       " 'https://shopee.vn/%C4%90i%E1%BB%87n-tho%E1%BA%A1i-nokia-2730-m%E1%BA%A1ng-3G-(pin-s%E1%BA%A1c-th%E1%BA%BB-nh%E1%BB%9B)-ch%C3%ADnh-h%C3%A3ng-i.129982976.1955439592?position=249',\n",
       " 'https://shopee.vn/-X%E1%BA%A3-l%E1%BB%97-%C4%90i%E1%BB%87n-tho%E1%BA%A1i-Xiaomi-2-SIM-c%C5%A9-2-SIM-gi%C3%A1-r%E1%BA%BB-m%C3%A0n-h%C3%ACnh-to-pin-tr%C3%A2u-c%E1%BA%A5u-h%C3%ACnh-cao.-i.440881187.11204434925?position=250',\n",
       " 'https://shopee.vn/%C4%90i%E1%BB%87n-Tho%E1%BA%A1i-GOOGLE-PIXEl-3-128G-si%C3%AAu-m%C6%B0%E1%BB%A3t-chip-snap-845-camera-si%C3%AAu-ch%E1%BA%A5t-i.71474818.8650275612?position=251',\n",
       " 'https://shopee.vn/%C4%90i%E1%BB%87n-tho%E1%BA%A1i-7-Plus-lock-32-128-256-zin-all-i.44772106.12310991064?position=252',\n",
       " 'https://shopee.vn/%C4%90i%E1%BB%87n-tho%E1%BA%A1i-Huawei-Honor-5C-ram-3G-32G-v%E1%BB%8F-kim-lo%E1%BA%A1i-v%C3%A2n-tay-i.49282974.2188387745?position=253',\n",
       " 'https://shopee.vn/%C4%90i%E1%BB%87n-tho%E1%BA%A1i-th%E1%BB%9Di-trang-K8-%C4%90%C3%A1-2-sim-i.26514084.1757005671?position=254',\n",
       " 'https://shopee.vn/%C4%90i%E1%BB%87n-Tho%E1%BA%A1i-Sony-XZ2-Nguy%C3%AAn-zin-Nguy%C3%AAn-%C3%81p-%C4%90%E1%BA%B9p-Keng-i.273958284.4075616253?position=255',\n",
       " 'https://shopee.vn/%C4%90i%E1%BB%87n-tho%E1%BA%A1i-Vsmart-Joy-4-(6GB-64GB)-H%C3%A0ng-ch%C3%ADnh-h%C3%A3ng-i.115073315.8169766212?position=256',\n",
       " 'https://shopee.vn/%C4%90i%E1%BB%87n-tho%E1%BA%A1i-VIVO-Y55-game-m%C6%B0%E1%BB%A3t-Snap-430-M%C3%A0n-5.2-i.49282974.10026209050?position=257',\n",
       " 'https://shopee.vn/%C4%90i%E1%BB%87n-Tho%E1%BA%A1i-Mini-Nokia-Mini-3310-L8Star-BM10-M%E1%BA%ABu-M%E1%BB%9Bi-2021-2-Sim-2-S%C3%B3ng-%C4%90%E1%BB%95i-1-Trong-10-Ng%C3%A0y-B%E1%BA%A3o-H%C3%A0nh-12-Th%C3%A1ng--i.30223394.8142428902?position=258',\n",
       " \"https://shopee.vn/%C4%90I%E1%BB%86N-THO%E1%BA%A0I-XIAOMI-REDMI-NOTE-10-PRO-6.67''-SNAP732G-8G-128GB-108-8-5-2MP-16MP-H%C3%A0ng-ch%C3%ADnh-h%C3%A3ng-Digiworld-i.340431675.9531752239?position=259\",\n",
       " 'https://shopee.vn/%C3%94%CC%81p-l%C6%B0ng-Vsmart-live-4-active-3-joy-3-joy-2-plus-star-bee-3-Joy-1-ho%CC%A3a-ti%C3%AA%CC%81t-phu%CC%89-bo%CC%81ng-Gia%CC%89-Iphone-cap-c%C3%A2%CC%81p-i.13928634.3519056025?position=260',\n",
       " 'https://shopee.vn/%E1%BB%90p-Silicon-Nokia-3-5-6-7-7-plus-8-Nokia-2.1-3.1-Nokia-2.2-3.2-4.2-7.2-2.3-Nokia-X5-X6-X7-Nokia-6.1-Plus-8.1-Plus-i.37520580.7259548789?position=261',\n",
       " 'https://shopee.vn/Apple-iPhone-12-Pro-128GB-i.288286284.3264593693?position=262',\n",
       " 'https://shopee.vn/%C4%91i%E1%BB%87n-tho%E1%BA%A1i-Oppo-A37-Oppo-Neo9-2sim-m%E1%BB%9Bi-99-Ch%C6%A1i-game-m%C6%B0%E1%BB%A3t-i.320293695.9716765707?position=263',\n",
       " 'https://shopee.vn/%E2%AD%90%EF%B8%8F-X%E1%BA%A2-L%E1%BB%96-%E2%AD%90%EF%B8%8F-%C4%90i%E1%BB%87n-tho%E1%BA%A1i-Xiaomi-Redmi-6A-c%C5%A9-2-SIM-m%C3%A0n-h%C3%ACnh-to-c%E1%BA%A5u-h%C3%ACnh-cao-2GB-RAM-pin-tr%C3%A2u-i.440881187.6589000741?position=264',\n",
       " 'https://shopee.vn/%C4%90I%E1%BB%86N-THO%E1%BA%A0I-NOKIA-C%E1%BB%A4C-G%E1%BA%A0CH-CH%C3%8DNH-H%C3%83NG-i.51995263.8243666819?position=265',\n",
       " 'https://shopee.vn/%C4%90i%E1%BB%87n-tho%E1%BA%A1i-K8-Luxury-Th%E1%BB%9Di-Trang-%C4%90%E1%BA%B3ng-C%E1%BA%A5p-i.26514084.2107585129?position=266',\n",
       " 'https://shopee.vn/%C4%90i%E1%BB%87n-tho%E1%BA%A1i-OALE-Q1-3-SIM-d%C3%B9ng-cho-ng%C6%B0%E1%BB%9Di-gi%C3%A0-B%E1%BA%A3o-h%C3%A0nh-1-n%C4%83m-i.52997504.8154942612?position=267',\n",
       " 'https://shopee.vn/%C4%90i%E1%BB%87n-Tho%E1%BA%A1i-Xiaomi-Redmi-9T-4GB-64GB-H%C3%A0ng-Ch%C3%ADnh-H%C3%A3ng-i.193124085.10323721793?position=268',\n",
       " 'https://shopee.vn/%C4%91i%E1%BB%87n-tho%E1%BA%A1i-105-s%E1%BA%A3n-xu%E1%BA%A5t-n%C4%83m-2017-.-s%E1%BA%A3n-ph%E1%BA%A9m-%C4%91%E1%BB%A7-pin-v%C3%A0-s%E1%BA%A1c-2-sim-v%C3%A0-1-sim-i.427960551.9855250347?position=269',\n",
       " 'https://shopee.vn/%C4%91i%E1%BB%87n-tho%E1%BA%A1i-masstel-A331-FAMI-11-(d%C3%A0nh-cho-ng%C6%B0%E1%BB%9Di-gi%C3%A0-)-loa-to-ch%E1%BB%AF-to-pin-si%C3%AAu-kh%E1%BB%8Fe-m%E1%BB%9Bi-b%E1%BA%A3o-h%C3%A0nh-ch%C3%ADnh-h%C3%A3ng-12-th%C3%A1n-i.105747592.2195009079?position=270',\n",
       " 'https://shopee.vn/%C4%90i%E1%BB%87n-Tho%E1%BA%A1i-Vsmart-Star-5-(-4GB-64GB-)-H%C3%A0ng-Ch%C3%ADnh-H%C3%A3ng-i.71791006.6190188174?position=271',\n",
       " 'https://shopee.vn/%C4%90i%E1%BB%87n-tho%E1%BA%A1i-nghe-g%E1%BB%8Di-c%C5%A9-x%C3%A0i-t%E1%BB%91t-i.69872661.7904752301?position=272',\n",
       " 'https://shopee.vn/%C4%90i%E1%BB%87n-tho%E1%BA%A1i-Xiaomi-Mi-11-Ultra-256GB-ram-12G-H%C3%A0ng-Nh%E1%BA%ADp-Kh%E1%BA%A9u-i.134747469.4484839950?position=273',\n",
       " 'https://shopee.vn/%C4%90i%E1%BB%87n-tho%E1%BA%A1i-7-Plus-qu%E1%BB%91c-t%E1%BA%BF-32-128-256-zin-%C4%91%E1%BA%B9p-99-MAX-STORE-i.524117330.12815741612?position=274',\n",
       " 'https://shopee.vn/%C4%90i%E1%BB%87n-tho%E1%BA%A1i-Meizu-M3-Note-ram-3G-32G-M%C3%A0n-5.5-Full-HD-i.49282974.8191830456?position=275',\n",
       " 'https://shopee.vn/%C4%90i%E1%BB%87n-tho%E1%BA%A1i-iPhone-7-Plus-b%E1%BA%A3n-qu%E1%BB%91c-t%E1%BA%BF-M%E1%BB%B9-nguy%C3%AAn-zin-%C4%91%E1%BA%B9p-nh%C6%B0-m%E1%BB%9Bi-%C4%91%E1%BB%A7-c%C3%A1c-m%C3%A0u-b%E1%BB%99-nh%E1%BB%9B-t%C6%B0%C6%A1ng-%E1%BB%A9ng-giao-h%C3%A0ng-to%C3%A0n-qu%E1%BB%91c-free-i.242140455.12020291899?position=276',\n",
       " 'https://shopee.vn/%C4%90i%E1%BB%87n-tho%E1%BA%A1i-iPhone-6S-plus-b%E1%BA%A3n-qu%E1%BB%91c-t%E1%BA%BF-ch%C3%ADnh-h%C3%A3ng-Zin-%C4%91%E1%BA%B9p-t%E1%BB%AB-90-%C4%91%E1%BA%BFn-99-%C4%91%E1%BA%A7y-%C4%91%E1%BB%A7-c%C3%A1c-m%C3%A0u-s%E1%BA%AFc-v%C3%A0-b%E1%BB%99-nh%E1%BB%9B-c%C3%B3-nhi%E1%BB%81u-%C6%B0u-%C4%91%C3%A3i00-i.242140455.11454850480?position=277',\n",
       " 'https://shopee.vn/%C4%90I%E1%BB%86N-THO%E1%BA%A0I-E71-CH%C3%8DNH-H%C3%83NG-(-GAME-JAVA-)-i.129649666.10438054652?position=278',\n",
       " 'https://shopee.vn/%C4%90i%E1%BB%87n-Tho%E1%BA%A1i-2-Sim-Masstel-Izi-125-ch%E1%BB%AF-si%C3%AAu-to-H%C3%A0ng-ch%C3%ADnh-h%C3%A3ng-BH-12-th%C3%A1ng-i.14947974.1294719368?position=279',\n",
       " 'https://shopee.vn/%C4%90i%E1%BB%87n-tho%E1%BA%A1i-Bypass-ch%C6%A1i-game-gi%E1%BA%A3i-tr%C3%AD-i.188863065.4148445124?position=280',\n",
       " 'https://shopee.vn/-H%C3%A0ng-Ch%C3%ADnh-H%C3%A3ng-100-Nokia-1280-%C4%90i%E1%BB%87n-Tho%E1%BA%A1i-Nokia1280-Zin-Ch%C3%ADnh-H%C3%A3ng-%C4%90%E1%BB%A7-Ph%E1%BB%A5-Ki%E1%BB%87n-Pin-S%C3%A0i-C%E1%BA%A3-Tu%E1%BA%A7n-i.116554044.10310058574?position=281',\n",
       " 'https://shopee.vn/%C4%90i%E1%BB%87n-tho%E1%BA%A1i-LG-G8-m%E1%BB%B9-ram-6-b%E1%BB%99-nh%E1%BB%9B-128g-ch%C3%ADp-snapdaragon-855-si%C3%AAu-nhanh-nguy%C3%AAn-%C3%A1p-i.71474818.8938691984?position=282',\n",
       " 'https://shopee.vn/%C4%90I%E1%BB%86N-THO%E1%BA%A0I-%F0%9D%90%8D%F0%9D%90%8E%F0%9D%90%8A%F0%9D%90%88%F0%9D%90%80-%F0%9D%9F%8F%F0%9D%9F%90%F0%9D%9F%96%F0%9D%9F%8E-H%C3%A0ng-M%E1%BB%9Bi-Khuy%E1%BB%85n-M%C3%A3i-B%E1%BA%A3o-h%C3%A0nh-12-Th%C3%A1ng-Ph%E1%BB%A5-Ki%E1%BB%87n-M%C3%A1y-S%E1%BA%A1c-Pin-i.242289655.7141389922?position=283',\n",
       " 'https://shopee.vn/%C4%90i%E1%BB%87n-tho%E1%BA%A1i-Xiaomi-Redmi-9C-(3GB-64GB)-H%C3%A0ng-ch%C3%ADnh-h%C3%A3ng-i.40757878.5548432705?position=284',\n",
       " 'https://shopee.vn/%C4%90i%E1%BB%87n-tho%E1%BA%A1i-Nh%E1%BA%ADt-Sharp-shv38-android-7-ram-3G-chip-Snap-617-i.118753950.5490547238?position=285',\n",
       " 'https://shopee.vn/%C4%90i%E1%BB%87n-tho%E1%BA%A1i-Vsmart-Aris-8gb-128gb-v%C3%A0-Aris-6gb-64gb-h%C3%A0ng-liknew-fullbox-nguy%C3%AAn-seal-ph%C3%A2n-ph%E1%BB%91i-ch%C3%ADnh-h%C3%A3ng-i.48135204.3864287520?position=286',\n",
       " 'https://shopee.vn/LG-V50-ThinQ-5G-Ram-6G-128GB-H%C3%A0n_Snap-855-Chi%E1%BA%BFn-game-t%E1%BB%91t-Ch%E1%BB%A5p-%E1%BA%A3nh-si%C3%AAu-n%C3%A9t-i.212863484.8182797124?position=287',\n",
       " 'https://shopee.vn/%C4%90i%E1%BB%87n-tho%E1%BA%A1i-Xiaomi-Redmi-9T-Ha%CC%80ng-Ph%C3%A2n-Ph%C3%B4%CC%81i-Chi%CC%81nh-Ha%CC%83ng-Digiworld-!-i.281825590.10027196992?position=288',\n",
       " 'https://shopee.vn/%C4%90I%E1%BB%86N-THO%E1%BA%A0I-XIAOMI-REDMI-NOTE-3-Pro-2sim-(3GB-32GB)-M%E1%BB%9Bi-CH%C3%8DNH-H%C3%83NG-Chi%E1%BA%BFn-PUBG-Li%C3%AAn-Qu%C3%A2n-%C4%91%E1%BB%89nh-i.122206336.1990818316?position=289',\n",
       " 'https://shopee.vn/Apple-iPhone-12-Pro-128GB-i.88201679.5660743161?position=290',\n",
       " 'https://shopee.vn/Mi%E1%BA%BFng-D%C3%A1n-%C4%90i%E1%BB%87n-Tho%E1%BA%A1i-T%C3%A0i-L%E1%BB%99c-Th%E1%BA%A7n-T%C3%A0i-Qu%C3%BD-Nh%C3%A2n-Ph%C3%B9-Tr%E1%BB%A3-Phong-Th%E1%BB%A7y-May-M%E1%BA%AFn-%C4%90%E1%BA%B9p-Lung-Linh-i.236924248.8048514028?position=291',\n",
       " 'https://shopee.vn/%C4%90i%E1%BB%87n-tho%E1%BA%A1i-Sony-Xperia-X-Compact-Ram-3G-32G-i.49282974.2373190153?position=292',\n",
       " 'https://shopee.vn/%C4%90i%E1%BB%87n-Tho%E1%BA%A1i-Masstel-Play-50-Loa-kh%E1%BB%A7ng-Pin-tr%C3%A2u-3000mah-s%E1%BA%A3n-ph%E1%BA%A9m-m%E1%BB%9Bi-H%C3%A3ng-Ph%C3%A2n-Ph%E1%BB%91i-Ch%C3%ADnh-Th%E1%BB%A9c.-i.105747592.5555685014?position=293',\n",
       " 'https://shopee.vn/%C4%91i%E1%BB%87n-tho%E1%BA%A1i-j2-prime-g532-t%E1%BA%B7ng-k%C3%A8m-th%E1%BA%BB-nh%E1%BB%9B-2gb-4gb-i.178181467.3858112953?position=294',\n",
       " 'https://shopee.vn/%C4%90i%E1%BB%87n-tho%E1%BA%A1i-Sony-XZ2-nguy%C3%AAn-zin-1-sim-b%E1%BA%A3n-4Gb-64Gb-%C4%91%E1%BA%B9p-98-99--i.241749563.8825377196?position=295',\n",
       " 'https://shopee.vn/x%C3%A1c-%C4%91i%E1%BB%87n-tho%E1%BA%A1i-samsung-j250-v%E1%BB%A1-m%C3%A0n-main-zin-full-ch%E1%BB%A9c-n%C4%83ng-i.380870585.9112363737?position=296',\n",
       " 'https://shopee.vn/%C4%90i%E1%BB%87n-Tho%E1%BA%A1i-Mini-Nokia-2-Sim-Cute-i.251968365.6549829704?position=297',\n",
       " 'https://shopee.vn/%C4%90i%E1%BB%87n-tho%E1%BA%A1i-3G-Nokia-c2-01-Zin-K%C3%A8m-Pin-S%E1%BA%A1c-i.1657913.3049009595?position=298',\n",
       " 'https://shopee.vn/%C4%90i%E1%BB%87n-tho%E1%BA%A1i-Realme-GT-Neo-Flash-Dimensity-1200-5G-Khang-Nhung-H%C3%A0ng-nh%E1%BA%ADp-kh%E1%BA%A9u-i.39104237.9891677647?position=299',\n",
       " 'https://shopee.vn/%C4%90i%E1%BB%87n-tho%E1%BA%A1i-di-%C4%91%E1%BB%99ng-Nokia-105-4G-TA-1375-DS-VN-%C4%90en-(Black)_16VEGB21A06B_2021-i.66829677.6293063896?position=300',\n",
       " 'https://shopee.vn/%C4%90i%E1%BB%87n-tho%E1%BA%A1i-Xiaomi-Redmi-10-(4GB-64GB)-H%C3%A0ng-Ch%C3%ADnh-H%C3%A3ng-i.331695868.10740423698?position=301',\n",
       " 'https://shopee.vn/%C4%90i%E1%BB%87n-tho%E1%BA%A1i-iPhone-8-Plus-b%E1%BA%A3n-qu%E1%BB%91c-t%E1%BA%BF-ch%C3%ADnh-h%C3%A3ng-Zin-%C4%91%E1%BA%B9p-nh%C6%B0-m%E1%BB%9Bi-%C4%91%E1%BA%A7y-%C4%91%E1%BB%A7-c%C3%A1c-m%C3%A0u-s%E1%BA%AFc-v%C3%A0-b%E1%BB%99-nh%E1%BB%9B-c%C3%B3-nhi%E1%BB%81u-%C6%B0u-%C4%91%C3%A3i00-i.242140455.12120283550?position=302',\n",
       " 'https://shopee.vn/main-zin-ch%C3%ADnh-h%C3%A3ng-samsung-j2-prime-g532-ful-ch%E1%BB%A9c-n%C4%83ng-i.320293695.9872859347?position=303',\n",
       " 'https://shopee.vn/Bao-%C4%90%E1%BB%B1ng-Tai-nghe-Nhi%E1%BB%81u-M%C3%A0u-i.45754878.8432302205?position=304',\n",
       " 'https://shopee.vn/%C4%90i%E1%BB%87n-tho%E1%BA%A1i-Ph%E1%BB%95-Th%C3%B4ng-masstel-izi-206-220-izi-280-ch%E1%BB%AF-to-pin-kho%E1%BA%BB-m%E1%BB%9Bi-ch%C3%ADnh-h%C3%A3ng-b%E1%BA%A3o-h%C3%A0nh-12-th%C3%A1ng-i.105747592.1985683643?position=305',\n",
       " 'https://shopee.vn/Khay-Sim-Samsung-Galaxy-S9-S9-plus-B%E1%BA%A3n-2-Sim-Ch%C3%ADnh-H%C3%A3ng-Nhi%E1%BB%81u-M%C3%A0u-%C4%90en-Xanh-T%C3%ADm-V%C3%A0ng-%C4%90%E1%BB%93ng-X%C3%A1m-B%E1%BA%A1c-i.176600940.5947536094?position=306',\n",
       " 'https://shopee.vn/%C4%90i%E1%BB%87n-Tho%E1%BA%A1i-POCO-X3-Pro-8GB-256GB-pin-5160-mAh-Android-11-B%E1%BA%A3o-h%C3%A0nh-18-th%C3%A1ng-H%C3%A0ng-ch%C3%ADnh-h%C3%A3ng-i.252710995.8135411272?position=307',\n",
       " 'https://shopee.vn/%C4%90i%E1%BB%87n-tho%E1%BA%A1i-Samsung-Galaxy-A71-H%C3%A0ng-Ch%C3%ADnh-H%C3%A3ng-M%E1%BB%9Bi-100--i.281825590.4340991144?position=308',\n",
       " 'https://shopee.vn/%C4%90i%E1%BB%87n-Tho%E1%BA%A1i-Oppo-A83-Ram-3GB-C%E1%BB%B1c-%C4%90%E1%BA%B9p-Bao-gi%C3%A1-to%C3%A0n-qu%E1%BB%91c-i.445571332.8269651024?position=309',\n",
       " 'https://shopee.vn/%C4%90I%E1%BB%86N-THO%E1%BA%A0I-OPPO-F9-CH%C3%8DNH-H%C3%83NG-100-ram-6-128-ch%C6%A1i-game-m%C6%B0%E1%BB%A3t-i.456926161.6890615204?position=310',\n",
       " 'https://shopee.vn/%C4%90i%E1%BB%87n-tho%E1%BA%A1i-nokia-216-(rm1187)2-sim-ch%C3%ADnh-h%C3%A3ng-i.20977279.7561451519?position=311',\n",
       " 'https://shopee.vn/%C4%90i%E1%BB%87n-tho%E1%BA%A1i-Google-Pixel-4-ch%C3%ADnh-h%C3%A3ng-nguy%C3%AAn-b%E1%BA%A3n-100-h%C3%ACnh-th%E1%BB%A9c-%C4%91%E1%BA%B9p-nh%C6%B0-m%E1%BB%9Bi-2-sim-ti%E1%BB%87-i.8940655.2938588580?position=312',\n",
       " 'https://shopee.vn/Nokia-1280-Zin-Ch%C3%ADnh-H%C3%A3ng-Cty-C%C5%A9-Thay-S%C6%B0%E1%BB%9Dn-V%E1%BB%8F-M%E1%BB%9Bi-Pin-S%E1%BA%A1c-M%E1%BB%9Bi-i.34655911.1268132509?position=313',\n",
       " 'https://shopee.vn/%E2%9D%A4%EF%B8%8F-%C4%90i%E1%BB%87n-Tho%E1%BA%A1i-B%C3%A0n-Kh%C3%B4ng-D%C3%A2y-L%E1%BA%AFp-X%C3%A0i-Sim-C%C3%A1c-Lo%E1%BA%A1i-VinaPhone-Viettel-Mobifone-Gphone-HomePhone-M%C3%A3-Huawei-GSM-3125i.-i.291057006.7544942893?position=314',\n",
       " 'https://shopee.vn/%C4%90i%E1%BB%87n-tho%E1%BA%A1i-Realme-GT-neo-Flash-8-128-nguy%C3%AAn-seal-ch%C6%B0a-active-b%E1%BA%A3o-h%C3%A0nh-1-n%C4%83m-i.392890400.10820849502?position=315',\n",
       " 'https://shopee.vn/%C4%90i%E1%BB%87n-tho%E1%BA%A1i-TKEXUN-2720-N%E1%BA%AFp-G%E1%BA%ADp-Kim-Lo%E1%BA%A1i-i.130503882.3339630507?position=316',\n",
       " 'https://shopee.vn/%C4%90I%E1%BB%86N-THO%E1%BA%A0I-SAMSUNG-GALAXY-CH%C3%8DNH-H%C3%83NG-J4-2018-j400-M%E1%BB%9AI-99--i.320293695.9488301324?position=317',\n",
       " 'https://shopee.vn/-C%E1%BB%B0C-CH%E1%BA%A4T-%C4%90I%E1%BB%86N-THO%E1%BA%A0I-SUN-6-4sim-c%C3%B3-%C4%91%E1%BB%95i-gi%E1%BB%8Dng-n%C3%B3i-loa-to-ch%E1%BB%AF-to-(H%C3%80NG-CH%C3%8DNH-H%C3%83NG)-i.105747592.11108790397?position=318',\n",
       " 'https://shopee.vn/%C4%90i%E1%BB%87n-tho%E1%BA%A1i-3G-Nokia-2730-Zin-b%E1%BA%A3o-h%C3%A0nh-12-th%C3%A1ng-%C4%91%E1%BB%A7-pin-s%E1%BA%A1c-i.1657913.8555176055?position=319',\n",
       " 'https://shopee.vn/%C4%90i%E1%BB%87n-tho%E1%BA%A1i-n%E1%BB%99i-%C4%91ia-Nh%E1%BA%ADt-Kyocera-Kyv32-m%C3%A0n-5-inch-ram-2Gb-16Gb-i.18479475.2086681548?position=320',\n",
       " 'https://shopee.vn/mi%E1%BA%BFng-d%C3%A1n-%C4%91i%E1%BB%87n-tho%E1%BA%A1i-t%C3%A0i-l%E1%BB%99c-v%C3%A0-may-m%E1%BA%AFn-i.57564701.8089876652?position=321',\n",
       " 'https://shopee.vn/%C4%90i%E1%BB%87n-tho%E1%BA%A1i-Itel-2161-(Ace)-ghi-%C3%A2m-cu%E1%BB%99c-g%E1%BB%8Di-gi%E1%BA%A3-gi%E1%BB%8Dng-n%C3%B3i-ng%C6%B0%E1%BB%9Di-l%E1%BB%9Bn-tr%E1%BA%BB-em-ph%E1%BB%A5-n%E1%BB%AF-T%E1%BA%B7ng-k%C3%A8m-th%E1%BA%BB-nh%E1%BB%9B-4GB-i.23220672.11510993534?position=322',\n",
       " 'https://shopee.vn/%C4%91i%E1%BB%87n-tho%E1%BA%A1i-Sony-Xperia-Xz1-ram-4G-64G-m%E1%BB%9Bi-zin-Ch%C3%ADnh-H%C3%A3ng-i.122206336.5466230434?position=323',\n",
       " 'https://shopee.vn/L%C3%A1-v%C3%A0ng-M%C3%A8o-Th%E1%BA%A7n-T%C3%A0i-Tr%C3%A2u-Th%E1%BA%A7n-T%C3%A0i-M%E1%BA%A1-18K-r%C6%B0%E1%BB%9Bc-T%C3%A0i-L%E1%BB%99c-May-M%E1%BA%AFn-%C4%91%E1%BB%83-trong-%E1%BB%90p-%C4%91i%E1%BB%87n-tho%E1%BA%A1i-V%C3%AD-%E2%80%93-Dino-Case-t%E1%BA%BFt-i.83115490.5568773359?position=324',\n",
       " 'https://shopee.vn/%C4%90i%E1%BB%87n-Tho%E1%BA%A1i-Vsmart-Star-4-3GB-32GB-H%C3%A0ng-Ch%C3%ADnh-H%C3%A3ng-i.193124085.4646772119?position=325',\n",
       " 'https://shopee.vn/-H%C3%80NG-CH%C3%8DNH-H%C3%83NG-100-%C4%90I%E1%BB%86N-THO%E1%BA%A0I-Nokia-1280-h%C3%A0ng-ch%C3%ADnh-h%C3%A3ng-%C4%91%E1%BB%A7-ph%E1%BB%A5-ki%E1%BB%87n-PIN-VI%E1%BB%86T-NAM-5-NG%C3%80Y-CH%C6%AFA-S%E1%BA%A0C-i.89899849.7536434210?position=326',\n",
       " 'https://shopee.vn/%C4%90i%E1%BB%87n-tho%E1%BA%A1i-Xiaomi-Redmi-3-16G-c%C3%B3-ti%E1%BA%BFng-Vi%E1%BB%87t-Snapdragon-615-M%C3%A0n-5-inch-i.49282974.5611659907?position=327',\n",
       " 'https://shopee.vn/%C4%90I%E1%BB%86N-THO%E1%BA%A0I-NOKIA-105-(2017)-2-SIM-ZIN-CH%C3%8DNH-H%C3%80NG-i.276623547.6949257181?position=328',\n",
       " 'https://shopee.vn/Apple-iPhone-12-Pro-Max-256GB-i.288286284.4764444728?position=329',\n",
       " 'https://shopee.vn/Apple-iPhone-Xr-64GB-i.288286284.4160803287?position=330',\n",
       " 'https://shopee.vn/%C4%90i%E1%BB%87n-tho%E1%BA%A1i-Samsung-Galaxy-M51-H%C3%A0ng-Ch%C3%ADnh-H%C3%A3ng-i.110595666.7591531569?position=331',\n",
       " 'https://shopee.vn/-S%E1%BA%B4N-%C4%90i%E1%BB%87n-Tho%E1%BA%A1i-Vsmart-Aris-M%C3%A1y-M%E1%BB%9Bi-100-B%E1%BA%A3o-H%C3%A0nh-Ch%C3%ADnh-H%C3%A3ng-18-Th%C3%A1ng-i.313858795.3063125118?position=332',\n",
       " 'https://shopee.vn/%C4%90i%E1%BB%87n-tho%E1%BA%A1i-Samsung-Galaxy-S10-5G-m%E1%BB%9Bi-99-B%E1%BA%A3o-h%C3%A0nh-12-th%C3%A1ng-i.61212663.3138804973?position=333',\n",
       " 'https://shopee.vn/%C4%90i%E1%BB%87n-tho%E1%BA%A1i-Nokia-c2-01-m%E1%BA%A1ng-3G-(pin-sac-th%E1%BA%BB-nh%E1%BB%9B)-ch%C3%ADnh-h%C3%A3ng-i.129982976.5134517752?position=334',\n",
       " 'https://shopee.vn/%C4%90i%E1%BB%87n-tho%E1%BA%A1i-Xiaomi-Redmi-9C-(3GB-64GB)-H%C3%A0ng-ch%C3%ADnh-h%C3%A3ng-i.331695868.7863013616?position=335',\n",
       " 'https://shopee.vn/-X%E1%BA%A2-KHO-H%C3%80NG-CH%C3%8DNH-H%C3%83NG-%C4%90i%E1%BB%87n-tho%E1%BA%A1i-105(1sim)-%C4%91%E1%BB%A7-bin-t%E1%BA%B7ng-k%C3%A8m-s%E1%BA%A1c-i.345162160.10902323836?position=336',\n",
       " 'https://shopee.vn/%C4%90i%E1%BB%87n-Tho%E1%BA%A1i-OPPO-RENO6-(8GB-128GB)-H%C3%A0ng-Ch%C3%ADnh-H%C3%A3ng-i.25452983.9478830410?position=337',\n",
       " 'https://shopee.vn/-H%C3%80NG-CH%E1%BA%A4T-L%C6%AF%E1%BB%A2NG-%C4%90I%E1%BB%86N-THO%E1%BA%A0I-NOKIA-6300-B%E1%BB%80N-12-TH%C3%81NG-B%E1%BA%A2O-H%C3%80NH-i.130503882.3154548539?position=338',\n",
       " 'https://shopee.vn/keo-d%C3%A1n-m%C3%A0n-h%C3%ACnh-%C4%91i%E1%BB%87n-tho%E1%BA%A1i-i.244292162.8916151210?position=339',\n",
       " 'https://shopee.vn/Nokia-E63-Cty-zin-%C4%91%E1%BA%B9p-i.129649666.6495878175?position=340',\n",
       " 'https://shopee.vn/%C4%90i%E1%BB%87n-tho%E1%BA%A1i-mini-L8STAR-BM10-Thay-%C4%91%E1%BB%95i-gi%E1%BB%8Dng-n%C3%B3i-2-sim-2-s%C3%B3ng-nghe-nh%E1%BA%A1c-h%E1%BB%97-tr%E1%BB%A3-th%E1%BA%BB-nh%E1%BB%9B-i.215436462.11941789535?position=341',\n",
       " 'https://shopee.vn/S%E1%BB%89-l%E1%BA%BB-m%C3%A1y-bm10-mini-l%E1%BA%AFp-2-sim-nghe-g%E1%BB%8Di-(-c%C3%B3-ch%E1%BB%A9c-n%C4%83ng-%C4%91%E1%BB%95i-gi%E1%BB%8Dng-n%C3%B3i-)-i.50817933.5458242943?position=342',\n",
       " 'https://shopee.vn/%F0%9F%8E%81-%C4%90i%E1%BB%87n-tho%E1%BA%A1i-Google-Pixel-2-ch%E1%BB%A5p-%E1%BA%A3nh-%C4%91%C3%AAm-si%C3%AAu-%C4%91%E1%BA%B9p-i.204574220.6628544837?position=343',\n",
       " 'https://shopee.vn/%C4%90i%E1%BB%87n-tho%E1%BA%A1i-BlackBerry-Q20-m%C3%A1y-zin-nguy%C3%AAn-b%E1%BA%A3n-i.64945499.2273892349?position=344',\n",
       " 'https://shopee.vn/-Free-ship-%C4%90i%E1%BB%87n-tho%E1%BA%A1i-Samsung-Galaxy-S9-S9-Plus-Galaxy-S9-S9-Plus-H%C3%A0n-Qu%E1%BB%91c-2Sim-M-i.189268414.6608464251?position=345',\n",
       " 'https://shopee.vn/M%C3%A0n-h%C3%ACnh-Ip-6S-zin-b%C3%B3c-m%C3%A1y-i.81069780.4224950807?position=346',\n",
       " 'https://shopee.vn/Chuy%C3%AAn-b%C3%A1n-s%E1%BB%89-Nokia-105-2sim-H%C3%80NG-CH%C3%8DNH-H%C3%83NG-X%E1%BB%8AN-k%C3%A8m-pin-s%E1%BA%A1c-i.293394460.7869451790?position=347',\n",
       " 'https://shopee.vn/%C4%90%E1%BA%BF-s%E1%BA%A1c-nhanh-kh%C3%B4ng-d%C3%A2y-ki%C3%AAm-gi%C3%A1-%C4%91%E1%BB%A1-%C4%91i%E1%BB%87n-tho%E1%BA%A1i-ch%C3%ADnh-h%C3%A3ng-WK-10W-WP-U84-1-%C4%90%E1%BB%94I-1-BH-12-TH%C3%81NG--i.513150387.10635724151?position=348',\n",
       " 'https://shopee.vn/%C4%90i%E1%BB%87n-tho%E1%BA%A1i-pixel-4-nguy%C3%AAn-zin-%C3%A1p-su%E1%BA%A5t-P-OLED-5.7-Full-HD-Chatmobile-i.241749563.8344769717?position=349',\n",
       " 'https://shopee.vn/%C4%91i%E1%BB%87n-tho%E1%BA%A1i-oppo-c%C5%A9-neo5-A31-i.116641859.9100933295?position=350',\n",
       " 'https://shopee.vn/%C4%90i%E1%BB%87n-Tho%E1%BA%A1i-Ng%C6%B0%E1%BB%9Di-%08Gi%C3%A0-Masstel-Fami-11-Loa-To-FM-Kh%C3%B4ng-D%C3%A2y-%C4%90%E1%BB%8Dc-S%E1%BB%91-B%E1%BA%B1ng-Gi%E1%BB%8Dng-N%C3%B3i-...-CH%C3%8DNH-H%C3%83NG--i.276123324.5973183571?position=351',\n",
       " 'https://shopee.vn/m%C3%A1y-t%C3%ADnh-b%E1%BA%A3ng-insignia-15T8LTE-8-inch-chip-l%C3%B5i-t%E1%BB%A9-ram-1Gb-8Gb-i.18479475.6576080608?position=352',\n",
       " 'https://shopee.vn/-M%C3%A3-SKAMSALE10-gi%E1%BA%A3m-10-%C4%91%C6%A1n-200K-%C4%90i%E1%BB%87n-tho%E1%BA%A1i-sharp-304sh-ram-2G-Chip-snap-801-i.118753950.8129997596?position=353',\n",
       " 'https://shopee.vn/%C4%90i%E1%BB%87n-tho%E1%BA%A1i-Google-Pixel-3a-Qu%E1%BB%91c-t%E1%BA%BF-2-sim-m%E1%BB%9Bi-99-bao-g%E1%BB%93m-s%E1%BA%A1c-zin.-i.41470347.10211523963?position=354',\n",
       " 'https://shopee.vn/%C4%90i%E1%BB%87n-tho%E1%BA%A1i-Samsung-Galaxy-M32-Ch%C3%ADnh-h%C3%A3ng-m%E1%BB%9Bi-nguy%C3%AAn-seal-100--i.2849350.11748564700?position=355',\n",
       " 'https://shopee.vn/%C4%90i%E1%BB%87n-Tho%E1%BA%A1i-%F0%9D%90%8D%F0%9D%90%A8%F0%9D%90%A4%F0%9D%90%A2%F0%9D%90%9A-%F0%9D%9F%8F%F0%9D%9F%90%F0%9D%9F%96%F0%9D%9F%8E-Ch%E1%BA%A5t-L%C6%B0%E1%BB%A3ng-%F0%9D%90%87%F0%9D%90%9A%CC%80%F0%9D%90%A7%F0%9D%90%A0-%F0%9D%90%8B%F0%9D%90%A8%F0%9D%90%9A%CC%A3%F0%9D%90%A2-%F0%9D%9F%8F-BH-12-Th%C3%A1ng-i.279180632.3252309873?position=356',\n",
       " 'https://shopee.vn/%C4%90i%E1%BB%87n-tho%E1%BA%A1i-SamSsung-Galaxy-S8-Active-Ram-4-64gb-m%C3%A0n-h%C3%ACnh-Super-AMOLED-5.8-Quad-HD-(2K)-i.273958284.9427188148?position=357',\n",
       " 'https://shopee.vn/-K%E1%BB%8ACH-S%C3%80N-%C4%90i%E1%BB%87n-tho%E1%BA%A1i-mini-Kechaoda-K115-ki%C3%AAm-tai-nghe-bluetooth-nh%E1%BB%8F-g%E1%BB%8Dn-3-s%C3%B3ng-si%C3%AAu-m%E1%BB%8Fng-BH-12-th%C3%A1ng-i.258024661.6143222750?position=358',\n",
       " 'https://shopee.vn/%C4%90i%E1%BB%87n-tho%E1%BA%A1i-Vivo-IQOO-Z1X-6-64GB-Khang-Nhung-H%C3%A0ng-Nh%E1%BA%ADp-Kh%E1%BA%A9u-i.39104237.12302299500?position=359',\n",
       " 'https://shopee.vn/-M%C3%A3-SKAMSALE10-gi%E1%BA%A3m-10-%C4%91%C6%A1n-200K-%C4%90i%E1%BB%87n-tho%E1%BA%A1i-Brown-1-nh%E1%BB%8F-g%E1%BB%8Dn-c%E1%BA%A7m-tay-C%E1%BA%A3m-bi%E1%BA%BFn-v%C3%A2n-tay-2G-16G-13mp-8mp-android-7-m%C3%A0n-h%C3%ACnh-i.10977.3892880301?position=360',\n",
       " 'https://shopee.vn/N%C3%BAt-home-zin-iphone-6s-i.93822706.8459194840?position=361',\n",
       " 'https://shopee.vn/N%E1%BA%AFp-l%C6%B0ng-Xiaomi-Redmi-note-7-i.120882864.3934075424?position=362',\n",
       " 'https://shopee.vn/%C4%91i%E1%BB%87n-tho%E1%BA%A1i-samsung-galaxy-j500-j5-2015-m%E1%BB%9Bi-99--i.320293695.4192378867?position=363',\n",
       " 'https://shopee.vn/%C4%90i%E1%BB%87n-tho%E1%BA%A1i-Samsung-Galaxy-M32-Ha%CC%80ng-Chi%CC%81nh-Ha%CC%83ng-M%C6%A1%CC%81i-Nguy%C3%AAn-Seal-!-i.281825590.10748739358?position=364',\n",
       " 'https://shopee.vn/-MI%E1%BB%84N-PH%C3%8D-V%E1%BA%ACN-CHUY%E1%BB%82N-Gh%E1%BA%BF-%C4%90i%E1%BB%87n-Tho%E1%BA%A1i-Thi%E1%BA%BFt-K%E1%BA%BF-Tinh-T%E1%BA%BF-i.109526876.10508634439?position=365',\n",
       " 'https://shopee.vn/%C4%90i%E1%BB%87n-Tho%E1%BA%A1i-Mini-2-Sim-Cute-i.130503882.2144758053?position=366',\n",
       " 'https://shopee.vn/B%E1%BB%99-4-Mi%E1%BA%BFng-D%C3%A1n-%C4%90i%E1%BB%87n-Tho%E1%BA%A1i-T%C3%A0i-L%E1%BB%99c-May-M%E1%BA%AFn-Ph%C3%B9-H%E1%BB%A3p-Cho-C%C3%A1c-D%C3%B2ng-%C4%90i%E1%BB%87n-Tho%E1%BA%A1i-%C4%90%E1%BA%B9p-Lung-Linh-i.368839578.6387407108?position=367',\n",
       " 'https://shopee.vn/%C4%90i%E1%BB%87n-tho%E1%BA%A1i-Samsung-Galaxy-M31-H%C3%A0ng-Ch%C3%ADnh-H%C3%A3ng-M%E1%BB%9Bi-100--i.281825590.3560048689?position=368',\n",
       " 'https://shopee.vn/%C4%90i%E1%BB%87n-Tho%E1%BA%A1i-Mini-2-Sim-Cute-i.251968365.5050427869?position=369',\n",
       " 'https://shopee.vn/%C4%90i%E1%BB%87n-Tho%E1%BA%A1i-2-Sim-Masstel-IZI-112-ch%E1%BB%AF-si%C3%AAu-to-H%C3%A0ng-ch%C3%ADnh-h%C3%A3ng-BH-12-th%C3%A1ng-i.14947974.960643352?position=370',\n",
       " 'https://shopee.vn/N%E1%BA%AFp-l%C6%B0ng-k%C3%ADnh-Samsung-Note-8-N950-ch%C3%ADnh-h%C3%A3ng-Galaxy-Note-8-zin-c%C3%B4ng-ty-i.61382706.4932929237?position=371',\n",
       " 'https://shopee.vn/(H%C3%A0ng-%C4%90%E1%BA%B9p-Like-New-98-99-)-%C4%90i%E1%BB%87n-Tho%E1%BA%A1i-Nh%E1%BA%ADt-B%E1%BA%A3n-Kyocera-Torque-G03-Ram-3Gb-Rom-32Gb-CH%C6%A0I-T%E1%BB%90T-PUBG-LI-i.174341597.7512699400?position=372',\n",
       " 'https://shopee.vn/%C4%90i%E1%BB%87n-tho%E1%BA%A1i-hello-kitty-2-sim-2-s%C3%B3ng-nghe-nh%E1%BA%A1c-ch%E1%BB%A5p-%E1%BA%A3nh-r%E1%BA%A5t-%C4%91%C3%A1ng-y%C3%AAu-gi%C3%A0nh-cho-b%C3%A9-t%E1%BA%B7ng-ngay-sim-Vietnammobile-30GB--i.22570014.4734671918?position=373',\n",
       " 'https://shopee.vn/%C4%90i%E1%BB%87n-tho%E1%BA%A1i-nokia-150-l%C6%B0%E1%BB%9Bt-2-sim-ch%C3%ADnh-h%C3%A3ng-i.20977279.1839154723?position=374',\n",
       " 'https://shopee.vn/%C4%90i%E1%BB%87n-Tho%E1%BA%A1i-Sky-A850-Phi%C3%AAn-B%E1%BA%A3n-Qu%E1%BB%91c-T%E1%BA%BF-i.132197268.2033867661?position=375',\n",
       " 'https://shopee.vn/%C4%90i%E1%BB%87n-tho%E1%BA%A1i-di-%C4%91%E1%BB%99ng-Nokia-6300-4G-Dual-Sim-(2020)-H%C3%A0ng-Ch%C3%ADnh-H%C3%A3ng-i.66829677.5263322175?position=376',\n",
       " 'https://shopee.vn/%C4%90i%E1%BB%87n-tho%E1%BA%A1i-Xiaomi-Redmi-3S-c%C3%B3-ti%E1%BA%BFng-Vi%E1%BB%87t-Snap430-V%C3%A2n-tay-Pin-4100mAh-i.49282974.1668550025?position=377',\n",
       " 'https://shopee.vn/phong-th%E1%BB%A7y-t%E1%BB%91t-mi%E1%BA%BFng-d%C3%A1n-%C4%91i%E1%BB%87n-tho%E1%BA%A1i-ipad-xe-%C4%91%E1%BB%83-trong-v%C3%AD-k%C3%A9t-c%C3%B3-qu%C3%BD-nh%C3%A2n-ph%C3%B9-tr%E1%BB%A3-i.305739389.3048049052?position=378',\n",
       " 'https://shopee.vn/%C4%90i%E1%BB%87n-tho%E1%BA%A1i-Google-Pixel-3-XL-M%C3%A0n-6.3-Snap-845-i.49282974.9655991113?position=379',\n",
       " 'https://shopee.vn/%C4%90i%C3%AA%CC%A3n-thoa%CC%A3i-Google-Pixel-3-cam-chu%CC%A3p-a%CC%89nh-si%C3%AAu-%C4%91e%CC%A3p-Android-thu%C3%A2%CC%80n-cha%CC%A3y-m%C6%B0%C6%A1%CC%A3t-ma%CC%80-i.250757536.7867656798?position=380',\n",
       " 'https://shopee.vn/%C4%90i%E1%BB%87n-tho%E1%BA%A1i-Vivo-X50-8GB-128GB-H%C3%A0ng-ch%C3%ADnh-h%C3%A3ng-i.69897724.3242118274?position=381',\n",
       " 'https://shopee.vn/-BAO-%C4%90%E1%BB%94I-TR%E1%BA%A2-%C4%90i%E1%BB%87n-tho%E1%BA%A1i-%C4%91%E1%BB%99c-l%E1%BA%A1-x%E1%BB%8Bn-c%E1%BA%A3m-%E1%BB%A9ng-16GB-ROM-2GB-RAM-i.85469575.3169045502?position=382',\n",
       " 'https://shopee.vn/%C4%90i%E1%BB%87n-tho%E1%BA%A1i-LG-V50-ThinQ-3-Camera-b%E1%BA%A3n-H%C3%A0n-Qu%E1%BB%91c-ram-6G-128G-Snap855-Chi%E1%BA%BFn-PUBG-Li%C3%AAn-Qu%C3%A2n-m%C6%B0%E1%BB%A3t-i.189268414.13101566868?position=383',\n",
       " 'https://shopee.vn/%C4%90i%E1%BB%87n-tho%E1%BA%A1i-Realme-V15-5G-6-128Gb-H%C3%A0ng-nh%E1%BA%ADp-kh%E1%BA%A9u-i.242986983.9725250132?position=384',\n",
       " 'https://shopee.vn/%F0%9F%87%BB%F0%9F%87%B3-ROM-TV-%F0%9F%8E%81BH-VIP%E2%98%80%EF%B8%8F-%C4%90i%E1%BB%87n-tho%E1%BA%A1i-Xiaomi-Redmi-K40-Gaming-Game-Enhanced-Edition-m%C3%A0n-120Hz-i.440881187.9656075516?position=385',\n",
       " 'https://shopee.vn/%C4%90i%E1%BB%87n-Tho%E1%BA%A1i-Xiaomi-Redmi-Note-10S-(8GB-128GB)-H%C3%A0ng-Ch%C3%ADnh-H%C3%A3ng-i.2849350.2989030109?position=386',\n",
       " 'https://shopee.vn/Nokia-C2-01-ch%C3%ADnh-h%C3%A3ng-zin-cty-i.129649666.9183601534?position=387',\n",
       " 'https://shopee.vn/%C4%90i%E1%BB%87n-tho%E1%BA%A1i-Energizer-E100-Ch%E1%BB%91ng-n%C6%B0%E1%BB%9Bc-H%C3%A0ng-Ch%C3%ADnh-H%C3%A3ng-B%E1%BA%A3o-H%C3%A0nh-12-Th%C3%A1ng-i.27391944.4697222703?position=388',\n",
       " 'https://shopee.vn/%C4%90i%E1%BB%87n-tho%E1%BA%A1i-Realme-V15-5G-s%E1%BA%B5n-Ti%E1%BA%BFng-Vi%E1%BB%87t-Ram-6GB-128Gb-H%C3%A0ng-nh%E1%BA%ADp-kh%E1%BA%A9u-i.230383794.6894258322?position=389',\n",
       " 'https://shopee.vn/C%E1%BA%A3m-%E1%BB%A9ng-Ipad-mini-1-2-c%C3%B3-IC-i.418171915.11631404901?position=390',\n",
       " 'https://shopee.vn/%C4%90i%E1%BB%87n-tho%E1%BA%A1i-Pixel-3a-qu%E1%BB%91c-t%E1%BA%BF-2-sim-%C4%91%E1%BA%B9p-98-99-OLED5.6-Full-HD-chatmobile-i.241749563.9067013881?position=391',\n",
       " 'https://shopee.vn/%C4%90i%E1%BB%87n-Tho%E1%BA%A1i-Xiaomi-Mi-11-lite-5G-Chip-Snapdragon-780G-Khang-Nhung-H%C3%A0ng-Nh%E1%BA%ADp-Kh%E1%BA%A9u-i.39104237.12601439321?position=392',\n",
       " 'https://shopee.vn/%C4%90i%E1%BB%87n-tho%E1%BA%A1i-Xiaomi-POCO-M3-4GB-64GB-H%C3%A0ng-Ch%C3%ADnh-H%C3%A3ng-nguy%C3%AAn-seal-i.27662376.3684549929?position=393',\n",
       " 'https://shopee.vn/%C4%90i%C3%AAn-tho%E1%BA%A1i-smartphone-IPhone-4-16-8gb-Ch%C3%ADnh-h%C3%A3ng-t%E1%BA%B7ng-k%C3%A8m-c%C3%A1p-s%E1%BA%A1c-h%E1%BB%97-tr%E1%BB%A3-b%E1%BA%A3o-h%C3%A0nh-to%C3%A0n-qu%E1%BB%91c-duongbimbimm-i.203317301.11749647145?position=394',\n",
       " 'https://shopee.vn/N%C3%BAt-home-Zin-Iphone-6G-%C4%90en-i.93822706.9759186920?position=395',\n",
       " 'https://shopee.vn/%C4%90i%E1%BB%87n-tho%E1%BA%A1i-Vsmart-Joy-4-(3GB-64GB)-H%C3%A0ng-ch%C3%ADnh-h%C3%A3ng-i.40757878.6053769579?position=396',\n",
       " 'https://shopee.vn/%C4%90i%E1%BB%87n-Tho%E1%BA%A1i-Di-%C4%90%E1%BB%99ng-Masstel-IZi-109-izi-112-it2163-ch%E1%BB%AF-to-cho-ng%C6%B0%E1%BB%9Di-gi%C3%A0-H%C3%A0ng-m%E1%BB%9Bi-ch%C3%ADnh-h%C3%A3ng-i.105747592.1867634692?position=397',\n",
       " 'https://shopee.vn/B%C3%B4%CC%A3-2-mi%C3%AA%CC%81ng-C%C6%B0%E1%BB%9Dng-l%E1%BB%B1c-gor-Xiaomi-redmi-note-9s-note-9-pro-5g-note-9-4g-5g-redmi-9T-10x-4g-redmi-10x-5g-Poco-m3-i.13928634.7227920457?position=398',\n",
       " 'https://shopee.vn/%C4%90i%E1%BB%87n-tho%E1%BA%A1i-xiaomi-redmi-note-3-pro-gi%C3%A1-r%E1%BA%BB-2-sim-c%C3%B3-th%E1%BA%BB-nh%E1%BB%9B-ram-3gb-32gb-i.76799913.2480627409?position=399',\n",
       " 'https://shopee.vn/%C4%90i%E1%BB%87n-tho%E1%BA%A1i-oppo-a31-fullbox-ram-4-6-128-ch%C6%A1i-game-m%E1%BA%A1nh-i.456926161.11109080611?position=400',\n",
       " 'https://shopee.vn/-M%C3%A3-SKAMSALE10-gi%E1%BA%A3m-10-%C4%91%C6%A1n-200K-%C4%90i%E1%BB%87n-tho%E1%BA%A1i-sharp-SHV36-ch%E1%BB%91ng-n%C6%B0%E1%BB%9Bc-i.118753950.8130779616?position=401',\n",
       " 'https://shopee.vn/-Ch%C3%ADnh-H%C3%A3ng-%C4%90T-Nokia-1280-Zin-%C4%90%E1%BB%99-Led-Nh%E1%BA%A1c-Mp3-(-M%C3%A1y-Pin-S%E1%BA%A1c)-i.34655911.809645900?position=402',\n",
       " 'https://shopee.vn/%C4%90i%E1%BB%87n-tho%E1%BA%A1i-Google-Pixel-2-Snap-835-T%E1%BA%B7ng-%E1%BB%91p-l%C6%B0ng-i.49282974.2446529011?position=403',\n",
       " 'https://shopee.vn/%C4%90i%E1%BB%87n-tho%E1%BA%A1i-nokia-215(pin-s%E1%BA%A1c)-2-sim-ch%C3%ADnh-h%C3%A3ng-i.129982976.1956885406?position=404',\n",
       " 'https://shopee.vn/%C4%90i%E1%BB%87n-Tho%E1%BA%A1i-Nokia-110-Dual-Sim-(2019)-H%C3%A0ng-Ch%C3%ADnh-H%C3%A3ng-i.66829677.3353245263?position=405',\n",
       " 'https://shopee.vn/%C4%91i%E1%BB%87n-tho%E1%BA%A1i-Samsung-Galaxy-J7-Prime-qu%E1%BB%91c-t%E1%BA%BF-J7-Prime-ch%C3%ADnh-h%C3%A3ng-2-sim-2-s%C3%B3ng-m%C3%A1y-kh%E1%BB%8Fe-i.189268414.4285440001?position=406',\n",
       " 'https://shopee.vn/Que-Ch%E1%BB%8Dc-Th%E1%BA%BB-SIM-Ch%E1%BA%A5t-L%C6%B0%E1%BB%A3ng-Cao-Cho-Khe-%C4%90%E1%BB%8Dc-Th%E1%BA%BB-C%E1%BB%A7a-%C4%90i%E1%BB%87n-Tho%E1%BA%A1i-Apple-V%C3%A0-Android-B%E1%BA%B1ng-Kim-Lo%E1%BA%A1i-C%E1%BB%A9ng-H%C3%ACnh-Qu%E1%BA%A3-%C4%90%C3%A0o-i.108298311.8405531556?position=407',\n",
       " 'https://shopee.vn/Google-Pixel-3-3XL-%C4%90i%E1%BB%87n-Tho%E1%BA%A1i-GG-Chip-Snapdragon-845-Ram-4G-64GB-128GB.-Ch%C6%A1i-Game-T%E1%BB%91t-Qu%E1%BB%91c-T%E1%BA%BF-C%C5%A9-Gi%C3%A1-R%E1%BA%BB-Sonpixel.-i.49952348.9448593207?position=408',\n",
       " 'https://shopee.vn/%C4%90i%E1%BB%87n-tho%E1%BA%A1i-Xiaomi-Redmi-Note-10-Pro-(8GB-128GB)-H%C3%A0ng-ch%C3%ADnh-h%C3%A3ng-i.331695868.3018208251?position=409',\n",
       " 'https://shopee.vn/%C4%90i%E1%BB%87n-tho%E1%BA%A1i-Sony-XZ2-Premium-b%E1%BA%A3n-nh%E1%BA%ADt-1-sim-ram-6-64g-ch%C3%ADp-845-si%C3%AAu-kh%C3%A1ng-n%C6%B0%E1%BB%9Bc-i.71474818.3287751122?position=410',\n",
       " 'https://shopee.vn/%C4%90i%E1%BB%87n-Tho%E1%BA%A1i-Samsung-Galaxy-Note-20-Ultra-(8GB-256GB)-H%C3%A0ng-Ch%C3%ADnh-H%C3%A3ng-i.13442962.5856738233?position=411',\n",
       " 'https://shopee.vn/%C4%90i%E1%BB%87n-tho%E1%BA%A1i-Xiaomi-Redmi-Note-3-Pro-Ram-3G-32G-Chip-Snapdragon-650-i.152903230.7564998651?position=412',\n",
       " 'https://shopee.vn/%C4%90i%E1%BB%87n-tho%E1%BA%A1i-google-pixel-3axl-si%C3%AAu-ph%E1%BA%A9m-camera-b%E1%BA%A3n-1-sim-b%E1%BB%99-nh%E1%BB%9B-64g-i.71474818.5886628439?position=413',\n",
       " 'https://shopee.vn/%C4%90i%E1%BB%87n-tho%E1%BA%A1i-Google-Pixel-3XL-nguy%C3%AAn-b%E1%BA%A3n-ch%C3%ADnh-h%C3%A3ng-%C4%91%E1%BA%B9p-nh%C6%B0-m%E1%BB%9Bi-98-99-Chatmobile-i.241749563.5784671176?position=414',\n",
       " 'https://shopee.vn/%C4%90i%E1%BB%87n-tho%E1%BA%A1i-LG-V50-ThinQ-h%C3%A0n-qu%E1%BB%91c-ram-6-b%E1%BB%99-nh%E1%BB%9B-128g-ch%C3%ADp-snapdaragon-855-h%E1%BB%97-tr%E1%BB%A3-5G-i.71474818.3196919697?position=415',\n",
       " 'https://shopee.vn/-T%E1%BA%B7ng-k%C3%A8m-si.m-%C4%90i%E1%BB%87n-tho%E1%BA%A1i-1280-v%C3%A0-110i-huy%E1%BB%81n-tho%E1%BA%A1i-T%E1%BA%B7ng-k%C3%A8m-pin-S%E1%BA%A1c-i.75520775.3880500962?position=416',\n",
       " 'https://shopee.vn/%C4%90i%E1%BB%87n-tho%E1%BA%A1i-OPPO-A93-H%C3%A0ng-Ch%C3%ADnh-H%C3%A3ng-M%E1%BB%9Bi-100--i.2849350.10210604944?position=417',\n",
       " 'https://shopee.vn/tr%C3%A2u-v%C3%A0ng-m%C3%A8o-v%C3%A0ng-%C4%91%E1%BB%83-%E1%BB%91p-%C4%91i%E1%BB%87n-tho%E1%BA%A1i-i.29511279.4569647115?position=418',\n",
       " 'https://shopee.vn/%C4%90i%E1%BB%87n-tho%E1%BA%A1i-Viettel-V6216i-Ho%E1%BA%B7c-Xphone-2-Sim-C%C5%A9-%C4%90i%E1%BB%87n-Tho%E1%BA%A1i-Ng%C6%B0%E1%BB%9Di-Gi%C3%A0-K%C3%A8m-Pin-S%E1%BA%A1c-i.427960551.8946394093?position=419',\n",
       " 'https://shopee.vn/%C4%90i%E1%BB%87n-Tho%E1%BA%A1i-OPPO-Reno4-Pro-(8GB-256GB)-H%C3%A0ng-Ch%C3%ADnh-H%C3%A3ng-i.25452983.5043441703?position=420',\n",
       " 'https://shopee.vn/Main-x%C3%A1c-XR-X-XS-11-%C4%91%E1%BB%A5c-l%E1%BB%97-i.60395419.5867092503?position=421',\n",
       " 'https://shopee.vn/%C4%90i%E1%BB%87n-Tho%E1%BA%A1i-Samsung-Galaxy-Z-Flip3-5G-256GB-i.65589552.10527143024?position=422',\n",
       " 'https://shopee.vn/%C4%90i%E1%BB%87n-tho%E1%BA%A1i-Realme-Q3-pro-Nam-Khanh-H%C3%A0ng-nh%E1%BA%ADp-kh%E1%BA%A9u-i.52809472.13503441781?position=423',\n",
       " 'https://shopee.vn/%C4%90i%E1%BB%87n-tho%E1%BA%A1i-Samsung-Galaxy-S10-M%E1%BB%B9-Qu%E1%BB%91c-T%E1%BA%BF-%C4%91%E1%BA%B9p-Xu%E1%BA%A5t-s%E1%BA%AFc-C%E1%BA%A5u-h%C3%ACnh-kh%E1%BB%A7ng-Camera-kh%E1%BB%A7ng-gi%C3%A1-t%E1%BB%91t-i.38728286.3434608983?position=424',\n",
       " 'https://shopee.vn/%C4%90i%E1%BB%87n-Tho%E1%BA%A1i-Ng%C6%B0%E1%BB%9Di-Gi%C3%A0-L%E1%BB%9Bn-Tu%E1%BB%95i-S%E1%BB%91-To-Loa-To-Kechaoda-K51-i.96292182.9550937034?position=425',\n",
       " 'https://shopee.vn/M%E1%BB%9Bi-100-full-h%E1%BB%99p-%C4%90i%E1%BB%87n-Tho%E1%BA%A1i-itel-it2163-B%E1%BA%A3o-h%C3%A0nh-1-%C4%91%E1%BB%95i-1-trong-100-ng%C3%A0y-c%C3%B3-%C4%91%E1%BB%8Dc-s%E1%BB%91-b%C3%A0n-ph%C3%ADm-H%C3%A0ng-ch%C3%ADnh-h%C3%A3ng-i.392949477.8619486810?position=426',\n",
       " 'https://shopee.vn/MAIN-SAMSUNG-GALAXY-CH%C3%8DNH-H%C3%83NG-J4-2018-j400-i.320293695.11527523432?position=427',\n",
       " 'https://shopee.vn/%C4%90i%E1%BB%87n-tho%E1%BA%A1i-mini-ki%E1%BB%83u-d%C3%A1ng-S8-t%E1%BA%B7ng-k%C3%A8m-%E1%BB%91p-l%C6%B0ng-i.139018723.5323116789?position=428',\n",
       " 'https://shopee.vn/Coolpad-%C4%91i%E1%BB%87n-tho%E1%BA%A1i-b%C3%A0n-ph%C3%ADm-Gi%C3%A1-R%E1%BA%BB-2-Sim-F110-Ch%C3%ADnh-h%C3%A3ng-i.280156736.6140480320?position=429',\n",
       " 'https://shopee.vn/%C4%90i%E1%BB%87n-tho%E1%BA%A1i-Google-Pixel-3-64GB-ch%E1%BB%A5p-%E1%BA%A3nh-%C4%91%C3%AAm-si%C3%AAu-%C4%91%E1%BA%B9p-chip-Snap-845-Android-thu%E1%BA%A7n-i.204574220.13813951393?position=430',\n",
       " 'https://shopee.vn/%C4%90i%E1%BB%87n-tho%E1%BA%A1i-7-Plus-(7-Plut)-b%E1%BA%A3n-qu%E1%BB%91c-t%E1%BA%BF-M%E1%BB%B9-nguy%C3%AAn-zin-%C4%91%E1%BA%B9p-nh%C6%B0-m%E1%BB%9Bi-%C4%91%E1%BB%A7-c%C3%A1c-m%C3%A0u-b%E1%BB%99-nh%E1%BB%9B-t%C6%B0%C6%A1ng-%E1%BB%A9ng-giao-h%C3%A0ng-to%C3%A0n-qu%E1%BB%91c-i.242140455.12316601936?position=431',\n",
       " 'https://shopee.vn/%C4%90i%E1%BB%87n-tho%E1%BA%A1i-6S-Plus-(6S-Plut)-b%E1%BA%A3n-qu%E1%BB%91c-t%E1%BA%BF-ch%C3%ADnh-h%C3%A3ng-Zin-%C4%91%E1%BA%B9p-t%E1%BB%AB-90-%C4%91%E1%BA%BFn-99-%C4%91%E1%BA%A7y-%C4%91%E1%BB%A7-c%C3%A1c-m%C3%A0u-s%E1%BA%AFc-v%C3%A0-b%E1%BB%99-nh%E1%BB%9B-c%C3%B3-nhi%E1%BB%81u-%C6%B0u-%C4%91-i.242140455.11252745661?position=432',\n",
       " 'https://shopee.vn/%C4%90i%E1%BB%87n-tho%E1%BA%A1i-6S-nh%E1%BB%8F-b%E1%BA%A3n-qu%E1%BB%91c-t%E1%BA%BF-ch%C3%ADnh-h%C3%A3ng-zin-%C4%91%E1%BA%B9p-h%C3%ACnh-th%E1%BB%A9c-t%E1%BB%AB-90-%C4%91%E1%BA%BFn-99-%C4%91%E1%BA%A7y-%C4%91%E1%BB%A7-c%C3%A1c-m%C3%A0u-s%E1%BA%AFc-v%C3%A0-b%E1%BB%99-nh%E1%BB%9B00-i.242140455.10952745479?position=433',\n",
       " 'https://shopee.vn/%C4%91i%E1%BB%87n-tho%E1%BA%A1i-Sony-Xperia-XZ1-ram-4G-b%E1%BB%99-nh%E1%BB%9B-64G-m%E1%BB%9Bi-Ch%C6%A1i-Free-Fire-m%C6%B0%E1%BB%A3t-i.122206336.7936397594?position=434',\n",
       " 'https://shopee.vn/%C4%90i%E1%BB%87n-tho%E1%BA%A1i-si%C3%AAu-nh%E1%BB%8F-2-sim-l%E1%BA%AFp-%C4%91%C6%B0%E1%BB%A3c-th%E1%BA%BB-nh%E1%BB%9B-i.50817933.1204021441?position=435',\n",
       " 'https://shopee.vn/Mi%E1%BA%BFng-D%C3%A1n-M%C3%A8o-Th%E1%BA%A7n-T%C3%A0i-v%C3%A0-Tr%C3%A2u-V%C3%A0ng-H%C3%BAt-T%C3%A0i-L%E1%BB%99c-D%C3%B9ng-%E1%BB%90p-%C4%90i%E1%BB%87n-Tho%E1%BA%A1i-%C4%90%E1%BB%83-Trong-V%C3%AD-i.116518499.6713873805?position=436',\n",
       " 'https://shopee.vn/%C4%90i%E1%BB%87n-Tho%E1%BA%A1i-Blackberry-BB-Classic-Q20-M%C3%A1y-zin-nguy%C3%AAn-b%E1%BA%A3n-ch%C3%ADnh-h%C3%A3ng-Qu%E1%BB%91c-T%E1%BA%BF-M%E1%BB%B9-i.8940655.3902554802?position=437',\n",
       " 'https://shopee.vn/-Gi%C3%A1-S%E1%BB%91c-%C4%91i%E1%BB%87n-tho%E1%BA%A1i-Xiaomi-Redmi-Note-3-ram-3G-32G-2-sim-m%E1%BB%9Bi-Ch%C3%ADnh-h%C3%A3ng-C%C3%B3-Ti%E1%BA%BFng-Vi%E1%BB%87t-i.11171175.4152188479?position=438',\n",
       " 'https://shopee.vn/%C4%90i%E1%BB%87n-Tho%E1%BA%A1i-Nokia-105-2-Sim-(2019)-H%C3%A0ng-Ch%C3%ADnh-H%C3%A3ng-i.193124085.3309460039?position=439',\n",
       " 'https://shopee.vn/%C4%90i%E1%BB%87n-tho%E1%BA%A1i-Samsung-Galaxy-A02s-(4GB-64GB)-H%C3%A0ng-Ch%C3%ADnh-H%C3%A3ng-M%E1%BB%9Bi-100-!-i.281825590.8323654269?position=440',\n",
       " 'https://shopee.vn/Ph%C3%ADm-ngu%E1%BB%93n-Redmi-note-5-Redmi-note-5-pro-i.9370264.1752868288?position=441',\n",
       " 'https://shopee.vn/%C4%90i%E1%BB%87n-tho%E1%BA%A1i-Viettel-C%E1%BA%A2M-%E1%BB%A8NG-V8408-(c%C3%B3-cam-tr%C6%B0%E1%BB%9Bc)-2-sim-2-s%C3%B3ng-D%C3%B9ng-ph%C3%A1t-wifi-nghe-g%E1%BB%8Di-H%E1%BB%97-tr%E1%BB%A3-3G-Wifi-Fullbox-i.27662376.5063456505?position=442',\n",
       " 'https://shopee.vn/%C4%90i%E1%BB%87n-tho%E1%BA%A1i-2-sim-gi%C3%A1-r%E1%BA%BB-oppo-neo7-nh%C6%B0-m%E1%BB%9Bi-i.178181467.7560354568?position=443',\n",
       " 'https://shopee.vn/-gi%C3%A1-s%E1%BB%91c-%C4%91i%E1%BB%87n-tho%E1%BA%A1i-Oppo-A31-Neo5-16G-2sim-m%E1%BB%9Bi-Chi%E1%BA%BFn-PUBG-Li%C3%AAn-Qu%C3%A2n-ch%C6%A1i-Zalo-FB-TikTok-m%C6%B0%E1%BB%A3t-i.122206336.8000789624?position=444',\n",
       " 'https://shopee.vn/%C4%90i%E1%BB%87n-thoai-mini-2-sim-si%C3%AAu-cute-b%C3%A1n-s%E1%BB%89-7-m%C3%A0u-%C4%91%E1%BB%8F-v%C3%A0ng-cam-%C4%91en-xanh-h%E1%BB%93ng-x%C3%A1m-i.28763441.7334497764?position=445',\n",
       " 'https://shopee.vn/%C4%90i%E1%BB%87n-tho%E1%BA%A1i-Nokia-1280-Huy%E1%BB%81n-tho%E1%BA%A1i-ch%C3%ADnh-h%C3%A3ng-k%C3%A8m-pin-s%E1%BA%A1c-i.427960551.9246430789?position=446',\n",
       " 'https://shopee.vn/%C4%90i%E1%BB%87n-tho%E1%BA%A1i-c%E1%BA%A3m-%E1%BB%A9ng-gi%C3%A1-r%E1%BA%BB-Vivo-Y51-RAM-2G-ch%C6%A1i-game-si%C3%AAu-m%C6%B0%E1%BB%A3t-i.240476593.8446197115?position=447',\n",
       " 'https://shopee.vn/-Free-Ship-Khay-2-sim-cho-%C4%91i%E1%BB%87n-tho%E1%BA%A1i-Samsung-Galaxy-Note-FE-khay-%C4%91%C6%B0%CC%A3ng-sim-Note-Fe-Note7-Note8-Note9-S8-S8Plus-i.189268414.9303262274?position=448',\n",
       " 'https://shopee.vn/s%E1%BA%A3n-ph%E1%BA%A9m-kh%C3%A1ch-ch%E1%BB%8Dn-live-A90-i.19313658.6182576267?position=449',\n",
       " 'https://shopee.vn/%C4%90i%E1%BB%87n-Tho%E1%BA%A1i-Sony-XZ1-Ch%C3%ADnh-H%C3%A3ng-Thi%E1%BA%BFt-K%E1%BA%BF-Kim-Lo%E1%BA%A1i-%C4%90%E1%BA%B3ng-C%E1%BA%A5p-Chip-835-Ram-4GB-T%E1%BA%B7ng-s%E1%BA%A1c-c%C3%A1p-%E1%BB%91p-l%C6%B0ng-i.199422123.3676653017?position=450',\n",
       " \"https://shopee.vn/%C4%90i%E1%BB%87n-tho%E1%BA%A1i-Google-Pixel-3-ram-4-128gb-vua-camera-m%C3%A0n-h%C3%ACnh-oled-5.5''-fhd-i.273958284.6482852704?position=451\",\n",
       " 'https://shopee.vn/%C4%90i%E1%BB%87n-tho%E1%BA%A1i-LG-V50-thinq-h%C3%A0n-zin-%C4%91%E1%BA%B9p-keeng-99--i.91772591.6450840211?position=452',\n",
       " 'https://shopee.vn/-H%C3%80NG-LO%E1%BA%A0I-I-Cu%CC%89-sa%CC%A3c-iphone-A21-i.51583171.4342023138?position=453',\n",
       " 'https://shopee.vn/%C4%90i%E1%BB%87n-tho%E1%BA%A1i-Xiaomi-Mi-10s-8-128GB-H%C3%A0ng-Nh%E1%BA%ADp-kh%E1%BA%A9u-i.134747469.8328714191?position=454',\n",
       " 'https://shopee.vn/%C4%91i%E1%BB%87n-tho%E1%BA%A1i-oppo-c%C5%A9-neo7-A33-i.116641859.9500934559?position=455',\n",
       " 'https://shopee.vn/-M%C3%A3-159ELSA-ho%C3%A0n%C4%90i%E1%BB%87n-tho%E1%BA%A1i-LG-v40-b%E1%BA%A3n-1-sim-ram-6-b%E1%BB%99-nh%E1%BB%9B-64g-ch%C3%ADp-sapdaragon-845-si%C3%AAu-m%C6%B0%E1%BB%A3t-i.71474818.4885276434?position=456',\n",
       " 'https://shopee.vn/%C4%90i%E1%BB%87n-tho%E1%BA%A1i-Xiaomi-Redmi-10(4GB-128GB)-H%C3%A0ng-ch%C3%ADnh-h%C3%A3ng-i.407016717.9940639374?position=457',\n",
       " 'https://shopee.vn/%EF%BF%BD%C4%90i%E1%BB%87n-tho%E1%BA%A1i-Sharp-shv38-%EF%BF%BDram-3G-chip-s617-camera-21mx-i.118753950.4291384022?position=458',\n",
       " 'https://shopee.vn/%C4%90i%E1%BB%87n-tho%E1%BA%A1i-Huawei-Honor-7-ram-3G-64G-Kirin-935-i.49282974.9276592008?position=459',\n",
       " 'https://shopee.vn/%C4%90i%E1%BB%87n-tho%E1%BA%A1i-ip-5s-32-16gb-qte-ch%C3%ADnh-h%C3%A3ng-h%C3%A0ng-%C4%91%E1%BA%B9p-ch%E1%BB%8Dn-l%E1%BB%8Dc-cam-k%E1%BA%BFt-zin-b%E1%BA%A3o-h%C3%A0nh-to%C3%A0n-qu%E1%BB%91c-i.203317301.10548815243?position=460',\n",
       " 'https://shopee.vn/%C4%90i%E1%BB%87n-tho%E1%BA%A1i-Samsung-Galaxy-S21-Ultra-5G-H%C3%A0ng-ch%C3%ADnh-h%C3%A3ng-i.116848184.9537150261?position=461',\n",
       " 'https://shopee.vn/%C4%90i%E1%BB%87n-Tho%E1%BA%A1i-Xiaomi-Poco-M3-4GB-64GB-Ch%C3%ADnh-H%C3%A3ng-Nguy%C3%AAn-Seal-100-B%E1%BA%A3o-H%C3%A0nh-18th-1-%C4%91%E1%BB%95i-1-i.116848184.9063575240?position=462',\n",
       " 'https://shopee.vn/k%C3%ADnh-camera-samsung-note-20-ultra-zin-new-h%C3%A3ng-i.36007605.3687894828?position=463',\n",
       " 'https://shopee.vn/n%E1%BA%AFp-l%C6%B0ng-8700-b%C3%B3c-m%C3%A1y-i.191951750.9174481326?position=464',\n",
       " 'https://shopee.vn/%C4%90i%E1%BB%87n-tho%E1%BA%A1i-b%C3%A0n-Panasonic-KX-TS500-i.321669847.7589079097?position=465',\n",
       " 'https://shopee.vn/%C4%90i%E1%BB%87n-Tho%E1%BA%A1i-Energizer-P20-Pin-Si%C3%AAu-L%E1%BB%9Bn-4000mAh-Ki%C3%AAm-S%E1%BA%A1c-D%E1%BB%B1-Ph%C3%B2ng-H%C3%A0ng-Ch%C3%ADnh-H%C3%A3ng-B%E1%BA%A3o-H%C3%A0nh-12-Th%C3%A1ng-i.4537676.10235629673?position=466',\n",
       " 'https://shopee.vn/%C4%90i%E1%BB%87n-tho%E1%BA%A1i-OPPO-A54-H%C3%A0ng-Ch%C3%ADnh-H%C3%A3ng-Nguy%C3%AAn-Seal-!-i.281825590.11503776851?position=467',\n",
       " 'https://shopee.vn/Si%C3%AAu-S%E1%BB%91c-%C4%90i%E1%BB%87n-tho%E1%BA%A1i-Mini-3310-si%C3%AAu-nh%E1%BB%8F-si%C3%AAu-d%E1%BB%85-th%C6%B0%C6%A1ng-i.145001663.7387285930?position=468',\n",
       " 'https://shopee.vn/TGH%C4%90AP-%C4%90i%E1%BB%87n-tho%E1%BA%A1i-5SE-m%C3%A1y-ch%C3%ADnh-h%C3%A3ng-%C4%91%E1%BA%B9p-99-%C4%91%E1%BA%A7y-%C4%91%E1%BB%A7-c%C3%A1c-m%C3%A0u-s%E1%BA%AFc-v%C3%A0-b%E1%BB%99-nh%E1%BB%9B-m%C3%A1y-c%C3%B3-giao-h%C3%A0ng-to%C3%A0n-qu%E1%BB%91c00-i.242140455.11352745831?position=469',\n",
       " 'https://shopee.vn/%C4%90i%E1%BB%87n-tho%E1%BA%A1i-Smartphone-Forme-A77-Mh-5inch-Ram-1Gb-Rom-8Gb-Wifi-3G-(-B%E1%BA%A3o-h%C3%A0nh-12-th%C3%A1ng)-T%E1%BA%B7ng-k%C3%A8m-th%E1%BA%BB-nh%E1%BB%9B-2GB-i.194245460.7659539727?position=470',\n",
       " 'https://shopee.vn/-M%C3%A3-ELMS5-gi%E1%BA%A3m-7-%C4%91%C6%A1n-300K-%C4%90i%E1%BB%87n-Tho%E1%BA%A1i-Nokia-E5-Ch%C3%ADnh-H%C3%A3ng-N%E1%BA%AFp-L%C6%B0ng-Th%C3%A9p-Ch%E1%BB%91ng-R%E1%BB%89-Wifi-3G-i.276623547.10608055821?position=471',\n",
       " 'https://shopee.vn/%C4%91i%E1%BB%87n-tho%E1%BA%A1i-Oppo-A37-Oppo-A37F-neo-9-CH%C3%8DNH-H%C3%83NG-2sim-ram-2G-32G-m%E1%BB%9Bi-Camera-%C4%91%E1%BA%B9p-Zalo-Youtube-TIKTOK-FB-chu%E1%BA%A9n-i.122206336.6536439239?position=472',\n",
       " 'https://shopee.vn/%C4%90i%E1%BB%87n-tho%E1%BA%A1i-mini-BM10-2sim-i.13482524.4841335221?position=473',\n",
       " 'https://shopee.vn/Mi%E1%BA%BFng-d%C3%A1n-%C4%91i%E1%BB%87n-tho%E1%BA%A1i-may-m%E1%BA%AFn-t%C3%A0i-l%E1%BB%99c-ph%C3%B9-h%E1%BB%A3p-c%C3%A1c-d%C3%B2ng-m%C3%A1y-ho%E1%BA%B7c-b%E1%BB%8F-v%C3%AD-%C4%91%E1%BA%B9p-lung-linh-i.104777193.8769232406?position=474',\n",
       " 'https://shopee.vn/%C4%91i%E1%BB%87n-tho%E1%BA%A1i-Oppo-Neo-5-(Oppo-A31)-2sim-16G-Ch%C3%ADnh-H%C3%A3ng-Full-Ch%E1%BB%A9c-n%C4%83ng-Zlo-Fb-Ytube-i.11171175.3545511068?position=475',\n",
       " 'https://shopee.vn/%C4%90i%E1%BB%87n-tho%E1%BA%A1i-Huawei-Honor-5X-2-sim-v%E1%BB%8F-kim-lo%E1%BA%A1i-M%C3%A0n-5.5-Ram3G-i.49282974.1828406412?position=476',\n",
       " 'https://shopee.vn/%C4%91i%E1%BB%87n-tho%E1%BA%A1i-nokia-215-(rm-1110)-2-sim-ch%C3%ADnh-h%C3%A3ng-i.20977279.6163575310?position=477',\n",
       " 'https://shopee.vn/-M%C3%A3-SKAMSALE10-gi%E1%BA%A3m-10-%C4%91%C6%A1n-200K-Free-Ship-%C4%90i%E1%BB%87n-tho%E1%BA%A1i-Samsung-Note10-plus-Ram-12G-256G-%C4%90T-Galaxy-Note10-5G-gi%C3%A1-r%E1%BA%BB-nh-i.189268414.8848618469?position=478',\n",
       " 'https://shopee.vn/%C4%90i%E1%BB%87n-tho%E1%BA%A1i-google-pixel-3xl-128g-si%C3%AAu-ph%E1%BA%A9m-camera-androi-g%E1%BB%91c-ch%C3%ADp-snap-845-si%C3%AAu-m%C6%B0%E1%BB%A3t-i.71474818.10400204645?position=479',\n",
       " 'https://shopee.vn/s%E1%BA%A3n-ph%E1%BA%A9m-kh%C3%A1ch-ch%E1%BB%8Dn-live-A110-i.19313658.2931050508?position=480',\n",
       " 'https://shopee.vn/V%E1%BB%8F-nokia-1202-i.58186608.948579498?position=481',\n",
       " 'https://shopee.vn/-M%C3%81Y-CH%C3%8DNH-H%C3%83NG-%C4%91i%E1%BB%87n-tho%E1%BA%A1i-Vivo-Y51-2sim-ram-2G-16G-m%E1%BB%9Bi-Zin-B%E1%BA%A3o-h%C3%A0nh-12-th%C3%A1ng-i.122206336.3054399833?position=482',\n",
       " 'https://shopee.vn/%C4%90i%E1%BB%87n-tho%E1%BA%A1i-Xiaomi-Redmi-Note-10-Pro-(8GB-128GB)-H%C3%A0ng-ch%C3%ADnh-h%C3%A3ng-i.40757878.8328057403?position=483',\n",
       " 'https://shopee.vn/%C4%90I%E1%BB%86N-THO%E1%BA%A0I-%F0%9D%90%8D%F0%9D%90%8E%F0%9D%90%8A%F0%9D%90%88%F0%9D%90%80-%F0%9D%9F%8F%F0%9D%9F%90%F0%9D%9F%96%F0%9D%9F%8E-H%C3%A0ng-M%E1%BB%9Bi-KM-B%E1%BA%A3o-h%C3%A0nh-12-Th%C3%A1ng-Ph%E1%BB%A5-Ki%E1%BB%87n-M%C3%A1y-S%E1%BA%A1c-Pin-i.242289655.7472105735?position=484',\n",
       " 'https://shopee.vn/%C4%90i%E1%BB%87n-tho%E1%BA%A1i-Vsmart-Joy-4-(6GB-64GB)-H%C3%A0ng-ch%C3%ADnh-h%C3%A3ng-i.420576953.11810384653?position=485',\n",
       " 'https://shopee.vn/%C4%90i%E1%BB%87n-tho%E1%BA%A1i-Huawei-P40-Pro-Plus-8G-512G-5G-i.93963889.6943866184?position=486',\n",
       " 'https://shopee.vn/%C4%90i%E1%BB%87n-tho%E1%BA%A1i-mini-2-sim-2-s%C3%B3ng-online-Bm10-L8STAR-si%C3%AAu-nh%E1%BB%8F-(NOKIA-3310)-khe-c%E1%BA%AFm-th%E1%BA%BB-nh%E1%BB%9B-nghe-nh%E1%BA%A1c-MP3-thay-%C4%91%E1%BB%95i-gi%E1%BB%8Dng-n%C3%B3i-i.22570014.6819683345?position=487',\n",
       " 'https://shopee.vn/%C4%90i%E1%BB%87n-Tho%E1%BA%A1i-Xiaomi-Redmi-10-4GB-128GB-H%C3%A0ng-Ch%C3%ADnh-H%C3%A3ng-i.193124085.10041337684?position=488',\n",
       " 'https://shopee.vn/%C4%90i%E1%BB%87n-tho%E1%BA%A1i-c%E1%BA%A3m-%E1%BB%A9ng-gi%C3%A1-r%E1%BA%BB-Vivo-Y51-RAM-2G-ch%C6%A1i-game-si%C3%AAu-m%C6%B0%E1%BB%A3t-m%E1%BB%9Bi-99--i.116641859.10309624930?position=489',\n",
       " 'https://shopee.vn/%C4%90i%E1%BB%87n-tho%E1%BA%A1i-POCO-M3-Pro-5G-(6GB-128GB)-H%C3%A0ng-ch%C3%ADnh-h%C3%A3ng-DGW-i.2849350.8966001318?position=490',\n",
       " 'https://shopee.vn/%C4%90i%E1%BB%87n-tho%E1%BA%A1i-Google-Pixel-3-ram-4G-rom-64G-v%C3%A0-128Gb-zin-keng-%C4%91%E1%BB%A7-m%C3%A0u-i.41470347.10720550181?position=491',\n",
       " 'https://shopee.vn/%C4%90i%E1%BB%87n-tho%E1%BA%A1i-samsung-glaxy-s9-plus-nh%E1%BA%ADt-ram-6-b%E1%BB%99-nh%E1%BB%9B-64g-ch%C3%ADp-snap-845-si%C3%AAu-m%C6%B0%E1%BB%A3t-i.71474818.10635663367?position=492',\n",
       " 'https://shopee.vn/%C4%90i%E1%BB%87n-Tho%E1%BA%A1i-Google-Pixel-4xl-Qu%E1%BB%91c-T%E1%BA%BF-2-Sim-%C4%90%E1%BA%B9p-keng-%C4%90%E1%BB%A7-M%C3%A0u-G%C3%ADa-R%E1%BA%BB-i.41470347.9152869863?position=493',\n",
       " 'https://shopee.vn/%C4%90i%E1%BB%87n-tho%E1%BA%A1i-Xiaomi-Black-Shark-4-6-128-8-128GB-Khang-Nhung-H%C3%A0ng-Nh%E1%BA%ADp-Kh%E1%BA%A9u-i.39104237.10537433857?position=494',\n",
       " 'https://shopee.vn/%C4%90i%E1%BB%87n-tho%E1%BA%A1i-nokia-105-%C4%91%E1%BB%9Di-2017-c%E1%BB%95-gi%C3%A1-r%E1%BA%BB-2-sim-ch%C3%ADnh-h%C3%A3ng-(B%E1%BA%A3o-h%C3%A0nh-12-th%C3%A1ng-t%E1%BA%B7ng-k%C3%A8m-pin-s%E1%BA%A1c)-i.477242638.5693373195?position=495',\n",
       " 'https://shopee.vn/%C4%90i%E1%BB%87n-tho%E1%BA%A1i-Huawei-Honor-V9-Play-ram-3G-32G-M%C3%A0n-5.2-c%C3%B3-v%C3%A2n-tay-i.49282974.9471183293?position=496',\n",
       " 'https://shopee.vn/%C4%90I%E1%BB%86N-THO%E1%BA%A0I-SAMSUNG-CH%C3%8DNH-H%C3%83NG-100-GALAXY-J2-2015-J200-4G-LTE-4G-T%E1%BA%B6NG-K%C3%88M-GI%C3%81-%C4%90%E1%BB%A0-%C4%90I%E1%BB%86N-THO%E1%BA%A0I-CU-TE-i.317410736.8369554619?position=497',\n",
       " 'https://shopee.vn/N%E1%BA%AFp-l%C6%B0ng-%C4%91t-Xiaomi-Redmi-7-i.418171915.9441796833?position=498',\n",
       " 'https://shopee.vn/%C4%90i%E1%BB%87n-tho%E1%BA%A1i-Mastel-IZI125-2-sim-2-s%C3%B3ng-online-pin-b%E1%BB%81n-s%C3%B3ng-kho%E1%BA%BB-loa-to-ch%E1%BB%AF-to-i.16474757.7213868933?position=499',\n",
       " 'https://shopee.vn/%C4%90i%E1%BB%87n-tho%E1%BA%A1i-3-sim-3-s%C3%B3ng-online-Q4-H%C3%A0ng-c%C3%B4ng-ty-i.25826246.7353413974?position=540',\n",
       " 'https://shopee.vn/%C4%90i%C3%AA%CC%A3n-thoa%CC%A3i-poco-x3-pro-6.67-snapdragon-860-6g-128g-ha%CC%80ng-chi%CC%81nh-ha%CC%83ng-digiworld-i.30061404.9184672567?position=541',\n",
       " 'https://shopee.vn/%C4%90i%E1%BB%87n-tho%E1%BA%A1i-Samsung-Galaxy-S10e-M%E1%BB%B9-Qu%E1%BB%91c-T%E1%BA%BF-C%E1%BA%A5u-h%C3%ACnh-kh%E1%BB%A7ng-Ch%E1%BB%A5p-%E1%BA%A2nh-%C4%91%E1%BB%89nh-cao-i.38728286.2474910320?position=542',\n",
       " 'https://shopee.vn/Clear-kho-%C4%90i%E1%BB%87n-tho%E1%BA%A1i-Philips-E106-2-sim-pin-b%E1%BB%81n-%C4%91i%E1%BB%87n-tho%E1%BA%A1i-kh%C3%B4ng-ch%E1%BB%A5p-h%C3%ACnh-gi%C3%A1-r%E1%BA%BB-ch%C3%ADnh-h%C3%A3ng-i.54915183.9172346902?position=543',\n",
       " 'https://shopee.vn/%C4%90i%E1%BB%87n-tho%E1%BA%A1i-Sharp-Aquos-R2-Compact-Snap-845-ram-4G-64G-i.49282974.13108514550?position=544',\n",
       " 'https://shopee.vn/%C4%90i%E1%BB%87n-Tho%E1%BA%A1i-Nokia-E63-h%C3%A0ng-ch%C3%ADnh-h%C3%A3ng-c%C3%B4ng-ty-i.129649666.8288869296?position=545',\n",
       " 'https://shopee.vn/%C4%90i%E1%BB%87n-Tho%E1%BA%A1i-Di-%C4%90%E1%BB%99ng-Nokia-110-4G-TA-1376-DS-VN-i.66829677.4193057059?position=546',\n",
       " 'https://shopee.vn/%C4%90i%E1%BB%87n-tho%E1%BA%A1i-VIVO-Y93-ram-4G-64G-m%C3%A0n-6.2-gi%E1%BB%8Dt-n%C6%B0%E1%BB%9Bc-Snap-439-N%E1%BA%AFp-l%C6%B0ng-%C4%91%E1%BB%95i-m%C3%A0u-i.49282974.12505864940?position=547',\n",
       " 'https://shopee.vn/%C4%90i%E1%BB%87n-tho%E1%BA%A1i-Xiaomi-Redmi-9C-(3GB-64GB)-i.524196099.10244737797?position=548',\n",
       " 'https://shopee.vn/%C4%90i%E1%BB%87n-tho%E1%BA%A1i-I.P-7Plus-lock-32-128-256-zin-%C4%91%E1%BA%B9p-99--i.107071604.12310575581?position=549',\n",
       " 'https://shopee.vn/%C4%90I%E1%BB%86N-THO%E1%BA%A0I-6-PLUS-16-64-128G-LOCK-QTE-ZIN-ALL-i.44772106.12610932661?position=550',\n",
       " 'https://shopee.vn/%C4%90i%E1%BB%87n-tho%E1%BA%A1i-Vsmart-Aris-(8GB-128GB)-H%C3%A0ng-ch%C3%ADnh-h%C3%A3ng-i.407016717.8961006964?position=551',\n",
       " 'https://shopee.vn/Sticker-D%C3%A1n-%C4%90i%E1%BB%87n-Tho%E1%BA%A1i-M%C3%A8o-Th%E1%BA%A7n-T%C3%A0i-Tr%C3%A2u-V%C3%A0ng-Chi%C3%AAu-T%C3%A0i-H%C3%BAt-L%E1%BB%99c-D%C3%A1n-%C4%90i%E1%BB%87n-Tho%E1%BA%A1i-Ho%E1%BA%B7c-%C4%90%E1%BB%B1ng-Trong-V%C3%AD-Ti%E1%BB%81n-i.467683283.10419650194?position=552',\n",
       " 'https://shopee.vn/-S%E1%BB%91c-%C4%90i%E1%BB%87n-tho%E1%BA%A1i-nokia-e72-main-zin-ch%C3%ADnh-h%C3%A3ng-B%E1%BA%A3o-h%C3%A0nh-12-th%C3%A1ng-i.405102750.9727345518?position=553',\n",
       " 'https://shopee.vn/%C4%90i%E1%BB%87n-tho%E1%BA%A1i-Itel-2163-ghi-%C3%A2m-t%E1%BB%B1-%C4%91%E1%BB%99ng-cu%C3%B4c-g%E1%BB%8Di-%C4%91%E1%BB%8Dc-s%E1%BB%91-goi-t%E1%BB%9Bi-(-H%C3%A0ng-ch%C3%ADnh-h%C3%A3ng)-i.23220672.11610999142?position=554',\n",
       " 'https://shopee.vn/%C4%90i%E1%BB%87n-tho%E1%BA%A1i-Nokia-2-sim-2-s%C3%B3ng-newww-i.169493867.6445539931?position=555',\n",
       " 'https://shopee.vn/%C4%90i%E1%BB%87n-tho%E1%BA%A1i-x%C3%A1ch-tay-Nh%E1%BA%ADt-Kyocera-Kyv34-m%C3%A0n-5-inch-ram-2Gb-16Gb-i.18479475.3111693118?position=556',\n",
       " 'https://shopee.vn/m%C3%A0n-h%C3%ACnh-nokia-1202-1280-i.15236848.3090577247?position=557',\n",
       " 'https://shopee.vn/%C4%91i%E1%BB%87n-tho%E1%BA%A1i-Sony-Xperia-XZ2-64g-ram-4G-m%E1%BB%9Bi-Ch%C3%ADnh-H%C3%A3ng-Chi%E1%BA%BFn-Free-Fire-PUBG-m%C6%B0%E1%BB%A3t-i.122206336.8100795776?position=558',\n",
       " 'https://shopee.vn/%C4%91i%E1%BB%87n-tho%E1%BA%A1i-Xiaomi-Redmi-Note-5-Pro-2sim-ram-4G-64G-m%E1%BB%9Bi-CH%C3%8DNH-H%C3%83NG-c%C3%B3-Ti%E1%BA%BFng-Vi%E1%BB%87t-i.122206336.7837648872?position=559',\n",
       " 'https://shopee.vn/%C4%90i%E1%BB%87n-tho%E1%BA%A1i-Xiaomi-POCO-X3-Pro-H%C3%A0ng-Ch%C3%ADnh-H%C3%A3ng-Ph%C3%A2n-Ph%E1%BB%91i-Digiworld-!-i.281825590.4555049468?position=560',\n",
       " 'https://shopee.vn/%C4%90i%E1%BB%87n-tho%E1%BA%A1i-Nokia-105-1-sim-(2019)-H%C3%A0ng-M%E1%BB%9Bi-Nguy%C3%AAn-H%E1%BB%99p-B%E1%BA%A3o-H%C3%A0nh-Ch%C3%ADnh-h%C3%A3ng-i.14947974.6407029830?position=561',\n",
       " 'https://shopee.vn/-R%E1%BA%BB-v%C3%B4-%C4%91%E1%BB%8Bch-%C4%90i%E1%BB%87n-tho%E1%BA%A1i-smartphone-Samsung-Oppo-c%E1%BB%8F-ch%C3%ADnh-h%C3%A3ng-gi%C3%A1-si%C3%AAu-r%E1%BA%BB-t%E1%BA%A3i-%E1%BB%A9ng-d%E1%BB%A5ng-ch%C6%A1i-game-nh%E1%BA%B9-ok!-i.18278357.2880882964?position=562',\n",
       " 'https://shopee.vn/%C4%90i%E1%BB%87n-tho%E1%BA%A1i-Samsung-Galaxy-A02s-(4GB-64GB)-H%C3%A0ng-M%E1%BB%9Bi-Nguy%C3%AAn-H%E1%BB%99p-B%E1%BA%A3o-H%C3%A0nh-Chinh-H%C3%A3ng-i.14947974.8616982161?position=563',\n",
       " 'https://shopee.vn/%C4%90I%E1%BB%86N-THO%E1%BA%A0I-XIAOMI-REDMI-NOTE-3-(3GB-32GB)-2sim-m%E1%BB%9Bi-CH%C3%8DNH-H%C3%83NG-ch%C6%A1i-Free-Fire-PUBG-m%C6%B0%E1%BB%A3t-i.122206336.1990646297?position=564',\n",
       " 'https://shopee.vn/%C4%90i%E1%BB%87n-Tho%E1%BA%A1i-Nokia-105-K%C3%A8m-Pin-S%E1%BA%A1c-%C4%90i%E1%BB%87n-Tho%E1%BA%A1i-Ph%E1%BB%95-Th%C3%B4ng-R%E1%BA%BB-i.1657913.4941716817?position=565',\n",
       " 'https://shopee.vn/%C4%90i%E1%BB%87n-tho%E1%BA%A1i-mini-Si%C3%AAu-Nh%E1%BB%8F-B3310-02-sim-02-s%C3%B3ng-g%E1%BA%AFn-%C4%91%C6%B0%E1%BB%A3c-th%E1%BA%BB-nh%E1%BB%9B-i.105747592.4336185825?position=566',\n",
       " 'https://shopee.vn/(-Ph%C3%ADm-Bi)-%C4%90i%E1%BB%87n-tho%E1%BA%A1i-Nokia-1202-1280-%C4%90%E1%BB%99-10-B%C3%B3ng-Nh%C3%A1y-1-B%C3%B3ng-Led-7-M%C3%A0u-RGB-i.1657913.3735299068?position=567',\n",
       " 'https://shopee.vn/-si%C3%AAu-r%E1%BA%BB-K%C3%ADnh-c%C6%B0%E1%BB%9Dng-l%E1%BB%B1c-iphone-10D-full-m%C3%A0n-mua-5-c%C3%A1i-gi%E1%BA%A3m-5k-t%E1%BA%B7ng-05-bao-l%C3%AC-x%C3%AC-t%E1%BA%BFt-freeship-%C4%91%C6%A1n-t%E1%BB%AB-50k-i.39388460.4813758687?position=568',\n",
       " 'https://shopee.vn/%C4%90i%E1%BB%87n-Tho%E1%BA%A1i-NOKIA-6300-Main-Zin-M%C3%A0n-Zin-Si%C3%AAu-B%E1%BB%81n-BH-12T-i.276623547.10909199743?position=569',\n",
       " 'https://shopee.vn/FREESHIP-%C4%90%C6%A0N-99K_%E1%BB%90p-silicon-Xiaomi-Redmi-Note-7-Note-7-Pro-i.37520580.1897884221?position=570',\n",
       " 'https://shopee.vn/-H%C3%A0ng-C%C3%B3-S%E1%BA%B5n-Vsmart-Joy-4-m%E1%BB%9Bi-100-B%E1%BA%A3o-H%C3%A0nh-18-th%C3%A1ng-Ch%C3%ADnh-H%C3%A3ng-i.313858795.8657590836?position=571',\n",
       " 'https://shopee.vn/N%E1%BA%AEP-L%C6%AFNG-SAMSUNG-S8-S8PLUS-S8--i.58623602.4755258747?position=572',\n",
       " 'https://shopee.vn/M%C3%A1y-k%C3%ADch-sim-1200-khay-s%E1%BA%A1c-pin-i.200312728.5907175623?position=573',\n",
       " 'https://shopee.vn/%C4%90i%E1%BB%87n-tho%E1%BA%A1i-Xiaomi-Redmi-6-Ram-3Gb-b%E1%BB%99-nh%E1%BB%9B-32Gb-m%C3%A1y-%C4%91%E1%BA%B9p-ch%C6%A1i-game-li%C3%AAn-qu%C3%A2n-freefire-m%C6%B0%E1%BB%A3t-i.214979459.7316851416?position=574',\n",
       " 'https://shopee.vn/%C4%90i%E1%BB%87n-tho%E1%BA%A1i-Vsmart-Star-5-(4GB-64GB)-t%E1%BA%B7ng-180GB-D%C3%82TA-H%C3%A0ng-ch%C3%ADnh-h%C3%A3ng-i.420576953.9260976770?position=575',\n",
       " 'https://shopee.vn/%C4%90i%E1%BB%87n-tho%E1%BA%A1i-Sony-Xperia-XZ2-1-Sim-Zin-Nguy%C3%AAn-B%E1%BA%A3n-i.143976140.5654032500?position=576',\n",
       " 'https://shopee.vn/%C4%90i%E1%BB%87n-tho%E1%BA%A1i-Nokia-6500c-Ch%C3%ADnh-H%C3%A3ng-B%E1%BA%A3o-H%C3%A0nh-12-Th%C3%A1ng-i.130503882.4938180709?position=577',\n",
       " 'https://shopee.vn/V%E1%BB%8F-%C4%91i%E1%BB%87n-tho%E1%BA%A1i-BlackBerry-Q10-%C4%91en-ph%C3%ADm-qu%E1%BB%91c-t%E1%BA%BF.-H%C3%A0ng-zin-%C4%91%E1%BA%B9p-99--i.64945499.2016311949?position=578',\n",
       " 'https://shopee.vn/N%E1%BA%AFp-l%C6%B0ng-redmi-k20-pro-k%C3%ADnh-mi%E1%BB%85n-ph%C3%AD-c%C3%B4ng-thay-m%E1%BA%B7t-l%C6%B0ng-xiaomi-redmi-k20-pro-i.60720112.4909897157?position=579',\n",
       " 'https://shopee.vn/%C4%90i%E1%BB%87n-tho%E1%BA%A1i-pixel-4xl-nguy%C3%AAn-zin-%C3%A1p-su%E1%BA%A5t-P-OLED-6.3-Full-HD-Chatmobile-i.241749563.9346494668?position=580',\n",
       " 'https://shopee.vn/%C4%90i%E1%BB%87n-tho%E1%BA%A1i-Nokia-2730-m%E1%BA%A1ng-3G-(pin-s%E1%BA%A1c-th%E1%BA%BB-nh%E1%BB%9B).-Ch%C3%ADnh-h%C3%A3ng-i.20977279.7139468224?position=581',\n",
       " 'https://shopee.vn/Gi%C3%A1-%C4%91%E1%BB%A1-%C4%91i%E1%BB%87n-tho%E1%BA%A1i-griptok-ph%C3%B4i-popsocket-TRONG-SU%E1%BB%90T-pop-trong-su%E1%BB%91t-ch%E1%BB%91ng-%C4%91i%E1%BB%87n-tho%E1%BA%A1i-strawpeach1306-i.44286827.9073983181?position=582',\n",
       " 'https://shopee.vn/V%E1%BB%8F-n%E1%BA%AFp-l%C6%B0ng-BlackBerry-8100-8110-8120-i.91817697.3320813449?position=583',\n",
       " 'https://shopee.vn/%C4%91i%C3%AA%CC%A3n-thoa%CC%A3i-ca%CC%89m-%C6%B0%CC%81ng-OPPO-A33-gia%CC%81-re%CC%89-ba%CC%89o-ha%CC%80nh-chi%CC%81nh-ha%CC%83ng-ch%C6%A1i-li%C3%AAn-qu%C3%A2n-l%C6%B0%C6%A1%CC%81t-wed-m%C6%B0%C6%A1%CC%A3t-i.405166547.6592779102?position=584',\n",
       " 'https://shopee.vn/%C4%90i%E1%BB%87n-tho%E1%BA%A1i-di-%C4%91%E1%BB%99ng-Nokia-8000-4G-Dual-Sim-(2020)-H%C3%A0ng-Ch%C3%ADnh-H%C3%A3ng-i.66829677.6263327715?position=585',\n",
       " 'https://shopee.vn/%C4%90i%E1%BB%87n-tho%E1%BA%A1i-Vsmart-Aris-(8GB-128GB)-B%E1%BA%A2N-CAO-C%E1%BA%A4P-NGUY%C3%8AN-SEAL-H%C3%80NG-CH%C3%8DNH-H%C3%83NG-TTC-MOBILE-i.449911630.11314760457?position=586',\n",
       " 'https://shopee.vn/%C4%90i%E1%BB%87n-tho%E1%BA%A1i-Nokia-105-si%C3%AAu-r%E1%BA%BB-1-Sim-v%C3%A0-2-Sim-Pin%C4%91%E1%BB%A7-sac-H%C3%A0ng-c%C3%B4ng-ty-(-cam-k%E1%BA%BFt-m%C3%A1y-zin)-i.345162160.9634340618?position=587',\n",
       " 'https://shopee.vn/%C4%90i%E1%BB%87n-Tho%E1%BA%A1i-Xiaomi-Redmi-Note-4x-ram-3gb-32gb-m%E1%BB%9Bi-ch%C3%ADnh-h%C3%A3ng-ch%C6%A1i-game-li%C3%AAn-qu%C3%A2n-freefire-pubg-m%C6%B0%E1%BB%A3t-NH%E1%BA%ACP-KH%E1%BA%A8U-i.214979459.7052043770?position=588',\n",
       " 'https://shopee.vn/Mi%E1%BA%BFng-d%C3%A1n-%C4%91i%E1%BB%87n-tho%E1%BA%A1i-may-m%E1%BA%AFn-t%C3%A0i-l%E1%BB%99c-ph%C3%B9-h%E1%BB%A3p-c%C3%A1c-d%C3%B2ng-m%C3%A1y-ho%E1%BA%B7c-b%E1%BB%8F-v%C3%AD-%C4%91%E1%BA%B9p-lung-linh-i.3608655.8267469267?position=589',\n",
       " 'https://shopee.vn/%C4%90i%E1%BB%87n-tho%E1%BA%A1i-c%E1%BA%A3m-%E1%BB%A9ng-c%C5%A9-gi%C3%A1-r%E1%BA%BB-Vivo-Y51-ch%C3%ADnh-h%C3%A3ng-m%E1%BB%9Bi-99--i.241365389.8746321180?position=590',\n",
       " 'https://shopee.vn/%C4%90i%E1%BB%87n-Tho%E1%BA%A1i-7-plus-Qu%C3%B4%CC%81c-T%C3%AA%CC%81-v%C3%A0-Lock-%C4%91%E1%BA%B9p-zin-i.188863065.6292746991?position=591',\n",
       " 'https://shopee.vn/M%C3%B3c-treo-Airtags.-V%E1%BB%8F-b%E1%BA%A3o-v%E1%BB%87-c%C3%B3-m%C3%B3c-kho%C3%A1-cho-Airtag.-ph%E1%BB%A5-ki%E1%BB%87n-2mshop-i.91380325.8251852658?position=592',\n",
       " 'https://shopee.vn/%C4%91i%E1%BB%87n-tho%E1%BA%A1i-c%C5%A9-Samsung-G530-m%E1%BB%9Bi-98-99--i.116641859.9025678608?position=593',\n",
       " 'https://shopee.vn/V%E1%BB%8F-%C4%91i%E1%BB%87n-tho%E1%BA%A1i-oppo-f1w-v%E1%BB%8F-l%C6%B0ng-i.141143016.4105307922?position=594',\n",
       " 'https://shopee.vn/Ph%E1%BB%A5-Ki%E1%BB%87n-%C4%90i%E1%BB%87n-Tho%E1%BA%A1i-%F0%9F%93%B1%F0%9F%93%B1%F0%9F%93%B1-Tai-nghe-Samsung-Galaxy-A01-A10-A10S-A20-A30-A50-A50S-M10-M20-M%C3%A0u-%C4%90en-Tr%E1%BA%AFng-Ch%C3%ADnh-H%C3%A3ng-100--i.35423418.5133333047?position=595',\n",
       " 'https://shopee.vn/%C4%90i%E1%BB%87n-tho%E1%BA%A1i-oppo-neo-9(a37)-i.178181467.8468965368?position=596',\n",
       " 'https://shopee.vn/Camera-iPhone-5s-Loa-iPhone-5s-i.74374038.4668735202?position=597',\n",
       " 'https://shopee.vn/%C4%90i%E1%BB%87n-tho%E1%BA%A1i-Samsung-Galaxy-A52-(8GB-128GB)-H%C3%A0ng-ch%C3%ADnh-h%C3%A3ng-i.331695868.8828092786?position=598',\n",
       " 'https://shopee.vn/N%E1%BA%AFp-l%C6%B0ng-%C4%91t-Xiaomi-Mi8-Pro-trong-su%E1%BB%91t-i.418171915.9341771335?position=599',\n",
       " 'https://shopee.vn/-M%C3%A3-SKAMSALE10-gi%E1%BA%A3m-10-%C4%91%C6%A1n-200K-%C4%90i%E1%BB%87n-tho%E1%BA%A1i-BlackBerry-Flip-8220-i.64945499.1466026197?position=600',\n",
       " 'https://shopee.vn/%C4%90i%E1%BB%87n-tho%E1%BA%A1i-Xiaomi-Mi-11-Ultra-ram-12G-256GB-Nguy%C3%AAn-seal-m%E1%BB%9Bi-100--i.230383794.8665782417?position=601',\n",
       " 'https://shopee.vn/%C4%90i%E1%BB%87n-Tho%E1%BA%A1i-Nokia-C01-Plus-2GB-16GB-H%C3%A0ng-Ch%C3%ADnh-H%C3%A3ng-i.193124085.9071351988?position=602',\n",
       " 'https://shopee.vn/%C4%90i%E1%BB%87n-tho%E1%BA%A1i-Lg-V50-ThinQ-AMOLED6.4-Quad-HD-(2K-)-Ram-6-128Gb-%C4%91%E1%BA%B9p-99-nguy%C3%AAn-zin-Chat-mobile-i.241749563.9957306809?position=603',\n",
       " 'https://shopee.vn/%C4%90i%E1%BB%87n-Tho%E1%BA%A1i-Oneplus-8T-RAM-8-128GB-Fullbox-Likenew-Gi%C3%A1-r%E1%BA%BB-BH-3-th%C3%A1ng-T%E1%BA%B7ng-da%CC%81n-ma%CC%80n-%E1%BB%91p-l%C6%B0ng--i.2711113.11510451224?position=604',\n",
       " 'https://shopee.vn/%C4%90i%E1%BB%87n-tho%E1%BA%A1i-Samsung-Galaxy-S21-Ultra-5G-H%C3%A0ng-ch%C3%ADnh-h%C3%A3ng-i.116848184.1841928074?position=605',\n",
       " 'https://shopee.vn/%C4%90i%E1%BB%87n-tho%E1%BA%A1i-Realme-C11-2021-(2GB-32GB)-H%C3%A0ng-ch%C3%ADnh-h%C3%A3ng-i.331695868.8856059255?position=606',\n",
       " 'https://shopee.vn/-S%E1%BB%89-%C4%90i%E1%BB%87n-Tho%E1%BA%A1i-MaxFone-V13-Pin-Kh%E1%BB%A7ng-B%E1%BA%A3o-H%C3%A0ng-12-Th%C3%A1ng-i.130503882.6836966568?position=607',\n",
       " 'https://shopee.vn/v%E1%BB%8F-blackberry-8110-8120-i.191951750.9572125506?position=608',\n",
       " 'https://shopee.vn/%C4%90i%E1%BB%87n-tho%E1%BA%A1i-sharp-304sh-ram-2G-Chip-snap-801-i.486424031.9179952462?position=609',\n",
       " 'https://shopee.vn/%C4%90i%E1%BB%87n-tho%E1%BA%A1i-samsung-a51-b%C3%A1n-gi%E1%BA%A3m-gi%C3%A1-ram-cao-i.478851130.9387940972?position=610',\n",
       " 'https://shopee.vn/%C4%90i%E1%BB%87n-tho%E1%BA%A1i-Xiaomi-Mi-10s-Ram-8GB-Rom-128GB-H%C3%A0ng-Nh%E1%BA%ADp-kh%E1%BA%A9u-i.242986983.7789956746?position=611',\n",
       " 'https://shopee.vn/Nokia-C500-Chu%E1%BA%A9n-Nokia-C%C3%B3-3G-K%C3%A8m-Pin-Zin-i.264888176.3060747027?position=612',\n",
       " 'https://shopee.vn/loa-trong-nghe-g%E1%BB%8Di-nokia-8800-8800A-arte-i.295766260.10303653498?position=613',\n",
       " 'https://shopee.vn/angten-wifi-iphone-6plus-i.403377015.9265402785?position=614',\n",
       " 'https://shopee.vn/v%E1%BB%8F-b%E1%BB%99-oppo-reno-4-i.25336862.8639021337?position=615',\n",
       " 'https://shopee.vn/QU%E1%BA%A2-%C4%90%C3%80O-SILICON-D%C3%81N-%C4%90I%E1%BB%86N-THO%E1%BA%A0I-i.432178531.6595559433?position=616',\n",
       " 'https://shopee.vn/MIC-SAMSUNG-J7-PRO%E2%9A%A1GI%C3%81-G%E1%BB%90C-T%E1%BB%A4T-QU%E1%BA%A6N%E2%9A%A1M%E1%BB%8AC-ZIN-NGHE-C%E1%BB%B0C-%C3%8AM-i.408963435.8137594771?position=617',\n",
       " 'https://shopee.vn/%C4%91i%E1%BB%87n-tho%E1%BA%A1i-Xiaomi-Redmi-2-2-sim-zin-m%E1%BB%9Bi-Ch%C3%ADnh-h%C3%A3ng-full-zalo-FB-Youtube-i.11171175.4247584197?position=618',\n",
       " 'https://shopee.vn/%C4%90i%E1%BB%87n-tho%E1%BA%A1i-mini-Kechaoda-K115-mini-nh%E1%BB%8F-g%E1%BB%8Dn-BH-12-th%C3%A1ng-ch%C3%ADnh-h%C3%A3ng-i.259348045.5642902003?position=619',\n",
       " 'https://shopee.vn/%C4%91i%E1%BB%87n-tho%E1%BA%A1i-Xiaomi-Redmi-Note-8-2sim-ram-4G-128G-m%E1%BB%9Bi-Ch%C3%ADnh-H%C3%A3ng-C%C3%B3-Ti%E1%BA%BFng-Vi%E1%BB%87t-i.122206336.6237738979?position=620',\n",
       " 'https://shopee.vn/%C4%90i%E1%BB%87n-tho%E1%BA%A1i-Nokia-105-Dual-Sim-2019-H%C3%A0ng-Ch%C3%ADnh-H%C3%A3ng-M%E1%BB%9Bi-Nguy%C3%AAn-Seal-i.127416111.2645009503?position=621',\n",
       " 'https://shopee.vn/%C4%90I%E1%BB%86N-THO%E1%BA%A0I-NOKIA-105-(2015)-ZIN-1SIM-NGHE-G%E1%BB%8CI-T%E1%BB%90T-i.101299832.3360292174?position=622',\n",
       " 'https://shopee.vn/%C4%90i%E1%BB%87n-tho%E1%BA%A1i-SONY-XPERIA-XZ1-(4GB-64G)-m%E1%BB%9Bi-99-M%E1%BB%9AI-CH%C3%8DNH-H%C3%83NG-i.122206336.6566228397?position=623',\n",
       " 'https://shopee.vn/%C4%90i%E1%BB%87n-tho%E1%BA%A1i-Redmi-k20-pro-ram8-b%E1%BB%99-nh%E1%BB%9B-128g-h%C3%A0ng-nh%E1%BA%ADp-kh%E1%BA%A9u-full-box-i.127712144.3807410367?position=624',\n",
       " 'https://shopee.vn/%C3%94%CC%81p-L%C6%B0ng-Ch%C3%B4%CC%81ng-va-%C4%91%C3%A2%CC%A3p-Xiaomi-note-9-5g-redmi-10x-4g-redmi-10x-5g-i.13928634.7237776479?position=625',\n",
       " 'https://shopee.vn/%C4%90i%E1%BB%87n-tho%E1%BA%A1i-sony-x-performance-chip-820-v%C3%A2n-tay-m%E1%BB%99t-ch%E1%BA%A1m-li%C3%AAn-qu%C3%A2n-si%C3%AAu-m%C6%B0%E1%BB%A3t-i.199422123.6606892725?position=626',\n",
       " 'https://shopee.vn/%C4%90i%E1%BB%87n-tho%E1%BA%A1i-Sony-Xperia-Z5-Compact-b%E1%BA%A3n-Nh%E1%BA%ADt-(SO-02H)-C%C3%B3-v%C3%A2n-tay-i.49282974.1550270925?position=627',\n",
       " 'https://shopee.vn/%C4%90i%E1%BB%87n-tho%E1%BA%A1i-ng%C6%B0%E1%BB%9Di-gi%C3%A0-ph%C3%ADm-to-ch%E1%BB%AF-loa-to-_-Goly-A30-H%C3%A0ng-ch%C3%ADnh-h%C3%A3ng-i.407016717.8734658067?position=628',\n",
       " 'https://shopee.vn/Combo-4-Mi%E1%BA%BFng-D%C3%A1n-T%C3%A0i-L%E1%BB%99c-%C4%90%E1%BA%B9p-Lung-Linh-Ph%C3%B9-H%E1%BB%A3p-D%C3%A1n-%C4%90i%E1%BB%87n-Tho%E1%BA%A1i-Cho-T%E1%BA%A5t-C%E1%BA%A3-C%C3%A1c-D%C3%B2ng-M%C3%A1y-i.58457329.6787346939?position=629',\n",
       " 'https://shopee.vn/%C4%90i%E1%BB%87n-tho%E1%BA%A1i-ip6-bypass-i.139852523.7951386631?position=630',\n",
       " 'https://shopee.vn/%C4%90I%E1%BB%86N-THO%E1%BA%A0I-MASSTEL-NG%C6%AF%E1%BB%9CI-GI%C3%80-FAMI-9-11-12-F50-n%E1%BA%AFp-g%E1%BA%ADp-th%E1%BB%9Di-trang-2-sim-pin-tr%C3%A2u-s%C3%B3ng-kh%E1%BB%8Fe-i.14408514.3836538614?position=631',\n",
       " 'https://shopee.vn/%C4%90i%E1%BB%87n-tho%E1%BA%A1i-nokia-150-l%C6%B0%E1%BB%9Bt-2-sim-ch%C3%ADnh-h%C3%A3ng-i.129982976.7661290164?position=632',\n",
       " 'https://shopee.vn/%C4%90i%E1%BB%87n-tho%E1%BA%A1i-Masstel-Fami-P20-H%C3%A0ng-M%E1%BB%9Bi-Nguy%C3%AAn-H%E1%BB%99p-B%E1%BA%A3o-H%C3%A0nh-Ch%C3%ADnh-H%C3%A3ng-i.14947974.7843542408?position=633',\n",
       " 'https://shopee.vn/(-Mi%E1%BB%85n-ph%C3%AD-ship-)%C4%91i%E1%BB%87n-tho%E1%BA%A1i-Masstel-FAMI-9-D%C3%80NH-CHO-NG%C6%AF%E1%BB%9CI-GI%C3%80-loa-to-ch%E1%BB%AF-to-pin-kh%E1%BB%8Fe-H%C3%A3ng-ph%C3%A2n-ph%E1%BB%91i-ch%C3%ADnh-th%E1%BB%A9c-i.100617485.2652282657?position=634',\n",
       " 'https://shopee.vn/%C4%90i%E1%BB%87n-Tho%E1%BA%A1i-Nokia-105-1-Sim-(2019)-H%C3%A0ng-Ch%C3%ADnh-H%C3%A3ng-i.193124085.4309364853?position=635',\n",
       " 'https://shopee.vn/%C4%90i%E1%BB%87n-Tho%E1%BA%A1i-Nokia-1202-Ch%C3%ADnh-H%C3%A3ng-B%E1%BA%A3o-H%C3%A0nh-12-Th%C3%A1ng-Ch%C6%B0a-S%E1%BB%ADa-Ch%E1%BB%AFa-Nguy%C3%AAn-Zin-i.101299832.5642092296?position=636',\n",
       " 'https://shopee.vn/B%E1%BB%99-%E1%BB%90c-V%C3%ADt-L%E1%BA%AFp-%C4%90%E1%BA%B7t-Iphone-4-5-6-i.18525093.1292370753?position=637',\n",
       " 'https://shopee.vn/%C4%90I%E1%BB%86N-THO%E1%BA%A0I-NOKIA-1110i-Ch%C3%ADnh-h%C3%A3ng-B%E1%BA%A3o-h%C3%A0nh-12-Th%C3%A1ng-Nokia-11110i-Ph%E1%BB%A5-Ki%E1%BB%87n-M%C3%A1y-S%E1%BA%A1c-Pin-i.130503882.3834336421?position=638',\n",
       " 'https://shopee.vn/%C4%91i%E1%BB%87n-tho%E1%BA%A1i-Oppo-A83-2sim-ram-4G-b%E1%BB%99-nh%E1%BB%9B-64G-Ch%C3%ADnh-h%C3%A3ng-Chi%E1%BA%BFn-Li%C3%AAn-Qu%C3%A2n-PUBG-m%C6%B0%E1%BB%9Bt-i.11171175.4051163130?position=639',\n",
       " 'https://shopee.vn/%C4%90i%E1%BB%87n-tho%E1%BA%A1i-K8-sang-tr%E1%BB%8Dng-R%E1%BA%BB-V%C3%B4-%C4%90%E1%BB%8Bch-i.241583522.7745692833?position=640',\n",
       " 'https://shopee.vn/%C4%90i%E1%BB%87n-tho%E1%BA%A1i-Samsung-Galaxy-Note-8-b%E1%BA%A3n-nh%E1%BA%ADt-1-sim-ram-6-b%E1%BB%99-nh%E1%BB%9B-64g-i.71474818.8769218100?position=641',\n",
       " 'https://shopee.vn/N%E1%BA%AFp-l%C6%B0ng-redmi-k30-k%C3%ADnh-5g-m%E1%BA%B7t-l%C6%B0ng-xiaomi-redmi-k30-i.470929062.4392415711?position=642',\n",
       " 'https://shopee.vn/%C4%90i%E1%BB%87n-tho%E1%BA%A1i-Xiaomi-Redmi-4-Prime-Snap-625-RAM-3GB-32GB-FullHD-i.242263416.10605508829?position=643',\n",
       " 'https://shopee.vn/%C4%90i%E1%BB%87n-tho%E1%BA%A1i-Samsung-Galaxy-M32-Ch%C3%ADnh-h%C3%A3ng-m%E1%BB%9Bi-nguy%C3%AAn-seal-100--i.2849350.11748564700?position=644',\n",
       " 'https://shopee.vn/%C4%90i%E1%BB%87n-tho%E1%BA%A1i-pixel-4-nguy%C3%AAn-zin-%C3%A1p-su%E1%BA%A5t-P-OLED-5.7-Full-HD--i.41470347.11301150694?position=645',\n",
       " 'https://shopee.vn/-M%C3%A3-SKAMCLU9-gi%E1%BA%A3m-10-%C4%91%C6%A1n-100K-B%E1%BB%99-v%E1%BB%8F-%C4%91i%E1%BB%87n-tho%E1%BA%A1i-BlackBerry-Q5-m%C3%A0u-%C4%91%E1%BB%8F-ch%C3%ADnh-h%C3%A3ng.-i.64945499.2043477040?position=646',\n",
       " 'https://shopee.vn/Main-iphone-4-4s-full-ch%E1%BB%A9c-n%C4%83ng-i.48682350.3156011590?position=647',\n",
       " 'https://shopee.vn/Ph%C3%ADm-home-iphone-6-6-plus-thay-th%E1%BA%BF-i.18525093.1093891246?position=648',\n",
       " 'https://shopee.vn/%C4%90i%E1%BB%87n-Tho%E1%BA%A1i-Xiaomi-Redmi-Note-2-2sim-Ram-2G-16G-T%E1%BA%A3i-Game-%E1%BB%A8ng-D%E1%BB%A5ng-Tho%E1%BA%A3i-M%C3%A1i-B%E1%BA%A3o-h%C3%A0nh-6-Th%C3%A1ng-i.208445880.3343565852?position=649',\n",
       " 'https://shopee.vn/%C4%90i%E1%BB%87n-tho%E1%BA%A1i-Nghe-G%E1%BB%8Di-Nokia-1202-%C4%90%E1%BB%99-LED-10-B%C3%B3ng-Nh%C3%A1y-Si%C3%AAu-%C4%90%E1%BA%B9p-K%C3%A8m-Pin-S%E1%BA%A1c-%C4%90%C6%B0%E1%BB%A3c-CH%E1%BB%8Dn-M%C3%A0u-i.1657913.3838265127?position=650',\n",
       " 'https://shopee.vn/Mi%E1%BA%BFng-D%C3%A1n-PPF-Zin-Theo-M%C3%A1y-Ch%C3%ADnh-H%C3%A3ng-Cho-Note-20ultra-5G-i.79910377.10905685869?position=651',\n",
       " 'https://shopee.vn/Pin-%C4%91i%E1%BB%87n-tho%E1%BA%A1i-Vsmart-Joy-1-PQ4001-V3002-i.158323995.7777298173?position=652',\n",
       " 'https://shopee.vn/V%E1%BB%8F-thay-n%E1%BA%AFp-l%C6%B0ng-k%C3%ADnh-Xiaomi-Redmi-Note-9S-Note-9-Pro-Note-9-Pro-Max-%C4%91%E1%BA%B9p-nh%C6%B0-m%C3%A1y-m%E1%BB%9Bi-i.49935743.7977549792?position=653',\n",
       " 'https://shopee.vn/%C4%90i%E1%BB%87n-tho%E1%BA%A1i-Google-Pixel-4-4XL-Qu%E1%BB%91c-t%E1%BA%BF-2-sim-%C4%91%E1%BA%B9p-keng-i.192933058.8256982454?position=654',\n",
       " 'https://shopee.vn/%C4%91i%E1%BB%87n-tho%E1%BA%A1i-Samsung-Galaxy-A6-2018-ram-3G-32G-2sim-Ch%C3%ADnh-H%C3%A3ng-B%E1%BA%A3o-h%C3%A0nh-12-th%C3%A1ng-i.11171175.3036577329?position=655',\n",
       " 'https://shopee.vn/%C4%90I%E1%BB%86N-THO%E1%BA%A0I-NOKIA-1202-%F0%9F%98%8D%F0%9F%98%8D%F0%9F%98%8D%F0%9F%98%8DCH%E1%BA%A4T%F0%9F%98%8D%F0%9F%98%8D%F0%9F%98%8D%F0%9F%98%8D-(H%C3%80NG-C%C5%A8-%C4%90%E1%BA%B8P-99-)-i.22557093.3361873558?position=656',\n",
       " 'https://shopee.vn/%C4%90i%E1%BB%87n-Tho%E1%BA%A1i-Samsung-Galaxy-A01-Core-(2GB-32GB)-H%C3%A0ng-Ch%C3%ADnh-H%C3%A3ng-B%E1%BA%A3o-H%C3%A0nh-12-Th%C3%A1ng-i.63614537.8914568072?position=657',\n",
       " 'https://shopee.vn/%C4%90I%E1%BB%86N-THO%E1%BA%A0I-NOKIA-C5-00-Ch%C3%ADnh-h%C3%A3ng-Khuy%E1%BB%85n-m%C3%A3i-B%E1%BA%A3o-h%C3%A0nh-12-Th%C3%A1ng-Nokia-C2-01-Ph%E1%BB%A5-Ki%E1%BB%87n-M%C3%A1y-S%E1%BA%A1c-Pin-i.130503882.7438180385?position=658',\n",
       " 'https://shopee.vn/%C4%90i%E1%BB%87n-tho%E1%BA%A1i-Google-Pixel-2-XL-ram-4-b%E1%BB%99-nh%E1%BB%9B-64g-si%C3%AAu-camera-i.71474818.8750253341?position=659',\n",
       " 'https://shopee.vn/%C4%90i%E1%BB%87n-tho%E1%BA%A1i-Nokia-105-1-Sim-(2017)-b%C3%A0n-ph%C3%ADm-loa-to-k%C3%A8m-pin-s%E1%BA%A1c-i.40026643.8065220844?position=660',\n",
       " 'https://shopee.vn/-S%E1%BB%91c-%C4%90i%E1%BB%87n-tho%E1%BA%A1i-nokia-5130-XpressMusic-main-zin-ch%C3%ADnh-h%C3%A3ng-k%C3%A8m-pin-v%C3%A0-s%E1%BA%A1c-B%E1%BA%A3o-h%C3%A0nh-12-th%C3%A1ng-i.405102750.9327363911?position=661',\n",
       " 'https://shopee.vn/Combo-10-con-mic-%C4%91%C3%A0m-tho%E1%BA%A1i-i.Phone-6-6-Plus-6S-6S-Plus-(-3-ch%C3%A2n)-i.23803568.8626864106?position=662',\n",
       " 'https://shopee.vn/%C4%90i%E1%BB%87n-tho%E1%BA%A1i-nokia-220-2-sim-(pin-sac)ch%C3%ADnh-h%C3%A3ng-i.20977279.2696570005?position=663',\n",
       " 'https://shopee.vn/%C4%90i%E1%BB%87n-Tho%E1%BA%A1i-Nokia-1280-%C4%90%E1%BB%99-Led-%C4%90%E1%BB%99-ph%C3%ADm-Bi-Si%C3%AAu-%C4%90%E1%BA%B9p-i.1657913.9602090626?position=664',\n",
       " 'https://shopee.vn/(Ch%C6%A1i-T%E1%BB%91t-Pud-G-Li%C3%AAn-Qu%C3%A2n-90-92-)-%C4%90i%E1%BB%87n-tho%E1%BA%A1i-ch%E1%BB%91ng-n%C6%B0%E1%BB%9Bc-Kyocera-Torque-G03-m%C3%A0n-Saphire-Ch%E1%BB%91ng-n%C6%B0%E1%BB%9Bc-Ch%E1%BB%91ng-Va-%C4%91%E1%BA%ADp-i.174341597.3430546191?position=665',\n",
       " 'https://shopee.vn/Nokia-e72-V%E1%BB%8F-zin.-%C4%90%C3%A3-qua-s%E1%BB%AD-d%E1%BB%A5ng-(Ko-s%E1%BB%ADa-ch%E1%BB%AFa)-i.61623136.6307525686?position=666',\n",
       " 'https://shopee.vn/%C4%90i%E1%BB%87n-Tho%E1%BA%A1i-Nokia-6700S-N%E1%BA%AFp-Tr%C6%B0%E1%BB%A3t-Ch%C3%ADnh-H%C3%A3ng-M%E1%BB%8Fng-V%E1%BB%8F-Nh%C3%B4m-Nh%E1%BA%B9-i.276623547.9107285477?position=667',\n",
       " 'https://shopee.vn/%C4%90i%E1%BB%87n-tho%E1%BA%A1i-Xiaomi-Poco-X3-NFC-(6GB-64GB)-H%C3%A0ng-ch%C3%ADnh-h%C3%A3ng-i.40757878.3569569321?position=668',\n",
       " 'https://shopee.vn/%C4%90i%E1%BB%87n-tho%E1%BA%A1i-VIVO-Y97-b%E1%BB%99-nh%E1%BB%9B-128G-m%C3%A0n-gi%E1%BB%8Dt-n%C6%B0%E1%BB%9Bc-Helio-P60-i.49282974.9085452117?position=669',\n",
       " 'https://shopee.vn/N%E1%BA%AFp-L%C6%B0ng-%C4%90i%E1%BB%87n-Tho%E1%BA%A1i-Samsung-A12-A125-zin-new-h%C3%A3ng-i.36007605.9645556938?position=670',\n",
       " 'https://shopee.vn/%C4%90i%E1%BB%87n-tho%E1%BA%A1i-POCO-X3-Pro-128-6GB-Ch%C3%ADnh-h%C3%A3ng-DGW-nguy%C3%AAn-seal-b%E1%BA%A3o-h%C3%A0nh-12-th%C3%A1ng-i.79091976.4695436352?position=671',\n",
       " 'https://shopee.vn/M%C3%A0n-h%C3%ACnh-v%E1%BB%A1-k%C3%ADnh-Iphone-4-4s-zin-kh%C3%B4ng-ph%E1%BA%A3i-%C4%91i%E1%BB%87n-tho%E1%BA%A1i-(-bao-hi%E1%BB%83n-th%E1%BB%8B-v%C3%A0-c%E1%BA%A3m-%E1%BB%A9ng-)-i.448296087.4489610644?position=672',\n",
       " 'https://shopee.vn/%C4%90i%E1%BB%87n-tho%E1%BA%A1i-OPPO-NEO-5-RAM-2GB-16-GB-B%E1%BA%A3o-h%C3%A0nh-uy-t%C3%ADn-6-th%C3%A1ng-i.241365389.3251055623?position=673',\n",
       " 'https://shopee.vn/%C4%90i%E1%BB%87n-tho%E1%BA%A1i-Nokia-2730-2700-ch%C3%ADnh-h%C3%A3ng-i.50766183.1895171646?position=674',\n",
       " 'https://shopee.vn/%C4%90i%E1%BB%87n-tho%E1%BA%A1i-Samsung-Galaxy-A02s-(3GB-32GB)-H%C3%A0ng-Ch%C3%ADnh-H%C3%A3ng-M%E1%BB%9Bi-100--i.281825590.9509840833?position=675',\n",
       " 'https://shopee.vn/%C4%90i%E1%BB%87n-tho%E1%BA%A1i-6s-plus-16G-32G-64g-b%E1%BA%A3n-lock-zin-all-i.44772106.12410898339?position=676',\n",
       " 'https://shopee.vn/%C4%90i%E1%BB%87n-tho%E1%BA%A1i-Xiaomi-Redmi-10-(4GB-128GB)-H%C3%A0ng-ch%C3%ADnh-h%C3%A3ng-i.331695868.10240444212?position=677',\n",
       " 'https://shopee.vn/%C4%90I%E1%BB%86N-THO%E1%BA%A0I-NOKIA-1280-MAN-ZIN-M%C3%80N-ZIN-NGHE-G%E1%BB%8CI-T%E1%BB%90T-(-N%C3%B3i-kh%C3%B4ng-v%E1%BB%9Bi-m%C3%A1y-t%C3%A0u-)-i.39257690.9780444373?position=678',\n",
       " 'https://shopee.vn/%C4%90i%E1%BB%87n-tho%E1%BA%A1i-ip-4s-c%E1%BA%A5u-h%C3%ACnh-m%E1%BA%A1nh.t%E1%BA%B7ng-k%C3%A8m-d%C3%A2y-s%E1%BA%A1c-b%E1%BA%A3o-h%C3%A0nh-to%C3%A0n-qu%E1%BB%91c-i.203317301.4711860246?position=679',\n",
       " 'https://shopee.vn/%C4%90i%E1%BB%87n-tho%E1%BA%A1i-Vivo-iQOO-Z1x-6-64GB-H%C3%A0ng-nh%E1%BA%ADp-kh%E1%BA%A9u-i.52809472.10344892989?position=680',\n",
       " 'https://shopee.vn/%C4%90I%E1%BB%86N-THO%E1%BA%A0I-DI-%C4%90%E1%BB%98NG-NG%C6%AF%E1%BB%9Ci-GI%C3%80-CAO-TU%E1%BB%94I-VIETTEL-V6216-XPHONE(M%C3%A1y-C%C5%A9)-2-sim-pin-tr%C3%A2u-loa-to-s%C3%B3ng-kh%E1%BB%8Fe-%C4%91%E1%BB%8Dc-s%E1%BB%91-b%C3%A0n-ph%C3%ADm-i.40026643.6067530142?position=681',\n",
       " 'https://shopee.vn/%C4%90i%E1%BB%87n-tho%E1%BA%A1i-Google-Pixel-3-i.26419149.9691456052?position=682',\n",
       " 'https://shopee.vn/Thay-v%E1%BB%8F-m%E1%BA%B7t-n%E1%BA%AFp-l%C6%B0ng-k%C3%ADnh-cho-Xiaomi-Redmi-K30-K30-5G-Zin-%C4%91%E1%BA%B9p-nh%C6%B0-m%C3%A1y-m%E1%BB%9Bi-i.129996598.8336389606?position=683',\n",
       " 'https://shopee.vn/%C4%90i%E1%BB%87n-Tho%E1%BA%A1i-Mini-L8STAR-B10(3310)-%C4%90i%E1%BB%87n-Tho%E1%BA%A1i-Mini-Gi%C3%A1-R%E1%BA%BB-Si%C3%AAu-Nh%E1%BB%8F-2-Sim-2-S%C3%B3ng-H%E1%BB%97-Tr%E1%BB%A3-Khe-C%E1%BA%AFm-Th%E1%BA%BB-Nh%E1%BB%9B-Nghe-Nh%E1%BA%A1c-MP3-i.13106520.3351737181?position=684',\n",
       " 'https://shopee.vn/%C4%90i%E1%BB%87n-tho%E1%BA%A1i-LG-g7-thinq-ram-4-b%E1%BB%99-nh%E1%BB%9B-64g-chip-snapdaragon-845-si%C3%AAu-m%C6%B0%E1%BB%A3t-i.71474818.12707097665?position=685',\n",
       " 'https://shopee.vn/%C4%90i%E1%BB%87n-tho%E1%BA%A1i-Kitty-K688-2sim-2s%C3%B3ng-t%E1%BA%B7ng-2pin-t%E1%BA%B7ng-Sim-t%E1%BA%B7ng-tai-nghe-(B%E1%BA%A3o-h%C3%A0nh-3-th%C3%A1ng)-i.50817933.11116137754?position=686',\n",
       " 'https://shopee.vn/%C4%90i%E1%BB%87n-Tho%E1%BA%A1i-OPPO-A3S-C1-qua-s%E1%BB%AD-d%E1%BB%A5ng.-i.20078691.7711082207?position=687',\n",
       " 'https://shopee.vn/V%E1%BB%8F-%C4%91i%E1%BB%87n-tho%E1%BA%A1i-oppo-F1s-A59-(v%E1%BB%8F-x%C6%B0%C6%A1ng)-i.141143016.2815080271?position=688',\n",
       " 'https://shopee.vn/Tai-nghe-Nokia-Lumia-WH-208-Stereo-Headset-2018-Theo-m%C3%A1y-Nokia-Lumia-i.447471904.3895267705?position=689',\n",
       " 'https://shopee.vn/%C4%90i%E1%BB%87n-tho%E1%BA%A1i-8-Plus-qu%E1%BB%91c-t%E1%BA%BF-zin-all-100-MAX-STORE-i.524117330.13415736466?position=690',\n",
       " 'https://shopee.vn/%C4%90i%E1%BB%87n-tho%E1%BA%A1i-ki%E1%BB%83u-d%C3%A1ng-qu%C3%A2n-%C4%91%E1%BB%99i-4-sim-4-s%C3%B3ng-Servo-H8-(%C4%91en)-i.10885760.486688456?position=691',\n",
       " 'https://shopee.vn/%C4%90i%E1%BB%87n-Tho%E1%BA%A1i-Xiaomi-Redmi-K40-Pro-RAM-6-128gb-8-128GB-Gi%C3%A1-r%E1%BA%BB-BH-3-th%C3%A1ng-T%E1%BA%B7ng-da%CC%81n-ma%CC%80n-%E1%BB%91p-l%C6%B0ng--i.2711113.7891547837?position=692',\n",
       " 'https://shopee.vn/%C4%90i%E1%BB%87n-tho%E1%BA%A1i-Sharp-Aquos-R2-Snap-845-m%C3%A0n-2K-120-Hz-chuy%C3%AAn-game-i.204574220.4996443817?position=693',\n",
       " 'https://shopee.vn/(B%E1%BA%A3n-TI%E1%BA%BENG-VI%E1%BB%86T-2-SIM)-%C4%90i%E1%BB%87n-tho%E1%BA%A1i-b%C3%A0n-kh%C3%B4ng-d%C3%A2y-l%E1%BA%AFp-sim-di-%C4%91%E1%BB%99ng-GPhone-HomePhone-ch%C3%ADnh-h%C3%A3ng-Huawei-i.414959729.11407156570?position=694',\n",
       " 'https://shopee.vn/ph%E1%BA%A3n-quang-iphone-zin-%C3%A1nh-s%C3%A1ng-%C4%91%E1%BA%B9p.cho-c%C3%A1c-b%C3%A1c-th%E1%BB%A3-iphone-v%E1%BB%81-thay.6g-6s.6plus.6splus.7g.7plus.8g.8plus-i.466037297.5291739454?position=695',\n",
       " 'https://shopee.vn/l%C3%A1-b%E1%BB%93-%C4%91%E1%BB%81-treo-xe-ho%E1%BA%B7c-%E1%BB%91p-%C4%91t-%C4%91%E1%BB%83-v%C3%AD-may-m%E1%BA%AFn-b%C3%ACnh-an-i.57564701.10628436918?position=696',\n",
       " 'https://shopee.vn/Pin-l%E1%BA%BB-%C4%91i%E1%BB%87n-tho%E1%BA%A1i-hello-kitty-i.95642495.11122449233?position=697',\n",
       " 'https://shopee.vn/%C4%90i%E1%BB%87n-Tho%E1%BA%A1i-3G-Nokia-150-(2-Sim)-Main-Zin-Ch%C3%ADnh-H%C3%A3ng-Like-New-99--i.1657913.9473900435?position=698',\n",
       " 'https://shopee.vn/BlackBerry-9930-i.68545191.1824056376?position=699',\n",
       " 'https://shopee.vn/V%E1%BB%8F-N%E1%BA%AFp-L%C6%B0ng-K%C3%ADnh-N%E1%BA%AFp-Sau-Sony-Xperia-XZ-Premium-Ch%E1%BA%A5t-L%C6%B0%E1%BB%A3ng-i.366405402.10611482816?position=700',\n",
       " 'https://shopee.vn/Mi%E1%BA%BFng-D%C3%A1n-%C4%90i%E1%BB%87n-Tho%E1%BA%A1i-Phong-Th%E1%BB%A7y-T%C3%A0i-L%E1%BB%99c-Linh-Ph%C3%B9-Phong-Th%E1%BB%A7y-%C4%90em-L%E1%BA%A1i-May-M%E1%BA%AFn-Th%E1%BB%8Bnh-V%C6%B0%E1%BB%A3ng-Cho-Gia-Ch%E1%BB%A7-i.16431256.12101879388?position=701',\n",
       " 'https://shopee.vn/N%E1%BA%AFp-l%C6%B0ng-%C4%91t-Xiaomi-Redmi-8-i.418171915.8241770899?position=702',\n",
       " 'https://shopee.vn/%C4%90i%E1%BB%87n-tho%E1%BA%A1i-Nokia-N103-h%C3%A0ng-s%C6%B0u-t%E1%BA%A7m-i.352597955.5591258321?position=703',\n",
       " 'https://shopee.vn/%C4%90i%E1%BB%87n-tho%E1%BA%A1i-Samsung-Galaxy-M32-8GB-128GB-Pin-5.000-mAH-25W-Freeship-H%C3%A0ng-Ch%C3%ADnh-H%C3%A3ng-Nguy%C3%AAn-Seal-i.449911630.11524841197?position=704',\n",
       " 'https://shopee.vn/%C4%90i%E1%BB%87n-tho%E1%BA%A1i-ch%C6%A1i-game-gi%C3%A1-r%E1%BA%BB-SHARP-509SH-Ram-2G-16G-Chip-Snapdragon-617-i.152903230.10133869364?position=705',\n",
       " 'https://shopee.vn/%C4%90i%E1%BB%87n-tho%E1%BA%A1i-Samsung-Galaxy-S5-gi%C3%A1-r%E1%BA%BB-d%C6%B0%E1%BB%9Bi-1-tri%E1%BB%87u-ch%C6%A1i-game-m%C6%B0%E1%BB%A3t-i.347682742.9974573582?position=706',\n",
       " 'https://shopee.vn/Khay-sim-iPhone-12-Pro-Max-i.226728772.9865872796?position=707',\n",
       " 'https://shopee.vn/-SALE-Combo-4-mi%E1%BA%BFng-d%C3%A1n-%C4%91i%E1%BB%87n-tho%E1%BA%A1i-t%C3%A0i-l%E1%BB%99c-bu%C3%B4n-may-b%C3%A1n-%C4%91%E1%BA%AFt-ph%C3%B9-h%E1%BB%A3p-c%C3%A1c-d%C3%B2ng-%C4%91i%E1%BB%87n-tho%E1%BA%A1i-%C4%91%E1%BA%B9p-lung-linh.-i.448366729.8975655252?position=708',\n",
       " 'https://shopee.vn/%C4%90i%E1%BB%87n-Tho%E1%BA%A1i-Realme-C2-32GB-i.20078691.7716280171?position=709',\n",
       " 'https://shopee.vn/%C4%90I%E1%BB%86N-THO%E1%BA%A0I-%F0%9D%90%8D%F0%9D%90%8E%F0%9D%90%8A%F0%9D%90%88%F0%9D%90%80-%F0%9D%9F%8F%F0%9D%9F%90%F0%9D%9F%96%F0%9D%9F%8E-H%C3%A0ng-M%E1%BB%9Bi-Khuy%E1%BB%85n-M%C3%A3i-B%E1%BA%A3o-h%C3%A0nh-12-Th%C3%A1ng-Ph%E1%BB%A5-Ki%E1%BB%87n-M%C3%A1y-S%E1%BA%A1c-Pin-i.213974076.4286662018?position=710',\n",
       " 'https://shopee.vn/C%E1%BB%A5m-iPhone-5-32G-Icloud-c%C3%B2n-s%E1%BB%91ng-%C4%91%E1%BA%A7y-%C4%91%E1%BB%A7-linh-ki%E1%BB%87n-i.167958016.13403302672?position=711',\n",
       " 'https://shopee.vn/%C4%90i%E1%BB%87n-Tho%E1%BA%A1i-LG-G7-1sim-Ram-4GB-B%E1%BB%99-nh%E1%BB%9B-64GB-Chip-snap-Dragon-845-i.273958284.13307125027?position=712',\n",
       " 'https://shopee.vn/%E2%9C%85-Ch%C3%ADnh-H%C3%A3ng-%E2%9C%85-K%C3%ADnh-Camera-Sau-Xiaomi-Mi-10T-Pro-5G-Ch%C3%ADnh-H%C3%A3ng-Gi%C3%A1-R%E1%BA%BB-Linh-K%E1%BB%87n-Thay-Th%E1%BA%BF-i.161550338.8036093958?position=713',\n",
       " 'https://shopee.vn/%C4%91i%E1%BB%87n-tho%E1%BA%A1i-Xiaomi-Redmi-Note-8-2sim-64G-ram-6G-m%E1%BB%9Bi-Ch%C3%ADnh-H%C3%A3ng-C%C3%B3-TI%E1%BA%BENG-VI%E1%BB%86T-i.122206336.6237739782?position=714',\n",
       " 'https://shopee.vn/%C4%91i%E1%BB%87n-tho%E1%BA%A1i-Oppo-A37-Neo-9-2sim-ram-2G-16G-m%E1%BB%9Bi-Ch%C3%ADnh-H%C3%A3ng-i.122206336.3150934088?position=715',\n",
       " 'https://shopee.vn/%C4%91i%E1%BB%87n-tho%E1%BA%A1i-Xiaomi-Redmi-Note-5-Pro-2sim-ram-4G-rom-64G-m%E1%BB%9Bi-C%C3%B3-Ti%E1%BA%BFng-Vi%E1%BB%87t-Ch%C6%A1i-Free-Fire-PUBG-m%C6%B0%E1%BB%9Bt-i.122206336.6937648901?position=716',\n",
       " 'https://shopee.vn/-M%C3%81Y-H%C3%83NG-%C4%91i%E1%BB%87n-tho%E1%BA%A1i-Samsung-Galaxy-J6-2018-2sim-ram-3G-32G-m%E1%BB%9Bi-Ch%C3%ADnh-H%C3%A3ng-%C4%90%C3%A1nh-PUBG-LI%C3%8AN-QU%C3%82N-M%C6%B0%E1%BB%A3t-i.122206336.3766319362?position=717',\n",
       " 'https://shopee.vn/%C4%90i%E1%BB%87n-tho%E1%BA%A1i-NOKIA-105-2-SIM-(2019)-H%C3%A0ng-M%E1%BB%9Bi-Nguy%C3%AAn-H%E1%BB%99p-B%E1%BA%A3o-H%C3%A0nh-Ch%C3%ADnh-H%C3%A3ng-i.14947974.6707029661?position=718',\n",
       " 'https://shopee.vn/FREESHIP-%C4%90%C6%A0N-99K_C%C6%B0%E1%BB%9Dng-l%E1%BB%B1c-camera-xiaomi-redmi-note-5-pro-xiaomi-note-6-pro-i.13928634.1084733521?position=719',\n",
       " 'https://shopee.vn/%C4%90i%E1%BB%87n-tho%E1%BA%A1i-2sim-si%C3%AAu-nh%E1%BB%8F-i.13482524.5046107149?position=720',\n",
       " 'https://shopee.vn/%C4%90i%E1%BB%87n-tho%E1%BA%A1i-m%C3%A8o-Kitty-si%C3%AAu-xinh-(-C%C3%B3-nghe-nh%E1%BA%A1c-v%C3%A0-c%C3%B3-ti%E1%BA%BFng-Vi%E1%BB%87t-)-i.50817933.1822669035?position=721',\n",
       " 'https://shopee.vn/%C4%91i%E1%BB%87n-tho%E1%BA%A1i-Sony-Xperia-Z3-ram-3G-32G-m%E1%BB%9Bi-Ch%C6%A1i-PUBG-Li%C3%AAn-Qu%C3%A2n-m%C6%B0%E1%BB%A3t-i.11171175.4449738697?position=722',\n",
       " 'https://shopee.vn/%C4%90i%E1%BB%87n-tho%E1%BA%A1i-si%C3%AAu-nh%E1%BB%8F-7m%C3%A0u-b%C3%A1n-s%E1%BB%89-cam-%C4%91%E1%BB%8F-v%C3%A0ng-%C4%91en-h%E1%BB%93ng-x%C3%A1m-xanh-i.28763441.1828065528?position=723',\n",
       " 'https://shopee.vn/%C4%91i%E1%BB%87n-tho%E1%BA%A1i-OPPO-A5-(2020)-Ch%C3%ADnh-H%C3%A3ng-ram-4G-rom-64G-Fullbox-Chi%E1%BA%BFn-PUBG-Free-fire-m%C6%B0%E1%BB%9Bt-i.122206336.5966219366?position=724',\n",
       " 'https://shopee.vn/%C4%90i%E1%BB%87n-tho%E1%BA%A1i-oppo-a31-fullbox-ch%C3%ADnh-h%C3%A3ng-b%E1%BB%99-nh%E1%BB%9B-128-ram-4g-i.456926161.11009173286?position=725',\n",
       " 'https://shopee.vn/%C4%91i%E1%BB%87n-tho%E1%BA%A1i-Xiaomi-Redmi-Note-2-b%E1%BB%99-nh%E1%BB%9B-16G-ram-2G-Ch%C3%ADnh-H%C3%A3ng-Camera-n%C3%A9t-i.122206336.7366219960?position=726',\n",
       " 'https://shopee.vn/%C4%90I%E1%BB%86N-THO%E1%BA%A0I-NOKIA-1280-MAN-ZIN-M%C3%80N-ZIN-N%C3%93I-KO-V%E1%BB%9AI-H%C3%80NG-T%C3%80U-BH-12T-i.276623547.5249262260?position=727',\n",
       " 'https://shopee.vn/%C4%90I%E1%BB%86N-THO%E1%BA%A0I-NOKIA-105-FULL-PIN-S%E1%BA%A0C-M%C3%81Y-M%E1%BB%9AI-i.89899849.5551129059?position=728',\n",
       " 'https://shopee.vn/%C4%91i%E1%BB%87n-tho%E1%BA%A1i-Sony-Xperia-XZ1-ram-4G-64G-m%E1%BB%9Bi-ch%C6%A1i-Game-n%E1%BA%B7ng-m%C6%B0%E1%BB%A3t-i.122206336.7136396065?position=729',\n",
       " 'https://shopee.vn/V%E1%BB%8F-x%C6%B0%C6%A1ng-ph%C3%ADm-%C4%91i%E1%BB%87n-tho%E1%BA%A1i-Nokia-1280-lo%E1%BA%A1i-x%E1%BB%8Bn-i.96292182.3653943396?position=730',\n",
       " 'https://shopee.vn/-M%C3%A3-SKAMCLU9-gi%E1%BA%A3m-10-%C4%91%C6%A1n-100K-%C4%90i%E1%BB%87n-tho%E1%BA%A1i-BlackBerry-Z10-i.64945499.4665186480?position=731',\n",
       " 'https://shopee.vn/%C4%91i%E1%BB%87n-tho%E1%BA%A1i-Oppo-A37-Neo-9-m%E1%BB%9Bi-2sim-ram-2G-32G-Ch%C3%ADnh-h%C3%A3ng-Camera-n%C3%A9t-i.11171175.3546462184?position=732',\n",
       " 'https://shopee.vn/%C4%90i%E1%BB%87n-tho%E1%BA%A1i-Mini-Nokia-3310-i.207194835.4431513886?position=733',\n",
       " 'https://shopee.vn/-Free-ship-%C4%90i%E1%BB%87n-Tho%E1%BA%A1i-Samsung-Galaxy-S10-5G-Pin-Kh%E1%BB%A7ng-4500mAh-Ram-8Gb-Room256Gb-S105G-chi%E1%BA%BFn-ngon-pupg-li%C3%AAn-qu%C3%A2n...-i.189268414.5360960622?position=734',\n",
       " 'https://shopee.vn/%C4%91i%E1%BB%87n-tho%E1%BA%A1i-v%C4%83n-ph%C3%B2ng-%C4%91i%E1%BB%87n-tho%E1%BA%A1i-kh%C3%A1ch-s%E1%BA%A1n-gia-%C4%91%C3%ACnh-lo%E1%BA%A1i-c%C3%B3-d%C3%A2y-%C4%91%E1%BB%83-b%C3%A0n-c%C3%B3-m%C3%A0n-h%C3%ACnh-hi%E1%BB%87n-s%E1%BB%91-g%E1%BB%8Di-t%E1%BB%9Bi.-KTeL-504-i.90097467.2019480812?position=735',\n",
       " 'https://shopee.vn/-H%C3%80NG-CH%C3%8DNH-H%C3%83NG-%C4%90i%E1%BB%87n-tho%E1%BA%A1i-nokia-110I-full-h%E1%BB%99p-m%C3%A1y-s%E1%BA%A1c-pin-5-ng%C3%A0y-ch%C6%B0a-s%E1%BA%A1c-i.89899849.6636444270?position=736',\n",
       " 'https://shopee.vn/%C4%90i%E1%BB%87n-Tho%E1%BA%A1i-Nokia-1280-Ch%C3%ADnh-H%C3%A3ng-B%E1%BA%A3o-H%C3%A0nh-12-Th%C3%A1ng-%C4%90%E1%BB%95i-M%E1%BB%9Bi-i.70094786.5402745093?position=737',\n",
       " 'https://shopee.vn/%C4%90i%E1%BB%87n-tho%E1%BA%A1i-V9-%C4%91%E1%BB%99c-l%E1%BA%A1-t%E1%BA%B7ng-th%C3%AAm-1-pin-i.241583522.7546372547?position=738',\n",
       " 'https://shopee.vn/%C4%90ien-Tho%E1%BA%A1i-BM10-mini-b%C3%A9-x%C3%ADu-3310-d%E1%BB%85-th%C6%B0%C6%A1n-i.95642495.2297414049?position=739',\n",
       " 'https://shopee.vn/%C4%90i%E1%BB%87n-Tho%E1%BA%A1i-Mini-si%C3%AAu-nh%E1%BB%8F-Kechaoda-K10-%C4%91%E1%BB%99c-%C4%91%C3%A1o-Ki%C3%AAm-tai-nghe-bluetooth-C%C3%B3-Thay-%C4%90%E1%BB%95i-Gi%E1%BB%8Dng-N%C3%B3i-%F0%9F%94%A5FREE-SHIP%F0%9F%94%A5-i.259294957.7444097654?position=740',\n",
       " 'https://shopee.vn/%C4%90i%E1%BB%87n-Tho%E1%BA%A1i-Nokia-1280-%C4%90%E1%BB%99-Led-10-B%C3%B3ng-Nh%C3%A1y-k%C3%A8m-Pin-S%E1%BA%A1c-i.34655911.809582259?position=741',\n",
       " 'https://shopee.vn/%C4%90i%E1%BB%87n-tho%E1%BA%A1i-Samsung-Galaxy-M51-Snapdragon-730G-4-camera-ch%C3%ADnh-pin-7000mAh-c%E1%BB%B1c-kh%E1%BB%A7ng-H%C3%A0ng-Ch%C3%ADnh-H%C3%A3ng-i.55194587.5260955192?position=742',\n",
       " 'https://shopee.vn/%C4%90i%E1%BB%87n-tho%E1%BA%A1i-mini-i8-si%C3%AAu-nh%E1%BB%8F-i.139018723.5720926710?position=743',\n",
       " 'https://shopee.vn/%C4%90i%E1%BB%87n-tho%E1%BA%A1i-sony-Experia-XZ2-zin-keeng-99-full-%C3%A1p-su%E1%BA%A5t-i.91772591.6034464851?position=744',\n",
       " 'https://shopee.vn/-Chu%E1%BA%A9n_Uy-T%C3%ADn-_Nokia-N8_%C4%90i%E1%BB%87n-Tho%E1%BA%A1i-Nokia-N8-C%E1%BA%A3m-%E1%BB%A8ng-B%E1%BB%99-Nh%E1%BB%9B-16G-WiFi-3G-Ch%C3%ADnh-H%C3%A3ng-B%E1%BA%A3o-H%C3%A0nh-6-Th%C3%A1ng-i.116554044.5688623854?position=745',\n",
       " 'https://shopee.vn/%C4%91i%E1%BB%87n-tho%E1%BA%A1i-NOKIA-110i-(H%C3%80NG-CH%C3%8DNH-H%C3%83NG)b%E1%BA%A3o-h%C3%A0nh-12-th%C3%A1ng-i.293394460.5645688863?position=746',\n",
       " 'https://shopee.vn/%C4%91i%E1%BB%87n-tho%E1%BA%A1i-Xiaomi-Redmi-2-2-sim-zin-m%E1%BB%9Bi-Ch%C3%ADnh-h%C3%A3ng-full-zalo-FB-Youtube-i.122206336.7466220947?position=747',\n",
       " 'https://shopee.vn/B%C3%BAt-c%E1%BA%A3m-%E1%BB%A9ng-2-in-1-th%C3%B4ng-minh-%C4%91a-n%C4%83ng-si%C3%AAu-nh%E1%BA%A1y-cho-%C4%91i%E1%BB%87n-tho%E1%BA%A1i-smartphone-ipad-m%C3%A1y-t%C3%ADnh-b%E1%BA%A3ngyoungcityshop-30.000-i.273020793.6676237731?position=748',\n",
       " 'https://shopee.vn/%C4%90i%E1%BB%87n-tho%E1%BA%A1i-Samsung-Galaxy-S10-ch%C3%ADnh-h%C3%A3ng-2sim-S10-H%C3%A0n-qu%E1%BB%91c-Ram8Gb-Room128Gb-gi%C3%A1-t%E1%BB%91t-i.189268414.6961580380?position=749',\n",
       " 'https://shopee.vn/%C4%91i%E1%BB%87n-tho%E1%BA%A1i-Oppo-F9-Pro-2sim-ram-6G-128G-Ch%C3%ADnh-h%C3%A3ng-m%E1%BB%9Bi-Camera-tr%C6%B0%E1%BB%9Bc-25mp-pin-3500mah-b%E1%BA%A3o-h%C3%A0nh-12-Th%C3%A1ng-i.122206336.3466317999?position=750',\n",
       " 'https://shopee.vn/%C4%90i%E1%BB%87n-tho%E1%BA%A1i-pixel-3-64g-si%C3%AAu-camera-androi-g%E1%BB%91c-c%E1%BB%B1c-m%C6%B0%E1%BB%A3t-i.71474818.2930741344?position=751',\n",
       " 'https://shopee.vn/Sharp-AQuos-SHV33-RAM3GB-4G-LTE-%C4%90i%E1%BB%87n-tho%E1%BA%A1i-ch%C6%A1i-game-gi%C3%A1-r%E1%BA%BB-i.16387339.2081009390?position=752',\n",
       " 'https://shopee.vn/-M%C3%A3-SKAMSALE10-gi%E1%BA%A3m-10-%C4%91%C6%A1n-200K-%C4%90i%E1%BB%87n-tho%E1%BA%A1i-BlackBerry-9800-m%C3%A1y-%C4%91%E1%BA%B9p-99-nguy%C3%AAn-b%E1%BA%A3n.-i.64945499.4024485316?position=753',\n",
       " 'https://shopee.vn/v%E1%BB%8F-ph%C3%ADm-%C4%91i%E1%BB%87n-tho%E1%BA%A1i-nokia-1202-(-lo%E1%BA%A1i-x%E1%BB%8Bn-)-i.96292182.3473592165?position=754',\n",
       " 'https://shopee.vn/%C4%90i%E1%BB%87n-Tho%E1%BA%A1i-Nokia-1280-Zin-C%C5%A9-Ch%C3%ADnh-H%C3%A3ng-M%C3%A0n-H%C3%ACnh-Zin-Main-Zin-C%C3%B3-Video-i.34655911.1327490782?position=755',\n",
       " 'https://shopee.vn/Chuy%C3%AAn-S%E1%BB%89-%C4%90i%E1%BB%87n-Tho%E1%BA%A1i-Nokia-8800-i.318791131.7255942403?position=756',\n",
       " 'https://shopee.vn/-M%C3%A3-SKAMCLU9-gi%E1%BA%A3m-10-%C4%91%C6%A1n-100K-%C4%90i%E1%BB%87n-tho%E1%BA%A1i-Forme-F1-H%C3%A0ng-ch%C3%ADnh-h%C3%A3ng-i.40757878.1134781880?position=757',\n",
       " 'https://shopee.vn/-M%C3%A3-SKAMSALE10-gi%E1%BA%A3m-10-%C4%91%C6%A1n-200K-%C4%90i%E1%BB%87n-tho%E1%BA%A1i-Blackberry-Leap-Z20-ch%C3%ADnh-h%C3%A3ng-h%C3%ACnh-th%E1%BB%A9c-96-98--i.64945499.5069335809?position=758',\n",
       " 'https://shopee.vn/%C4%90i%E1%BB%87n-tho%E1%BA%A1i-Sony-Xperia-XZ3-1SIM-RAM-4-64GB-Chip-snap-845-8-nh%C3%A2n-M%C3%A0n-H%C3%ACnh-P-OLED-6.0-Quad-HD-(2k-i.273958284.5680822352?position=759',\n",
       " 'https://shopee.vn/-LKBBZIN-N%E1%BA%AFp-L%C6%B0ng-Blackberry-Priv-Zin-Th%C3%A1o-m%C3%A1y-%C4%91%E1%BA%B9p-i.31027513.1870575990?position=760',\n",
       " 'https://shopee.vn/GI%C3%81-C%E1%BB%B0C-H%C3%93T-%C4%90i%E1%BB%87n-tho%E1%BA%A1i-Xiaomi-Redmi-4X-2-sim-Pin-4100mA-c%E1%BA%A3m-bi%E1%BA%BFn-v%C3%A2n-tay-v%E1%BB%8F-nh%C3%B4m(-t%E1%BA%B7ng-%E1%BB%91p-k%C3%ADnh-c%C6%B0%E1%BB%9Dng-l%E1%BB%B1c)-i.242263416.8853683313?position=761',\n",
       " 'https://shopee.vn/-R%E1%BA%BA-V%C3%94-%C4%90%E1%BB%8ACH-Sony-XZ2-%C4%90%E1%BA%B9p-Nguy%C3%AAn-Zin-full-%C3%A1p-99-.-i.236893379.7535679464?position=762',\n",
       " 'https://shopee.vn/M%C3%A1y-m%E1%BB%9Bi-nguy%C3%AAn-siu-%C4%91%C3%B3ng-h%E1%BB%99p-%C4%91i%E1%BB%87n-tho%E1%BA%A1i-fami-12-(-ch%C3%ADnh-h%C3%A3ng-))-i.96292182.7041022350?position=763',\n",
       " 'https://shopee.vn/M%C3%A1y-%C4%91i%E1%BB%87n-tho%E1%BA%A1i-mini-h%C3%ACnh-chai-cocacola-si%C3%AAu-l%E1%BA%A1-i.50817933.2287026038?position=764',\n",
       " 'https://shopee.vn/s%E1%BA%A3n-ph%E1%BA%A9m-kh%C3%A1ch-ch%E1%BB%8Dn-live-A330-i.19313658.9228702934?position=765',\n",
       " 'https://shopee.vn/%C4%90i%E1%BB%87n-tho%E1%BA%A1i-ITEL-it9200-(thu-ph%C3%A1t-wifi-l%C6%B0%E1%BB%9Bt-wed-facebook-youtube..)-i.58573345.8824086500?position=766',\n",
       " 'https://shopee.vn/%C4%91i%E1%BB%87n-tho%E1%BA%A1i-Oppo-Neo-5-A31-2sim-16G-m%E1%BB%9Bi-Ch%C3%ADnh-h%C3%A3ng-nghe-g%E1%BB%8Di-Zalo-Tiktok-FB-Youtube-nghe-g%E1%BB%8Di-ngon-l%C3%A0nh-i.122206336.5366222486?position=767',\n",
       " 'https://shopee.vn/%C4%90i%E1%BB%87n-tho%E1%BA%A1i-LG-G8-ThinQ-ram-6G-128G-Snap-855-i.49282974.3311198627?position=768',\n",
       " 'https://shopee.vn/%C4%90i%E1%BB%87n-Tho%E1%BA%A1i-LG-V50-ThinQ-H%C3%A0n-Qu%E1%BB%91c-ch%C3%ADnh-h%C3%A3ng-%C4%91%E1%BA%B9p-zin-bao-zin-nguy%C3%AAn-%C3%A1p-100--i.42116881.5843817113?position=769',\n",
       " 'https://shopee.vn/%C4%90I%E1%BB%86N-THO%E1%BA%A0I-SAMSUNG-E1200-i.65029425.1086995466?position=770',\n",
       " 'https://shopee.vn/-G%C3%8DA-S%E1%BB%90C-%F0%9F%93%B1-%C4%90i%E1%BB%87n-Tho%E1%BA%A1i-VIVO-Y71-B%E1%BA%A3o-H%C3%A0nh-12-Th%C3%A1ng%F0%9F%93%B1-i.61686957.4283292213?position=771',\n",
       " 'https://shopee.vn/%C4%90i%E1%BB%87n-Thoai-Maxfone-V6-V12-4-sim-Full-Box-B%C3%A0n-ph%C3%ADm-to-B%E1%BA%A3o-H%C3%A0nh-12-th%C3%A1ng-i.208445880.5944711440?position=772',\n",
       " 'https://shopee.vn/%C4%90i%E1%BB%87n-Tho%E1%BA%A1i-Masstel-IZi-208-210-Ch%E1%BB%AF-To-Loa-To-pin-si%C3%AAu-kh%E1%BB%8Fe-Ch%C3%ADnh-H%C3%A3ng-i.105396579.1842734741?position=773',\n",
       " 'https://shopee.vn/%C4%90i%E1%BB%87n-tho%E1%BA%A1i-OPPO-A15-(3GB-32GB)-H%C3%A0ng-Ch%C3%ADnh-H%C3%A3ng-i.458675969.9366793547?position=774',\n",
       " 'https://shopee.vn/%C4%90i%E1%BB%87n-Tho%E1%BA%A1i-7-Qu%C3%B4%CC%81c-T%C3%AA%CC%81-v%C3%A0-Lock-%C4%91%E1%BA%B9p-zin-i.188863065.8970784602?position=775',\n",
       " 'https://shopee.vn/-Si%C3%AAu-r%E1%BA%BB-%C4%90i%E1%BB%87n-tho%E1%BA%A1i-%C4%91%E1%BB%99c-c%E1%BB%95-NOKIA-C3-00-gi%C3%A1-r%E1%BA%BB-ch%C3%ADnh-h%C3%A3ng-m%C3%A1y-%C4%91%E1%BA%B9p-B%E1%BA%A3o-h%C3%A0nh-12-th%C3%A1ng-i.131595456.4762899800?position=776',\n",
       " 'https://shopee.vn/-R%E1%BA%BC-V%C3%94-%C4%90%E1%BB%90I-%C4%90i%E1%BB%87n-tho%E1%BA%A1i-LG-G8x-ThinQ(6GB-128GB)-Ch%C3%ADnh-H%C3%A3ng-Camera-Selfiel-32Mp-Pin-4000mah-i.236893379.8265992785?position=777',\n",
       " 'https://shopee.vn/%C4%90i%E1%BB%87n-Tho%E1%BA%A1i-POCO-X3-Pro-8GB-256GB-6GB-128GB-PIN-5160-mAh-Android-11-Qualcomm%C2%AE-Snapdragon%E2%84%A2-860-BH-18-TH%C3%81NG-CH%C3%8DNH-H%C3%83NG-i.449911630.9761696901?position=778',\n",
       " 'https://shopee.vn/M%C3%A0n-H%C3%ACnh-iPhone-(-%C4%90%E1%BB%A7-camera-tr%C6%B0%E1%BB%9Bc.-loa-trong-n%E1%BA%B9p-%E1%BB%91c-)-i.74374038.8106746771?position=779',\n",
       " 'https://shopee.vn/%C4%90i%E1%BB%87n-Tho%E1%BA%A1i-Samsung-galaxy-S10e-b%E1%BA%A3n-chip-Snapdragon-855-Nh%E1%BA%ADp-Kh%E1%BA%A9u-M%E1%BB%B9-C%E1%BA%A5u-H%C3%ACnh-c%E1%BB%B1c-m%E1%BA%A1nh-Zin-%C4%91%E1%BA%B9p-Mua-t%E1%BA%A1i-PlayMobile-i.118122501.2462216999?position=780',\n",
       " 'https://shopee.vn/%C4%90i%E1%BB%87n-Tho%E1%BA%A1i-A8-Sang-Tr%E1%BB%8Dng-2-Sim-T%E1%BA%B7ng-Bao-Da-i.161913811.8026754128?position=781',\n",
       " 'https://shopee.vn/%C4%90i%E1%BB%87n-Tho%E1%BA%A1i-Nokia-1280-%C4%90%E1%BB%99-Led-10-B%C3%B3ng-Nh%C3%A1y-Si%C3%AAu-%C4%90%E1%BA%B9p-Si%C3%AAu-%C4%90%E1%BB%99c-i.1657913.2304187275?position=782',\n",
       " 'https://shopee.vn/%C4%90i%E1%BB%87n-tho%E1%BA%A1i-V05-l%C4%83p-tr%C6%B0%E1%BB%A3t-sang-tr%E1%BB%8Dng-in-h%C3%ACnh-ng%E1%BB%B1a-phi-i.116456903.7448937689?position=783',\n",
       " 'https://shopee.vn/%C4%90i%E1%BB%87n-tho%E1%BA%A1i-Xiaomi-Redmi-Note-5-Pro-(4-64)-i.144936067.2304679464?position=784',\n",
       " 'https://shopee.vn/Camera-tr%C6%B0%E1%BB%9Bc-Samsung-Galaxy-A50-A505-Zin-H%C3%A3ng-i.36007605.4157387316?position=785',\n",
       " 'https://shopee.vn/%C4%90i%E1%BB%87n-Tho%E1%BA%A1i-Samsung-Galaxy-S10-b%E1%BA%A3n-M%E1%BB%B9-Likenew-99-Chip-r%E1%BB%93ng-Snapdragon-855-m%E1%BA%A1nh-m%E1%BA%BD-mua-t%E1%BA%A1i-Playmobile-i.161902920.2442477719?position=786',\n",
       " 'https://shopee.vn/%C4%90i%E1%BB%87n-tho%E1%BA%A1i-OPPO-A92-H%C3%A0ng-Ch%C3%ADnh-H%C3%A3ng-M%E1%BB%9Bi-100--i.281825590.3154453046?position=787',\n",
       " 'https://shopee.vn/B%E1%BB%99-khay-sim-g%E1%BA%A1t-rung-ph%C3%ADm-iphone-7plus.8g.8plus.x-xsmax.-i.466037297.8366641814?position=788',\n",
       " 'https://shopee.vn/%C4%90i%E1%BB%87n-tho%E1%BA%A1i-samsung-galaxy-J7-PRO-i.81069780.3746243635?position=789',\n",
       " 'https://shopee.vn/%C4%90i%E1%BB%87n-Tho%E1%BA%A1i-Masstel-Play-50-Loa-kh%E1%BB%A7ng-Pin-si%C3%AAu-kh%E1%BB%A7ng-3000mah-s%E1%BA%A3n-ph%E1%BA%A9m-m%E1%BB%9Bi-b%E1%BA%A3o-h%C3%A0nh-12-thang.-i.154547767.5757709854?position=790',\n",
       " 'https://shopee.vn/-H%C3%A0ng-ch%C3%ADnh-h%C3%A3ng-%C4%90i%E1%BB%87n-tho%E1%BA%A1i-b%C3%A0n-Panasonic-KX-T7700-(New)-i.43006247.3519482756?position=791',\n",
       " 'https://shopee.vn/%C4%90i%E1%BB%87n-tho%E1%BA%A1i-Panasonic-KX-TSC11-B%E1%BA%A3o-h%C3%A0nh-ch%C3%ADnh-h%C3%A3ng-12-th%C3%A1ng-i.7309694.51933973?position=792',\n",
       " 'https://shopee.vn/%E1%BB%90p-l%C6%B0ng-Nokia-8.1(Nokia-X7)-Nokia-5.1-Plus(Nokia-X5)-Nokia-6.1-Plus(Nokia-X6)-Nokia-5.3-7.2-3.2-2.2-2.3-8.3-N058-i.27110957.10003964441?position=793',\n",
       " 'https://shopee.vn/%C4%90i%E1%BB%87n-tho%E1%BA%A1i-nokia-230-l%C6%B0%E1%BB%9Bt-ch%C3%ADnh-h%C3%A3ng-2-sim-i.129982976.5634485489?position=794',\n",
       " 'https://shopee.vn/%C4%90i%E1%BB%87n-tho%E1%BA%A1i-mini-Si%C3%AAu-Nh%E1%BB%8F-D%E1%BB%84-TH%C6%AF%C6%A0NG-B331-02-sim-02-s%C3%B3ng-g%E1%BA%AFn-%C4%91%C6%B0%E1%BB%A3c-th%E1%BA%BB-8G.-i.105747592.6640622720?position=795',\n",
       " 'https://shopee.vn/%C4%90i%E1%BB%87n-Tho%E1%BA%A1i-LGV40-H%C3%A0n-M%E1%BB%B9-Qu%E1%BB%91c-T%E1%BA%BF-1Sim-2Sim-Snapdragon-845-8-Nh%C3%A2n-Ram-6G-64G-6G-1-i.24876825.6276563974?position=796',\n",
       " 'https://shopee.vn/M%C3%A0n-h%C3%ACnh-iphone-6g-6s-7G-7Plus-6Splus-6Plus-zin-b%C3%B3c-m%C3%A1y-gi%C3%A1-r%E1%BA%BB-i.263077943.9366941150?position=797',\n",
       " 'https://shopee.vn/%C4%90i%E1%BB%87n-Tho%E1%BA%A1i-8-plus-Qu%C3%B4%CC%81c-T%C3%AA%CC%81-v%C3%A0-Lock-i.188863065.7992743890?position=798',\n",
       " 'https://shopee.vn/%C4%90i%E1%BB%87n-Tho%E1%BA%A1i-VIVO-Y12S-(3-32G)-H%C3%A0ng-Ch%C3%ADnh-H%C3%A3ng-i.115073315.6477647699?position=799',\n",
       " 'https://shopee.vn/%C4%90i%E1%BB%87n-Tho%E1%BA%A1i-Masstel-IZi-300-ch%E1%BB%AF-to-loa-to-Pin-tr%C3%A2u-2500-mah-H%C3%A0ng-ch%C3%ADnh-h%C3%A3ng-i.27662376.6610271345?position=800',\n",
       " 'https://shopee.vn/%C4%91i%E1%BB%87n-tho%E1%BA%A1i-Oppo-F1s-2sim-B%E1%BB%99-nh%E1%BB%9B-32G-ram-4G-m%E1%BB%9Bi-Ch%C3%ADnh-H%C3%A3ng-B%E1%BA%A3o-h%C3%A0nh-12-th%C3%A1ng-Camera-si%C3%AAu-n%C3%A9t-i.122206336.5827383954?position=801',\n",
       " 'https://shopee.vn/-T%E1%BA%B7ng-1-Khay-D%E1%BB%B1-Ph%C3%B2ng-%C4%90i%E1%BB%87n-Tho%E1%BA%A1i-K%C3%ADch-Sim-L%E1%BA%AFp-Sim-Si%C3%AAu-Nhanh-v%C3%A0-%E1%BB%94n-%C4%90%E1%BB%8Bnh-i.382176949.9713792768?position=802',\n",
       " 'https://shopee.vn/%E2%9C%94%EF%B8%8F-Bao-Da-B%C3%A0n-Ph%C3%ADm-%C4%90i%E1%BB%87n-Tho%E1%BA%A1i-C%C3%B3-Chu%E1%BB%99t-D%C3%B9ng-%C4%90%C6%B0%E1%BB%A3c-Cho-%C4%90i%E1%BB%87n-Tho%E1%BA%A1i-C%C3%B3-OTG-B%E1%BA%A3o-H%C3%A0nh-1-%C4%90%E1%BB%95i-1--i.393672241.3580331319?position=803',\n",
       " 'https://shopee.vn/%C4%90i%E1%BB%87n-tho%E1%BA%A1i-c%E1%BB%95-Samsung-E1200-full-ph%E1%BB%A5-ki%E1%BB%87n-BH-12-th%C3%A1ng-1-%C4%91%E1%BB%95i-1-trong-1-th%C3%A1ng-%C4%91%E1%BA%A7u-i.268722979.6068674457?position=804',\n",
       " 'https://shopee.vn/Main-full-qu%E1%BB%91c-t%E1%BA%BF-iPhone-5-(t%E1%BA%B7ng-k%C3%A8m-v%E1%BB%8F-c%E1%BB%A5m-s%E1%BA%A1c)-i.29677110.3981417219?position=805',\n",
       " 'https://shopee.vn/%C4%90i%E1%BB%87n-tho%E1%BA%A1i-Realme-Q3-Pro-5G-8-128Gb-nguy%C3%AAn-seal-b%E1%BA%A3o-h%C3%A0nh-1-n%C4%83m-....-i.392890400.8781358490?position=806',\n",
       " 'https://shopee.vn/-Thanh-L%C3%BD-%C4%90i%E1%BB%87n-tho%E1%BA%A1i-Sony-Xperia-XZ-%C4%91%E1%BA%B9p-zin-ch%C3%ADp-snap-820-ch%E1%BB%91ng-n%C6%B0%E1%BB%9Bc-i.113506450.11316298680?position=807',\n",
       " 'https://shopee.vn/%C4%90i%E1%BB%87n-tho%E1%BA%A1i-5se-qu%E1%BB%91c-t%E1%BA%BF-b%E1%BB%99-nh%E1%BB%9B-16gb-32gb-full-box-5SE-%C4%91%E1%BA%B9p-keng-zin-i.523582419.12008942331?position=808',\n",
       " 'https://shopee.vn/%C4%91i%E1%BB%87n-tho%E1%BA%A1i-oppo-A83-c%C5%A9-%C4%91%E1%BA%B9p-r%E1%BA%BB-ch%E1%BA%A5t-l%C6%B0%E1%BB%A3ng-i.62637851.10401239304?position=809',\n",
       " 'https://shopee.vn/%C4%90i%E1%BB%87n-tho%E1%BA%A1i-LG-V40-M%E1%BB%B9-1-sim-ram-6gb-64gb-chip-845-chi%E1%BA%BFn-game-m%C6%B0%E1%BB%A3t-i.192933058.7539069839?position=810',\n",
       " 'https://shopee.vn/%C4%90I%E1%BB%86N-THO%E1%BA%A0I-LG-V50-RAM-6G.-B%E1%BB%98-NH%E1%BB%9A-128G-i.51995263.11345278660?position=811',\n",
       " 'https://shopee.vn/%C4%90i%E1%BB%87n-Tho%E1%BA%A1i-Vivo-Y1s-(2GB-32GB)-H%C3%A0ng-Ch%C3%ADnh-H%C3%A3ng-i.127416111.10418201753?position=812',\n",
       " 'https://shopee.vn/V%E1%BB%8F-N%E1%BA%AFp-l%C6%B0ng-Nokia-515-i.26132185.6641761113?position=813',\n",
       " 'https://shopee.vn/%C4%90i%E1%BB%87n-tho%E1%BA%A1i-Oppo-A5-(2018)-2sim-ram-3G-64G-m%E1%BB%9Bi-Ch%C3%ADnh-h%C3%A3ng-Chi%E1%BA%BFn-Game-PUBG-Free-Fire-m%C6%B0%E1%BB%9Bt-i.122206336.6066211396?position=814',\n",
       " 'https://shopee.vn/Nokia-N100-Zin-Ch%C3%ADnh-H%C3%A3ng-%C4%90%E1%BB%A7-Pin-S%E1%BA%A1c-B%E1%BA%A3o-H%C3%A0nh-12-Th%C3%A1ng-i.34655911.922066191?position=815',\n",
       " 'https://shopee.vn/Google-Pixel-4XL-%C4%90i%E1%BB%87n-Tho%E1%BA%A1i-GG-Chip-Snapdragon-855-Ram-6G-64GB-128GB.-Ch%C6%A1i-Game-T%E1%BB%91t-Qu%E1%BB%91c-T%E1%BA%BF-C%C5%A9-Gi%C3%A1-R%E1%BA%BB-Sonpixel.-i.49952348.7293096853?position=816',\n",
       " 'https://shopee.vn/Loa-ngo%C3%A0i-Redmi-6-redmi-6a-i.9370264.7802642252?position=817',\n",
       " 'https://shopee.vn/%C4%90i%E1%BB%87n-tho%E1%BA%A1i-Google-Pixel-4-i.26419149.11940206672?position=818',\n",
       " 'https://shopee.vn/%C4%90i%E1%BB%87n-tho%E1%BA%A1i-smartphone-c%E1%BB%8F-c%C3%A1c-lo%E1%BA%A1i-ch%C3%ADnh-h%C3%A3ng-i.18465803.5106263868?position=819',\n",
       " 'https://shopee.vn/M%C3%A0n-h%C3%ACnh-Nokia-6700c-zin-theo-m%C3%A1y-i.61343121.5709772149?position=820',\n",
       " 'https://shopee.vn/%C4%90i%E1%BB%87n-tho%E1%BA%A1i-Google-Pixel-3-ram4-64-chipS845-OLED-5.5-FullHD--i.192933058.3739591792?position=821',\n",
       " 'https://shopee.vn/%C4%90i%E1%BB%87n-tho%E1%BA%A1i-Google-Pixel-3XL-i.26419149.10809880210?position=822',\n",
       " 'https://shopee.vn/%C4%90i%E1%BB%87n-tho%E1%BA%A1i-Xiaomi-Redmi-Note-9-(4GB-128GB)-H%C3%A0ng-ch%C3%ADnh-h%C3%A3ng-i.331695868.6263022254?position=823',\n",
       " 'https://shopee.vn/%C4%91i%E1%BB%87n-tho%E1%BA%A1i-Samsung-j2-primer-G532-m%E1%BB%9Bi-98-99--i.116641859.6481850606?position=824',\n",
       " 'https://shopee.vn/%C4%90i%E1%BB%87n-Tho%E1%BA%A1i-Nokia-1202-H%C3%A0ng-Zin-Cty-K%C3%A8m-Pin-S%E1%BA%A1c-i.34655911.1803014605?position=825',\n",
       " 'https://shopee.vn/%C4%90i%E1%BB%87n-tho%E1%BA%A1i-Redmi-10-4GB-64GB-B%E1%BB%91n-camera-AI-50MP-M%C3%A0n-h%C3%ACnh-90Hz-FHD--i.191065034.13805166562?position=826',\n",
       " 'https://shopee.vn/%C4%90i%E1%BB%87n-tho%E1%BA%A1i-NOKIA-230-ch%C3%ADnh-h%C3%A3ng-m%C3%A0n-h%C3%ACnh-to-ph%C3%ADm-l%E1%BB%9Bn-2-sim-v%E1%BB%8F-nh%C3%B4m-b%E1%BB%81n-v%C3%B4-%C4%91%E1%BB%91i-i.50766183.7637743461?position=827',\n",
       " 'https://shopee.vn/V%E1%BB%8F-b%E1%BB%99-%C4%91i%E1%BB%87n-tho%E1%BA%A1i-samsung-A50-zin-new-h%C3%A3ng-i.36007605.11401372174?position=828',\n",
       " 'https://shopee.vn/%C4%90i%E1%BB%87n-tho%E1%BA%A1i-Google-Pixel-3a-i.26419149.8764207114?position=829',\n",
       " 'https://shopee.vn/khay-sim-Redmi-5-xiaomi-i.255112067.8349386797?position=830',\n",
       " 'https://shopee.vn/%C4%90i%E1%BB%87n-tho%E1%BA%A1i-Sony-XZ-Premium-zin-%C4%91%E1%BA%B9p-98--i.236893379.5042282539?position=831',\n",
       " 'https://shopee.vn/MAIN-IPHONE-4S-KH%C3%94NG-ICLOUD-FULL-CH%E1%BB%A8C-N%C4%82NG-i.286120765.11806929794?position=832',\n",
       " 'https://shopee.vn/Kem-%C4%91%C3%A1nh-b%C3%B3ng-vi%E1%BB%81n-kim-lo%E1%BA%A1i-%C4%91i%E1%BB%87n-tho%E1%BA%A1i-IPhone-X-Xs-Xsmax-11-11-pro-11-promax-i.21613238.8936645312?position=833',\n",
       " 'https://shopee.vn/-M%C3%A3-SKAMSALE10-gi%E1%BA%A3m-10-%C4%91%C6%A1n-200K-%C4%90i%E1%BB%87n-tho%E1%BA%A1i-Xiaomi-Redmi-10-(4GB-128GB)-H%C3%A0ng-Ch%C3%ADnh-H%C3%A3ng-i.40757878.11040421258?position=834',\n",
       " 'https://shopee.vn/%C4%90i%E1%BB%87n-tho%E1%BA%A1i-Google-pixel-3-XL-Snap-845-P-Oled-6.3%E2%80%99%E2%80%992k--i.30580603.9272613582?position=835',\n",
       " 'https://shopee.vn/%C4%90i%E1%BB%87n-tho%E1%BA%A1i-oppo-Neo-7-i.102503294.9859313346?position=836',\n",
       " 'https://shopee.vn/-nokia-100-%C4%91i%E1%BB%87n-tho%E1%BA%A1i-gi%C3%A1-r%E1%BA%BB-nokia-100-1sim-h%C3%A0ng-m%E1%BB%9Bi-c%C3%B4ng-ty-BH-1-th%C3%A1ng-i.134758432.7019380165?position=837',\n",
       " 'https://shopee.vn/%C4%90i%E1%BB%87n-tho%E1%BA%A1i-nokia-n2730-ch%C3%ADnh-h%C3%A3ng-k%C3%ADch-sim-chuy%C3%AAn-nghi%E1%BB%87p-nh%E1%BA%ADn-s%C3%B3ng-kh%C3%B4ng-c%E1%BA%A7n-t%E1%BA%AFt-ngu%E1%BB%93n-h%C3%A0ng-like-new-i.337486746.8333349322?position=838',\n",
       " 'https://shopee.vn/%C4%90i%E1%BB%87n-Tho%E1%BA%A1i-Nokia-C5-Ch%C3%ADnh-H%C3%A3ng-B%E1%BA%A3o-H%C3%A0nh-12-Th%C3%A1ng-B%E1%BB%81n-B%E1%BB%89-Loa-To-Ch%E1%BA%AFc-Ch%E1%BA%AFn-i.208445880.4754055404?position=839',\n",
       " 'https://shopee.vn/N%E1%BA%AFp-l%C6%B0ng-%C4%91t-Samsung-A01-i.418171915.9746343670?position=840',\n",
       " 'https://shopee.vn/Pop-%C4%91ie%CC%A3%CC%82n-thoa%CC%A3i-ke%CC%80m-gu%CC%9Bo%CC%9Bng-soi-2in1.-i.93113284.8689758157?position=841',\n",
       " 'https://shopee.vn/m%C3%A0n-h%C3%ACnh-oppo-A7-A5S-Realme-C3-2018-ZIN-i.244292162.8681051789?position=842',\n",
       " 'https://shopee.vn/%E2%98%8E%EF%B8%8F-M%C3%A1y-2-Sim-C%C3%B3-Ti%E1%BA%BFng-Vi%E1%BB%87t-%E2%98%8E%EF%B8%8F-%C4%90i%E1%BB%87n-Tho%E1%BA%A1i-B%C3%A0n-GSM-FWP-6588-L%E1%BA%AFp-M%E1%BB%8Di-Lo%E1%BA%A1i-Sim-Di-%C4%90%E1%BB%99ng-Gphone-HomePhone-i.183267859.6544249096?position=843',\n",
       " 'https://shopee.vn/Thanh-l%C3%BD-%C4%91i%E1%BB%87n-tho%E1%BA%A1i-iphone-5-Qu%E1%BB%91c-t%E1%BA%BF-ch%C3%ADnh-h%C3%A3ng-gi%C3%A1-si%C3%AAu-r%E1%BA%BB-duongbimbimm-i.203317301.13313336517?position=844',\n",
       " 'https://shopee.vn/%C4%90i%E1%BB%87n-tho%E1%BA%A1i-Realme-GT-Neo-Flash-Dimensity-1200-5G-pin-4500-s%E1%BA%A1c-nhanh-65W-(8-128GB)-H%C3%A0ng-nh%E1%BA%ADp-kh%E1%BA%A9u-i.52809472.12103484565?position=845',\n",
       " 'https://shopee.vn/%C4%90i%E1%BB%87n-tho%E1%BA%A1i-hello-kitty-2-sim-t%E1%BA%B7ng-k%C3%A8m-pin-d%E1%BB%85-th%C6%B0%C6%A1ng-i.95642495.11424637321?position=846',\n",
       " 'https://shopee.vn/N%E1%BA%AFp-l%C6%B0ng-%C4%91t-Samsung-A10S-i.418171915.4386373657?position=847',\n",
       " 'https://shopee.vn/%C4%90i%E1%BB%87n-Tho%E1%BA%A1i-Samsung-Galaxy-S10-M%E1%BB%B9-Snapdragon-855-Likenew-8-128GB-K%C3%A8m-%C4%91%E1%BB%A7-PK-T%E1%BA%A1i-Playmobile-i.118122501.7333314712?position=848',\n",
       " 'https://shopee.vn/%C4%91i%E1%BB%87n-tho%E1%BA%A1i-oppo-neo7-a33-m%E1%BB%9Bi-98-99--i.116641859.10331427214?position=849',\n",
       " 'https://shopee.vn/TU%C3%82N-H%C6%AFNG-Y%C3%8AN-CHU%E1%BA%A8N-UY-T%C3%8DN-%C4%90i%E1%BB%87n-Tho%E1%BA%A1i-Nokia-3100-Ch%C3%ADnh-H%C3%A3ng-B%E1%BA%A3o-H%C3%A0nh-12-Th%C3%A1ng-i.39720082.9650879867?position=850',\n",
       " 'https://shopee.vn/-M%C3%A3-SKAMSALE10-gi%E1%BA%A3m-10-%C4%91%C6%A1n-200K-%C4%90i%E1%BB%87n-tho%E1%BA%A1i-Nokia-105-4G-H%C3%A0ng-ch%C3%ADnh-h%C3%A3ng-i.40757878.9570495525?position=851',\n",
       " 'https://shopee.vn/Main-x%C3%A1c-iphone-7plus-intel-kh%C3%B4ng-%E1%BB%95-c%E1%BB%A9ng-i.179847411.5992935141?position=852',\n",
       " 'https://shopee.vn/N%E1%BA%AFp-l%C6%B0ng-LG-V40-i.120882864.5580165267?position=853',\n",
       " 'https://shopee.vn/%C4%90i%E1%BB%87n-tho%E1%BA%A1i-Nokia-215-4G-H%C3%A0ng-ch%C3%ADnh-h%C3%A3ng-b%E1%BA%A3o-h%C3%A0nh-12-th%C3%A1ng-i.27662376.3027835330?position=854',\n",
       " 'https://shopee.vn/%C4%91i%E1%BB%87n-tho%E1%BA%A1i-viettel-v6216-mastel-fami-11-d%C3%A0nh-cho-ng%C6%B0%E1%BB%9Di-gi%C3%A0-h%C3%A0ng-m%E1%BB%9Bi-ch%C3%ADnh-h%C3%A3ng-i.55871294.2530650228?position=855',\n",
       " 'https://shopee.vn/(R%E1%BA%BB-m%C3%A0-c%E1%BB%B1c-hay)-Tai-nghe-ch%C3%ADnh-h%C3%A3ng-s%E1%BB%AD-d%E1%BB%A5ng-%C4%91%C6%B0%E1%BB%A3c-cho-t%E1%BA%A5t-c%E1%BA%A3-%C4%91i%E1%BB%87n-tho%E1%BA%A1i-Android-i.223347616.8924693108?position=856',\n",
       " 'https://shopee.vn/N%E1%BA%AFp-l%C6%B0ng-Sony-Z5-5.2-i.418171915.11609830389?position=857',\n",
       " 'https://shopee.vn/%C4%90i%E1%BB%87n-tho%E1%BA%A1i-Google-Pixel-3a-xl-Fulbox-m%E1%BB%9Bi-100-Ch%E1%BA%A5t_Mobile462-i.440331344.11308574513?position=858',\n",
       " 'https://shopee.vn/%C4%90i%E1%BB%87n-tho%E1%BA%A1i-Nokia-105-Dual-Sim-2019-H%C3%A0ng-ch%C3%ADnh-h%C3%A3ng-i.331695868.7966374966?position=859',\n",
       " 'https://shopee.vn/m%C3%A0n-h%C3%ACnh-sam-sung-tab-A8.0-2019-T290-T295-ZIN-i.244292162.3394220204?position=860',\n",
       " 'https://shopee.vn/k%C3%ADnh-itel-s42-i.244292162.3181379494?position=861',\n",
       " 'https://shopee.vn/%C4%91i%E1%BB%87n-tho%E1%BA%A1i-Sam-Sung-J2-prime-(-T%E1%BA%B7ng-k%C3%A8m-th%E1%BA%BB-nh%E1%BB%9B-2-4-GB)-i.102503294.3489999450?position=862',\n",
       " 'https://shopee.vn/%C4%90i%E1%BB%87n-tho%E1%BA%A1i-samsung-galaxy-a22-R6-128g-gi%C3%A1-si%C3%AAu-r%E1%BA%BB-i.547519189.13016778912?position=863',\n",
       " 'https://shopee.vn/%C4%90i%E1%BB%87n-tho%E1%BA%A1i-oppo-a92-m%C3%A1y-m%E1%BB%9Bi-full-h%E1%BB%99p-i.547519189.11152924250?position=864',\n",
       " 'https://shopee.vn/%C4%90i%E1%BB%87m-tho%E1%BA%A1i-s%C3%A1mung-a22-si%C3%AAu-khuy%E1%BA%BFn-m%E1%BA%A1i-r%E1%BA%BB-nh%E1%BA%A5t-th%E1%BB%8B-tr%C6%B0%E1%BB%9Dng-ram6-128g-i.547519189.10352846889?position=865',\n",
       " 'https://shopee.vn/%C4%90I%E1%BB%86N-THO%E1%BA%A0I-NOKIA-110i-CH%C3%8DNH-H%C3%83NG-C%C5%A8-(99-)-dien-thoai-i.139525650.3260558315?position=866',\n",
       " 'https://shopee.vn/camera-sau-zin-b%C3%B3c-m%C3%A1y-6plus-6splus-%C4%91%E1%BA%B9p-kh%C3%B4ng-%C4%91%E1%BB%91m-i.466037297.9266641522?position=867',\n",
       " 'https://shopee.vn/%C4%90i%E1%BB%87n-tho%E1%BA%A1i-Energizer-E20-B%C3%A0n-Ph%C3%ADm-L%E1%BB%9Bn-H%C3%A0ng-Ch%C3%ADnh-H%C3%A3ng-B%E1%BA%A3o-H%C3%A0nh-12-Th%C3%A1ng-i.27391944.9089326122?position=868',\n",
       " 'https://shopee.vn/Main-Nokia-1280-H%C3%A0ng-Ch%C3%ADnh-H%C3%A3ng-100--i.50369985.9349261935?position=869',\n",
       " 'https://shopee.vn/K%C3%ADnh-Xiaomi-Redmi-8-Redmi-8A-%C4%90EN-i.111078417.7659184135?position=870',\n",
       " 'https://shopee.vn/M%E1%BA%B7t-l%C6%B0ng-k%C3%ADnh-V60-thinQ-5G-i.18675087.3797167616?position=871',\n",
       " 'https://shopee.vn/C%E1%BA%A3m-%E1%BB%A9ng-Nokia-2.2-(2GB-16GB)-2019-%C4%90EN-i.111078417.7777640471?position=872',\n",
       " 'https://shopee.vn/%C4%90i%E1%BB%87n-tho%E1%BA%A1i-mini-i8-si%C3%AAu-nh%E1%BB%8F-thi%E1%BA%BFt-k%E1%BA%BF-gi%E1%BB%91ng-iPhone-X-i.19373145.6520926795?position=873',\n",
       " 'https://shopee.vn/%C4%90I%E1%BB%86N-THO%E1%BA%A0I-%F0%9D%90%8D%F0%9D%90%8E%F0%9D%90%8A%F0%9D%90%88%F0%9D%90%80-%F0%9D%9F%8F%F0%9D%9F%90%F0%9D%9F%96%F0%9D%9F%8E-H%C3%A0ng-M%E1%BB%9Bi-Khuy%E1%BB%85n-M%C3%A3i-B%E1%BA%A3o-h%C3%A0nh-12-Th%C3%A1ng-Ph%E1%BB%A5-Ki%E1%BB%87n-M%C3%A1y-S%E1%BA%A1c-Pin-i.213974076.4086667058?position=874',\n",
       " 'https://shopee.vn/%C4%90i%E1%BB%87n-tho%E1%BA%A1i-b%C3%A0n-VOIP-Cisco-7911-c%C5%A9-thanh-l%C3%BD-v%C4%83n-ph%C3%B2ng-i.117484484.8444891151?position=875',\n",
       " 'https://shopee.vn/%C4%90i%E1%BB%87n-tho%E1%BA%A1i-c%C5%A9-samsung-j7-prime-ram-3g-t%E1%BA%B7ng-k%C3%A8m-%E1%BB%91p-v%C3%A0-d%C3%A1n-c%C6%B0%E1%BB%9Dng-l%E1%BB%B1c-i.178181467.13909726900?position=876',\n",
       " 'https://shopee.vn/%C4%90i%E1%BB%87n-tho%E1%BA%A1i-Xiaomi-Redmi-10-Ha%CC%80ng-Chi%CC%81nh-Ha%CC%83ng-Digiworld-M%C6%A1%CC%81i-100-!-i.281825590.12705059705?position=877',\n",
       " 'https://shopee.vn/nokia-5300-Huy%E1%BB%81n-Tho%E1%BA%A1i-i.252305352.12113361839?position=878',\n",
       " 'https://shopee.vn/%C4%90i%E1%BB%87n-tho%E1%BA%A1i-Xiaomi-Redmi-Note-9-Pro-ch%C3%ADnh-h%C3%A3ng-DGW-%C4%91%C3%A3-k%C3%ADch-ho%E1%BA%A1t-%C4%91%E1%BB%A7-h%E1%BB%99p-ph%E1%BB%A5-ki%E1%BB%87n-Snap-720-T%E1%BA%B7ng-b%E1%BA%A3o-h%C3%A0nh-VIP-6-th%C3%A1ng-i.440881187.10440921127?position=879',\n",
       " 'https://shopee.vn/Main-%C4%91i%E1%BB%87n-tho%E1%BA%A1i-iPhone-5s-16G-d%C3%ADnh-icloud-i.370558998.9985224703?position=880',\n",
       " 'https://shopee.vn/thiet-bi-dien-tu-cho-me-i.372168486.9921104640?position=881',\n",
       " 'https://shopee.vn/(C%C3%B3-Pin-S%E1%BA%A1c)Nokia-1280-Zin-Ch%C3%ADnh-H%C3%A3ng-L%C3%AAn-S%C6%B0%E1%BB%9Dn-V%E1%BB%8F-Trong-Su%E1%BB%91t-i.34655911.8618964400?position=882',\n",
       " 'https://shopee.vn/%C4%90i%E1%BB%87n-tho%E1%BA%A1i-Samsung-Galaxy-A01-Core-(32GB-2GB)-i.17904754.8266961165?position=883',\n",
       " 'https://shopee.vn/V%E1%BB%8F-%C4%91t-Samsung-A12-i.418171915.7888234113?position=884',\n",
       " 'https://shopee.vn/V%E1%BB%8F-Xiaomi-Redmi-6-Pro-Mi-A2-lite-i.238798148.4023823598?position=885',\n",
       " 'https://shopee.vn/-M%C3%81Y-H%C3%83NG-%C4%91i%E1%BB%87n-tho%E1%BA%A1i-Oppo-F9-Pro-2sim-ram-6G-b%E1%BB%99-nh%E1%BB%9B-128G-m%E1%BB%9Bi-M%C3%A0n-h%C3%ACnh-gi%E1%BB%8Dt-n%C6%B0%E1%BB%9Bc-th%E1%BB%9Di-th%C6%B0%E1%BB%A3ng-i.122206336.3627458192?position=886',\n",
       " 'https://shopee.vn/%C4%90i%E1%BB%87n-Tho%E1%BA%A1i-LG-v50ThinQ-Rom-6-b%E1%BB%99-nh%E1%BB%9B-128gb-gi%E1%BA%A3i-tr%C3%AD-c%E1%BB%B1c-%C4%91%E1%BB%89nh-i.273958284.2987118488?position=887',\n",
       " 'https://shopee.vn/%C4%90i%E1%BB%87n-tho%E1%BA%A1i-Vsmart-Star-4-ch%C3%ADnh-h%C3%A3ng-%C4%91%C3%A3-k%C3%ADch-ho%E1%BA%A1t-Ram-3GB-B%E1%BB%99-Nh%E1%BB%9B-32GB-2-Sim-Pin-3500-mAh-i.392827317.11851250152?position=888',\n",
       " 'https://shopee.vn/-Ai-ph%C3%B4n-4-IP4-%C4%90i%E1%BB%87n-tho%E1%BA%A1i-c%C5%A9-gi%C3%A1-r%E1%BA%BB-Phone-4-Qu%E1%BB%91c-t%E1%BA%BF-nghe-g%E1%BB%8Di-fb-zalo-mess-t%E1%BA%B7ng-k%C3%A8m-d%C3%A2y-s%E1%BA%A1c-i.203317301.13012596924?position=889',\n",
       " 'https://shopee.vn/%C4%90I%E1%BB%86N-THO%E1%BA%A0I-NOKIA-1200-ch%C3%ADnh-h%C3%A3ng-99-ch%E1%BB%89-d%C3%B9ng-sim-viettel-pin-s%E1%BA%A1c-i.200312728.8483812945?position=890',\n",
       " 'https://shopee.vn/%C4%90I%E1%BB%86N-THO%E1%BA%A0I-DI-%C4%90%E1%BB%98NG-SAMSUNG-GT-C3520-%C4%90I%E1%BB%86N-THO%E1%BA%A0I-G%E1%BA%ACP-CHO-NG%C6%AF%E1%BB%9CI-GI%C3%80-i.127150525.8123232236?position=891',\n",
       " 'https://shopee.vn/%C4%90i%E1%BB%87n-tho%E1%BA%A1i-mini-Si%C3%AAu-Nh%E1%BB%8F-B3310-02-sim-02-s%C3%B3ng-ONLINE-g%E1%BA%AFn-%C4%91%C6%B0%E1%BB%A3c-th%E1%BA%BB-8G.-i.154547767.5136186392?position=892',\n",
       " 'https://shopee.vn/boroo97-(A534)-%C4%90i%E1%BB%87n-tho%E1%BA%A1i-xiaomi-c%C5%A9-_nana-beanna-i.452968860.10907408017?position=893',\n",
       " 'https://shopee.vn/X%E1%BA%A2-KHO-%C4%90i%E1%BB%87n-tho%E1%BA%A1i-k7-ki%E1%BB%83u-d%C3%A1ng-sang-tr%E1%BB%8Dng-Full-Box-i.438887870.9152269156?position=894',\n",
       " 'https://shopee.vn/K%E1%BB%87-D%C3%A1n-T%C6%B0%E1%BB%9Dng-Gi%C3%A1-%C4%90%E1%BB%A1-S%E1%BA%A1c-%C4%90i%E1%BB%87n-Tho%E1%BA%A1i-C%C3%B3-M%C3%B3c-Treo-Gi%E1%BB%AF-D%C3%A2y-%C4%90i%E1%BB%87n-i.35710724.6892365122?position=895',\n",
       " 'https://shopee.vn/%C4%90i%E1%BB%87n-tho%E1%BA%A1i-Google-nexus-5x-32G-i.310036275.6391076997?position=896',\n",
       " 'https://shopee.vn/%C4%90i%E1%BB%87n-tho%E1%BA%A1i-NOKIA-105-(2019)-H%C3%A0ng-C%C5%A9-Ch%C3%ADnh-H%C3%A3ng-Thay-M%E1%BB%9Bi-i.34655911.5890157239?position=897',\n",
       " 'https://shopee.vn/-SALE-R%E1%BA%BA-V%C3%94-%C4%90%E1%BB%8ACH-%C4%91i%E1%BB%87n-tho%E1%BA%A1i-Xiaomi-Mi-A1-Xiaomi-A1-2sim-ram-4G-64G-m%E1%BB%9Bi-zin-CH%C3%8DNH-H%C3%83NG-B%E1%BA%A3o-h%C3%A0nh-12-th%C3%A1ng-i.122206336.3990191179?position=898',\n",
       " 'https://shopee.vn/%C4%90i%E1%BB%87n-Tho%E1%BA%A1i-SamSung-Galaxy-J7-Prime-2sim-(3GB-32GB)-Ch%C6%A1i-Li%C3%AAn-Qu%C3%A2n-T%E1%BB%91t-i.122206336.6466228896?position=899',\n",
       " 'https://shopee.vn/%C4%90i%E1%BB%87n-tho%E1%BA%A1i-SONY-XPERIA-XZ1-ram-4G-b%E1%BB%99-nh%E1%BB%9B-64G-m%E1%BB%9Bi-ch%C6%A1i-game-m%C6%B0%E1%BB%A3t-i.122206336.8900794688?position=900',\n",
       " 'https://shopee.vn/-M%C3%81Y-H%C3%83NG-%C4%91i%E1%BB%87n-tho%E1%BA%A1i-Xiaomi-Redmi-Note-5-Pro-2sim-ram-4G-64G-c%C3%B3-Ti%E1%BA%BFng-Vi%E1%BB%87t-Ch%C3%ADnh-H%C3%A3ng-i.122206336.7237648731?position=902',\n",
       " 'https://shopee.vn/-SALE-GI%C3%81-R%E1%BA%BA-S%E1%BB%90C-%C4%91i%E1%BB%87n-tho%E1%BA%A1i-Xiaomi-Redmi-4X-2sim-ram-2G-32G-m%E1%BB%9Bi-Ch%C3%ADnh-H%C3%A3ng-C%C3%B3-Ti%E1%BA%BFng-Vi%E1%BB%87t-i.122206336.4637726016?position=903',\n",
       " 'https://shopee.vn/%C4%91i%E1%BB%87n-tho%E1%BA%A1i-Sony-Xperia-Z5-Premium-ram-3G-32G-m%E1%BB%9Bi-Ch%C3%ADnh-h%C3%A3ng-Ch%C6%A1i-Game-m%C6%B0%E1%BB%A3t-i.122206336.6536435779?position=904',\n",
       " 'https://shopee.vn/%C4%90I%E1%BB%86N-THO%E1%BA%A0I-OPPO-A37-(OPPO-NEO-9)-2SIM-%C4%90%E1%BA%B8P-12-TH%C3%81NG-B%E1%BA%A2O-H%C3%80NH-i.122206336.2018966713?position=905',\n",
       " 'https://shopee.vn/Apple-iPhone-12-Pro-256GB-i.88201679.3760839244?position=906',\n",
       " 'https://shopee.vn/%C4%90i%E1%BB%87n-tho%E1%BA%A1i-Vsmart-Joy-4-(3GB-64GB)-H%C3%A0ng-ch%C3%ADnh-h%C3%A3ng-i.331695868.6062559043?position=907',\n",
       " 'https://shopee.vn/%C4%90i%E1%BB%87n-Tho%E1%BA%A1i-Ph%E1%BB%95-Th%C3%B4ng-Coolpad-Gi%C3%A1-R%E1%BA%BB-2-Sim-%C4%90i%E1%BB%87n-Tho%E1%BA%A1i-Di-%C4%90%E1%BB%99ng-F110-BH-1-n%C4%83m-1-%C4%91%E1%BB%95i-1-H%C3%A0ng-Ch%C3%ADnh-H%C3%A3ng-i.185917181.4921864728?position=908',\n",
       " 'https://shopee.vn/%C4%91i%E1%BB%87n-tho%E1%BA%A1i-Samsung-J6-Samsung-Galaxy-J6-2018-2sim-(3GB-32GB)-Ch%C3%ADnh-h%C3%A3ng-m%E1%BB%9Bi-Chi%E1%BA%BFn-Game-m%C6%B0%E1%BB%A3t-i.122206336.6666221669?position=909',\n",
       " 'https://shopee.vn/X%E1%BA%A3-kho-TRIPOD-C%C3%A2y-livestream-quay-video-t.i.k-t.o.k-%C4%91i%E1%BB%87n-tho%E1%BA%A1i-k%E1%BA%B9p-%C4%91i%E1%BB%87n-tho%E1%BA%A1i-qua-ngang-d%E1%BB%8Dc-%C4%91i%E1%BB%87n-tho%E1%BA%A1i-tho%E1%BA%A3i-m%C3%A1i-i.42535231.6610199340?position=910',\n",
       " 'https://shopee.vn/%C4%90i%E1%BB%87n-Tho%E1%BA%A1i-Ng%C6%B0%E1%BB%9Di-Gi%C3%A0-Masstel-Fami-11-Ch%E1%BB%AF-To-H%C3%A0ng-Ch%C3%ADnh-H%C3%A3ng-i.14947974.3301722430?position=911',\n",
       " 'https://shopee.vn/%C4%90i%E1%BB%87n-Tho%E1%BA%A1i-Xiaomi-3W-C%E1%BA%A3m-%E1%BB%A8ng-5inch-Ram-2G-B%E1%BB%99-Nh%E1%BB%9B-16G-Androi-6.0.1-T%E1%BA%A3i-Game-%E1%BB%A8ng-D%E1%BB%A5ng-Tho%E1%BA%A3i-M%C3%A1i-i.70094786.5060715073?position=912',\n",
       " 'https://shopee.vn/%C4%90i%E1%BB%87n-Tho%E1%BA%A1i-Nokia-105-Zin-Ngon-B%E1%BB%95-R%E1%BA%BB-i.251968365.3957493945?position=913',\n",
       " 'https://shopee.vn/-SI%C3%8AU-SALE-GI%C3%81-S%E1%BB%90C-%C4%91i%E1%BB%87n-tho%E1%BA%A1i-Xiaomi-Redmi-2-16G-Ch%C3%ADnh-h%C3%A3ng-2sim-Ch%C6%A1i-TiKtok-zalo-Fb-Youtube-m%C6%B0%E1%BB%A3t-i.122206336.8000793057?position=914',\n",
       " 'https://shopee.vn/%C4%91i%E1%BB%87n-tho%E1%BA%A1i-Sony-Xperia-Z3-ram-3G-32G-m%E1%BB%9Bi-Ch%C6%A1i-Game-n%E1%BA%B7ng-m%C6%B0%E1%BB%A3t-i.122206336.4536432066?position=915',\n",
       " 'https://shopee.vn/%C4%91i%E1%BB%87n-tho%E1%BA%A1i-Sony-Xperia-Xzs-ram-4G-64G-m%E1%BB%9Bi-Ch%C3%ADnh-H%C3%A3ng-chi%E1%BA%BFn-game-si%C3%AAu-m%C6%B0%E1%BB%A3t-i.11171175.5450528592?position=916',\n",
       " 'https://shopee.vn/%C4%91i%E1%BB%87n-tho%E1%BA%A1i-Xiaomi-Redmi-Note-2-2sim-Ram-2G-16G-m%E1%BB%9Bi-Ch%C3%ADnh-h%C3%A3ng-ch%C6%A1i-game-m%C6%B0%E1%BB%A3t-i.122206336.8800790796?position=917',\n",
       " 'https://shopee.vn/Chuy%C3%AAn-s%E1%BB%89-H%C3%80NG-CH%C3%8DNH-H%C3%83NG-%C4%90i%E1%BB%87n-tho%E1%BA%A1i-1280-%C4%91%E1%BA%A7y-%C4%91%E1%BB%A7-ph%E1%BB%A5-ki%E1%BB%87n-i.361316234.7571507026?position=918',\n",
       " 'https://shopee.vn/%C4%90i%E1%BB%87n-Tho%E1%BA%A1i-Xiaomi-Redmi-6A-Ram-3GB-b%E1%BB%99-nh%E1%BB%9B-32GB-m%C3%A1y-%C4%91%E1%BA%B9p-97-ch%C6%A1i-game-li%C3%AAn-qu%C3%A2n-freefire-m%C6%B0%E1%BB%A3t-i.214979459.3916459690?position=919',\n",
       " 'https://shopee.vn/%C4%90i%E1%BB%87n-Tho%E1%BA%A1i-Samsung-Galaxy-J7-Prime-Ram-3GB-B%E1%BB%99-nh%E1%BB%9B-32GB-Ch%C3%ADnh-H%C3%A3ng-m%E1%BB%9Bi-%C4%91%E1%BA%B9p-keng-ch%C6%A1i-game-pubg-li%C3%AAn-qu%C3%A2n-freefire-m%C6%B0%E1%BB%A3t-i.214979459.4343867295?position=920',\n",
       " 'https://shopee.vn/%C4%90i%E1%BB%87n-tho%E1%BA%A1i-Samsung-Galaxy-S21-Ultra-5G-H%C3%A0ng-ch%C3%ADnh-h%C3%A3ng-i.13442962.8115986306?position=921',\n",
       " 'https://shopee.vn/-H%C3%A0ng-ch%C3%ADnh-h%C3%A3ng-%C4%90i%E1%BB%87n-tho%E1%BA%A1i-Nokia-105-(2017)-1-sim-4-ng%C3%A0y-ch%C6%B0a-s%E1%BA%A1c-b%E1%BA%A3o-h%C3%A0nh-6-th%C3%A1ng-i.158663650.4260080516?position=922',\n",
       " 'https://shopee.vn/%C4%90i%E1%BB%87n-Tho%E1%BA%A1i-Nokia-105-Zin-Ch%C3%ADnh-H%C3%A3ng-1-Sim-Like-New(-K%C3%A8m-Pin-S%E1%BA%A1c)-i.1657913.921565896?position=923',\n",
       " 'https://shopee.vn/%C4%90i%E1%BB%87n-Tho%E1%BA%A1i-Vsmart-Star-5-3GB-32GB-H%C3%A0ng-Ch%C3%ADnh-H%C3%A3ng-i.193124085.7983268623?position=924',\n",
       " 'https://shopee.vn/%C4%91i%E1%BB%87n-tho%E1%BA%A1i-Samsung-Galaxy-J7-Prime-2sim-ram-3G-32G-m%E1%BB%9Bi-Ch%C3%ADnh-h%C3%A3ng-ch%C6%A1i-Game-PUBG-FREE-FIRE-m%C6%B0%E1%BB%A3t-i.11171175.4848288382?position=925',\n",
       " 'https://shopee.vn/%C4%90i%E1%BB%87n-tho%E1%BA%A1i-Xiaomi-Redmi-Note-5-Pro-2sim-Ram-4G-64G-Ch%C3%ADnh-h%C3%A3ng-m%E1%BB%9Bi-C%C3%B3-Ti%E1%BA%BFng-Vi%E1%BB%87t-Chi%E1%BA%BFn-PUBG-Li%C3%AAn-Qu%C3%A2n-%C4%91%E1%BB%89nh-i.122206336.5366221261?position=926',\n",
       " 'https://shopee.vn/%C4%90i%E1%BB%87n-tho%E1%BA%A1i-Xiaomi-Redmi-Note-5-Pro-c%C3%B3-Ti%E1%BA%BFng-Vi%E1%BB%87t-Snap-636-M%C3%A0n-6-inch-i.49282974.2331009681?position=927',\n",
       " 'https://shopee.vn/%C4%90i%E1%BB%87n-tho%E1%BA%A1i-OPPO-F9-ram-6g-b%E1%BB%99-nh%E1%BB%9B-128g-ch%C6%A1i-game-n%E1%BA%B7ng-tho%E1%BA%A3i-m%C3%A1i-h%C3%A0ng-ch%C3%ADnh-h%C3%A3ng-i.456926161.8962065846?position=928',\n",
       " 'https://shopee.vn/%C4%90i%E1%BB%87n-Tho%E1%BA%A1i-Forme-Gorilla-H%C3%A0ng-Ch%C3%ADnh-H%C3%A3ng-i.193124085.3809460012?position=929',\n",
       " 'https://shopee.vn/s%E1%BA%A3n-ph%E1%BA%A9m-kh%C3%A1ch-ch%E1%BB%8Dn-live-A360-i.19313658.5682571849?position=930',\n",
       " 'https://shopee.vn/%C4%90i%E1%BB%87n-Tho%E1%BA%A1i-Mini-G%C3%ADa-Si%C3%AAu-R%E1%BA%BB-Si%C3%AAu-Nh%E1%BB%8F-Dung-L%C6%B0%E1%BB%A3ng-Kh%E1%BB%A7ng-2-Sim-2-S%C3%B3ng-S%C3%B3ng-Kh%E1%BB%8Fe-Loa-To-MP3-Th%E1%BA%BB-Nh%E1%BB%9B-SD-Gi%E1%BA%A3-Gi%E1%BB%8Dng-N%C3%B3i-i.40885950.7579811427?position=931',\n",
       " 'https://shopee.vn/-Ch%C3%ADnh-h%C3%A3ng-100-Nokia-6700-%C4%90i%E1%BB%87n-Tho%E1%BA%A1i-Nokia-6700-Gold-Zin-Tr%C3%B9ng-Imel-Ch%C3%ADnh-H%C3%A3ng-B%E1%BA%A3o-H%C3%A0nh-12-Th%C3%A1ng-i.116554044.6991006161?position=932',\n",
       " 'https://shopee.vn/%C4%91i%E1%BB%87n-tho%E1%BA%A1i-Oppo-A9-(2020)-2sim-Ram-8G-128G-m%E1%BB%9Bi-Ch%C3%ADnh-H%C3%A3ng-Fullbox-i.122206336.8200791097?position=933',\n",
       " 'https://shopee.vn/-B%C3%A1n-l%E1%BA%BB-Gi%C3%A1-S%E1%BB%89-%C4%91i%E1%BB%87n-tho%E1%BA%A1i-Xiaomi-Redmi-7a-Xiaomi-7-a-2sim-32G-m%E1%BB%9Bi-Ch%C3%ADnh-H%C3%A3ng-pin-4000mah-co-Ti%E1%BA%BFng-Vi%E1%BB%87t-i.11171175.4452186919?position=934',\n",
       " 'https://shopee.vn/%C4%90I%E1%BB%86N-THO%E1%BA%A0I-SAMSUNG-GALAXY-NOTE-20-ULTRA-NOTE-20-ULTRA-5G-CH%C3%8DNH-H%C3%83NG-NGUY%C3%8AN-SEAL--i.48406301.6751782083?position=935',\n",
       " 'https://shopee.vn/%C4%90i%E1%BB%87n-Tho%E1%BA%A1i-Masstel-Fami-12-Cho-Ng%C6%B0%E1%BB%9Di-Gi%C3%A0-LOA-TO-B%C3%80N-PH%C3%8DM-L%E1%BB%9AN-i.105396579.2232906539?position=936',\n",
       " 'https://shopee.vn/Ph%C3%ADm-N%C3%BAt-Volume-c%E1%BB%A7a-%C4%91i%E1%BB%87n-tho%E1%BA%A1i-Samsung-Galaxy-Note-8-i.40711448.1938480958?position=937',\n",
       " 'https://shopee.vn/%C4%90i%E1%BB%87n-Tho%E1%BA%A1i-Forme-D555-H%C3%A0ng-Ch%C3%ADnh-H%C3%A3ng-i.193124085.4609364862?position=938',\n",
       " 'https://shopee.vn/-S%E1%BA%B4N-Vsmart-Aris-Pro-Nguy%C3%AAn-Tem-M%E1%BB%9Bi-100-B%E1%BA%A3o-H%C3%A0nh-Ch%C3%ADnh-H%C3%A3ng-Vsmart-i.313858795.4491840321?position=939',\n",
       " 'https://shopee.vn/-NGUY%C3%8AN-SEAL-%C4%90i%E1%BB%87n-Tho%E1%BA%A1i-Samsung-Galaxy-M51-%E2%9C%85Ram-8GB-%E2%9C%85B%E1%BB%99-Nh%E1%BB%9B-128-Gb-H%C3%A0ng-Ch%C3%ADnh-H%C3%A3ng-i.125969601.8103129813?position=940',\n",
       " 'https://shopee.vn/%C4%90i%E1%BB%87n-Tho%E1%BA%A1i-Nokia-105-Zin-Ch%C3%ADnh-H%C3%A3ng-1-Sim-BH-12-Th%C3%A1ng-i.1657913.1634790028?position=941',\n",
       " 'https://shopee.vn/%E1%BB%90p-l%C6%B0ng-Nokia-8.1(Nokia-X7)-Nokia-5.1-Plus(Nokia-X5)-Nokia-6.1-Plus(Nokia-X6)-Nokia-5.3-7.2-3.2-2.2-2.3-8.3-N020-i.27110957.7932668613?position=942',\n",
       " 'https://shopee.vn/%C4%90i%E1%BB%87n-tho%E1%BA%A1i-Nokia-1280-ch%C3%ADnh-h%C3%A3ng-%E2%80%93-BH-12-th%C3%A1ng-i.40436694.7241121932?position=943',\n",
       " 'https://shopee.vn/M%C3%A1y-%C4%91i%E1%BB%87n-tho%E1%BA%A1i-b%C3%A0n-ph%C3%ADm-si%C3%AAu-h%C3%B3t-i.50817933.2320475201?position=944',\n",
       " 'https://shopee.vn/%C4%91i%E1%BB%87n-tho%E1%BA%A1i-Sony-Xperia-XZ-32G-Ch%C3%ADnh-H%C3%A3ng-V%E1%BB%8F-Nh%C3%B4m-nguy%C3%AAn-kh%E1%BB%91i-i.122206336.6036442495?position=945',\n",
       " 'https://shopee.vn/-ch%C6%A1i-PUBG-FREE-FIRE-%C4%91i%E1%BB%87n-tho%E1%BA%A1i-Xiaomi-Redmi-2-a-(-Xiaomi-Redmi-2A-)-2G-32G-Zalo-Tiktok-Youtube-FB-ok-i.11171175.3586373536?position=946',\n",
       " 'https://shopee.vn/Pin-%C4%91i%E1%BB%87n-tho%E1%BA%A1i-Google-Pixel-Pixel-XL-zin-ch%C3%ADnh-h%C3%A3ng-i.8940655.4724084697?position=947',\n",
       " 'https://shopee.vn/-B%C3%81N-L%E1%BA%BA-GI%C3%81-S%E1%BB%88-%C4%91i%E1%BB%87n-tho%E1%BA%A1i-Samsung-S9-Samsung-Galaxy-S9-m%E1%BB%9Bi-(4GB-64GB)-zin-Camera-si%C3%AAu-n%C3%A9t-chi%E1%BA%BFn-Game-n%E1%BA%B7ng-i.122206336.7067407657?position=948',\n",
       " 'https://shopee.vn/V%E1%BB%89-l%C3%A0m-ch%C3%A2n-IC-%C4%91i%E1%BB%87n-tho%E1%BA%A1i-iphone-6Plus-i.36145420.942751352?position=949',\n",
       " 'https://shopee.vn/Bao-da-%C4%91i%E1%BB%87n-Samsung-A51-A71-M51-hi%E1%BB%87u-Dux-Ducis-h%C3%A0ng-chu%E1%BA%A9n-Full-Box-i.121025552.3576187473?position=950',\n",
       " 'https://shopee.vn/%C4%90i%E1%BB%87n-Tho%E1%BA%A1i-Sony-Xperia-XZ2-Nh%E1%BA%ADt-%C4%90%E1%BB%A7-m%C3%A0u-zin-%C3%A1p-%C4%91%E1%BA%B9p-99--i.41470347.8731050989?position=951',\n",
       " 'https://shopee.vn/%C4%91i%E1%BB%87n-tho%E1%BA%A1i-oppo-neo-9(a37)-v%E1%BB%A1-m%C3%A0n-main-zin-full-i.380870585.9012354591?position=952',\n",
       " 'https://shopee.vn/%C4%91i%E1%BB%87n-tho%E1%BA%A1i-Oppo-Neo-7-A33-Ch%C3%ADnh-h%C3%A3ng-ram-2G-16G-2sim-chi%E1%BA%BFn-PUBG-Free-Fire-Tiktok-FB-Zalo-Youtube-ngon-i.11171175.5851393409?position=953',\n",
       " 'https://shopee.vn/%C4%90i%E1%BB%87n-tho%E1%BA%A1i-di-%C4%91%E1%BB%99ng-Samsung-Galaxy-S20-FE-8G-256G-Snapdragon-865-H%C3%A0ng-ch%C3%ADnh-h%C3%A3ng-i.23597245.10115559668?position=954',\n",
       " 'https://shopee.vn/-6310i-Zin-Tr%C3%B9ng-Imel-_-Nokia-6310i_%C4%90i%E1%BB%87n-Tho%E1%BA%A1i-6310i-nokia-mercedes-benz-zin-Ch%C3%ADnh-H%C3%A3ng-B%E1%BA%A3o-H%C3%A0nh-12-Th%C3%A1ng-i.116554044.6443211248?position=955',\n",
       " 'https://shopee.vn/%C4%90i%E1%BB%87n-tho%E1%BA%A1i-Xiaomi-Redmi-6A-2-sim-chi%E1%BA%BFn-game-%E1%BB%95n-i.204574220.4881582573?position=956',\n",
       " 'https://shopee.vn/-GI%C3%81-T%E1%BB%90T-%C4%90i%E1%BB%87n-tho%E1%BA%A1i-V12-V13-4-sim-ch%C3%ADnh-h%C3%A3ng-i.25826246.432966651?position=957',\n",
       " 'https://shopee.vn/%C4%91i%E1%BB%87n-tho%E1%BA%A1i-Oppo-A33-Neo-7-2sim-ram-2G-b%E1%BB%99-nh%E1%BB%9B-16G-m%E1%BB%9Bi-Ch%C3%ADnh-h%C3%A3ng-c%C3%B3-h%E1%BB%97-tr%E1%BB%A3-m%E1%BA%A1ng-4G-LTE-i.11171175.4351114103?position=958',\n",
       " 'https://shopee.vn/%C4%90i%E1%BB%87n-Tho%E1%BA%A1i-MiNi-BM10-Si%C3%AAu-Nh%E1%BB%8F-S%E1%BB%AD-D%E1%BB%A5ng-2sim-c%C3%B3-bluetooth-i.403479834.4981993424?position=959',\n",
       " 'https://shopee.vn/%C4%90i%E1%BB%87n-Tho%E1%BA%A1i-Samsung-A32-6GB-128GB-H%C3%A0ng-Ch%C3%ADnh-H%C3%A3ng-i.193124085.4481685586?position=960',\n",
       " 'https://shopee.vn/%C4%90i%E1%BB%87n-Tho%E1%BA%A1i-Galaxy-Note9-2-sim-Ram6Gb-B%E1%BB%99-nh%E1%BB%9B-128Gb-Samsung-Note-9-c%E1%BA%A5u-h%C3%ACnh-cao-chi%E1%BA%BFn-i.189268414.3892000527?position=961',\n",
       " 'https://shopee.vn/N%E1%BA%AFp-l%C6%B0ng-Nokia-6.1-plus-Nokia-X6-2018-i.183997654.3800627616?position=962',\n",
       " 'https://shopee.vn/-R%E1%BA%BB-V%C3%B4-%C4%90%E1%BB%8Bch-%C4%90i%E1%BB%87n-tho%E1%BA%A1i-Pixel-3-B%E1%BA%A3n-64-128G-Snapdragon-845-Vua-Camera-H%C3%A0ng-%C4%90%E1%BA%B9p-98-99--i.236893379.6835816940?position=963',\n",
       " 'https://shopee.vn/%C4%90i%E1%BB%87n-tho%E1%BA%A1i-Samsung-Galaxy-Note8-2-sim-m%E1%BB%9Bi-99-Samsung-Note-8-2-Sim-chip-r%E1%BB%93ng-S835-c%E1%BB%B1c-i.189268414.3917118228?position=964',\n",
       " 'https://shopee.vn/Goolge-Pixel-3XL-Zin-%C4%90%E1%BA%B9p-Gi%C3%A1-M%E1%BB%81m-i.143976140.5439805882?position=965',\n",
       " 'https://shopee.vn/%E2%9D%A4%EF%B8%8F-%C4%90i%E1%BB%87n-Tho%E1%BA%A1i-B%C3%A0n-Kh%C3%B4ng-D%C3%A2y-X%C3%A0i-Sim-G%E1%BA%AFn-Sim-L%E1%BA%AFp-M%E1%BB%8Di-Lo%E1%BA%A1i-Sim-Di-%C4%90%E1%BB%99ng-GPhone-HomePhone-Huawei-ETS-3125i.-i.262019776.4233816639?position=966',\n",
       " 'https://shopee.vn/%C4%90i%E1%BB%87n-tho%E1%BA%A1i-Realme-C15-(4GB-64GB)-H%C3%A0ng-ch%C3%ADnh-h%C3%A3ng-i.331695868.6463809806?position=967',\n",
       " 'https://shopee.vn/%C4%90i%E1%BB%87n-tho%E1%BA%A1i-Nokia-150-2-sim-(-c%C5%A9-99-h%C3%A0ng-Cty-ch%C3%ADnh-h%C3%A3ng-)-i.96292182.5047074967?position=968',\n",
       " 'https://shopee.vn/%C4%90I%E1%BB%86N-THO%E1%BA%A0I-NG%C6%AF%E1%BB%9CI-GI%C3%80-Nokia-1280-Zin-Ch%C3%ADnh-H%C3%A3ng-%C4%90%E1%BB%A7-Pin-S%E1%BA%A1c-H%C3%80NG-NOKIA-CH%C3%8DNH-H%C3%83NG-i.89899849.4938694973?position=969',\n",
       " 'https://shopee.vn/main-samsung-j2-prime(g532)-ch%E1%BB%89-v%E1%BB%A1-m%C3%A0n-%C4%91%E1%BB%A7-%C4%91%E1%BB%93-v%E1%BB%81-thay-m%C3%A0n-l%C3%A0-d%C3%B9ng-nha-i.380870585.8512364222?position=970',\n",
       " 'https://shopee.vn/N%E1%BA%AFp-l%C6%B0ng-Galaxy-S8-S8-plus-S8--i.77582911.3354006845?position=971',\n",
       " 'https://shopee.vn/-%C4%90%E1%BB%93ng-gi%C3%A1-25k-N%E1%BA%AFp-l%C6%B0ng-Iphone-4G-4S_%C4%91en-tr%E1%BA%AFng_b%C3%B3c-m%C3%A1y_linh-ki%E1%BB%87n-%C4%91i%E1%BB%87n-tho%E1%BA%A1i-i.202426649.7367244739?position=972',\n",
       " 'https://shopee.vn/%C4%90i%E1%BB%87n-Tho%E1%BA%A1i-Vivo-X60-Pro-(256GB-12GB)-H%C3%A0ng-Ch%C3%ADnh-H%C3%A3ng-i.69897724.5784153253?position=973',\n",
       " 'https://shopee.vn/-S%E1%BB%91c-%C4%90i%E1%BB%87n-tho%E1%BA%A1i-nokia-c%E1%BB%95-c3-00-gi%C3%A1-r%E1%BA%BB-ch%C3%ADnh-h%C3%A3ng-t%E1%BA%B7ng-k%C3%A8m-pin-s%E1%BA%A1c-B%E1%BA%A3o-h%C3%A0nh-12-th%C3%A1ng-i.405102750.8238719218?position=974',\n",
       " 'https://shopee.vn/-GIAO-H%C3%80NG-NGAY-%C4%90I%E1%BB%86N-THO%E1%BA%A0I-XIAOMI-POCO-X3-PRO-6-128Gb-CH%C3%8DNH-H%C3%83NG-i.110564302.9332787777?position=975',\n",
       " 'https://shopee.vn/N%E1%BA%AFp-l%C6%B0ng-%C4%91t-HTC-U11-i.418171915.8144746372?position=976',\n",
       " 'https://shopee.vn/%C4%90%E1%BA%A7u-chuy%E1%BB%83n-%C4%91%E1%BB%95i-cao-c%E1%BA%A5p-ch%C3%A2n-3.5-sang-%C4%91%E1%BA%A7u-Lightning-cho-Iphone-7-8-X-Xs-Xr-11-Pro-Max-12-i.136259478.9869433280?position=977',\n",
       " 'https://shopee.vn/%C4%90i%E1%BB%87n-Tho%E1%BA%A1i-C%E1%BB%95-NOKIA-2700-Ch%C3%ADnh-H%C3%A3ng-%C4%90%E1%BA%A7y-%C4%90%E1%BB%A7-Ph%E1%BB%A5-Ki%E1%BB%87n-i.136092747.2176453351?position=978',\n",
       " 'https://shopee.vn/%C4%90I%E1%BB%87n-tho%E1%BA%A1i-sony-xperia-5-qu%E1%BB%91c-t%E1%BA%BF-2-sim-x5-h%C3%A0ng-%C4%91%E1%BA%B9p-99-zin-all-%C3%A1p-su%E1%BA%A5t-c%C4%83ng-bao-ng%C3%A2m-n-i.189268414.9911546766?position=979',\n",
       " 'https://shopee.vn/%C4%90i%E1%BB%87n-tho%E1%BA%A1i-KINGREAT-S90-Pin-tr%C3%A2u-3200mah-ph%C3%ADm-l%E1%BB%9Bn-B%E1%BA%A3o-H%C3%A0nh-1-%C4%91%E1%BB%95i-1-365-ng%C3%A0y-i.27662376.4133526757?position=980',\n",
       " 'https://shopee.vn/m%C3%A0n-h%C3%ACnh-nokia-e71-e72-e63-(-zin-b%C3%B3c-m%C3%A1y)-i.20977279.1900357734?position=981',\n",
       " 'https://shopee.vn/%C4%90i%C3%AA%CC%A3n-thoa%CC%A3i-nokia-1280-ke%CC%80m-pin-sa%CC%A3c-chi%CC%81nh-ha%CC%83ng-ba%CC%89o-ha%CC%80nh-12-tha%CC%81ng-i.405166547.9427528329?position=982',\n",
       " 'https://shopee.vn/-GIA%CC%81-S%C3%94%CC%81C-%C4%90i%E1%BB%87n-tho%E1%BA%A1i-ca%CC%89m-%C6%B0%CC%81ng-Vivo-Y51-ch%C6%A1i-li%C3%AAn-qu%C3%A2n-zalo-fb-tiktok-ma%CC%81y-%C4%91e%CC%A3p-i.405166547.3387045438?position=983',\n",
       " 'https://shopee.vn/%C4%90i%E1%BB%87n-Tho%E1%BA%A1i-IP-Xs-Max-256GB-v%C3%A0-64GB-Qu%E1%BB%91c-T%E1%BA%BF-i.70116542.3068089460?position=984',\n",
       " 'https://shopee.vn/%C4%90i%E1%BB%87n-tho%E1%BA%A1i-M%E1%BB%B9-Kyocera-DuraForce-Pro-E6820-Ch%E1%BB%91ng-n%C6%B0%E1%BB%9Bc-ch%E1%BB%91ng-Va-%C4%91%E1%BA%ADp-ti%C3%AAu-chu%E1%BA%A9n-qu%C3%A2n-%C4%91%E1%BB%99i-M%E1%BB%B9-i.174341597.2859024965?position=985',\n",
       " 'https://shopee.vn/-Si%C3%AAu-r%E1%BA%BB-%C4%90i%E1%BB%87n-tho%E1%BA%A1i-c%E1%BA%A3m-%E1%BB%A9ng-Vivo-Y51-gi%C3%A1-r%E1%BA%BB-m%C3%A1y-Ram-2G-b%E1%BB%99-nh%E1%BB%9B-16GB-ch%C6%A1i-game-bao-ngon-B%E1%BA%A3o-h%C3%A0nh-12-th%C3%A1ng-i.405102750.9246151565?position=986',\n",
       " 'https://shopee.vn/%C4%90i%E1%BB%87n-Tho%E1%BA%A1i-XR-LOCK-64GB-i.250247048.7656148568?position=987',\n",
       " 'https://shopee.vn/%C4%90i%E1%BB%87n-tho%E1%BA%A1i-Masstel-Fami-12-(-m%C3%A1y-ng%C6%B0%E1%BB%9Di-gi%C3%A0)-(-M%C3%A1y-c%C5%A9-%C4%91%C3%A3-qua-s%E1%BB%AD-d%E1%BB%A5ng-m%C3%A1y-bin-s%E1%BA%A1c-)-i.345162160.6590274740?position=988',\n",
       " 'https://shopee.vn/%C4%90i%E1%BB%87n-tho%E1%BA%A1i-nokia-230-l%C6%B0%E1%BB%9Bt(-pin-s%E1%BA%A1c)-2-sim-ch%C3%ADnh-h%C3%A3ng-i.20977279.4843618356?position=989',\n",
       " 'https://shopee.vn/N%E1%BA%AFp-l%C6%B0ng-%C4%91t-Xiaomi-Redmi-Note-4X-i.418171915.8841758795?position=990',\n",
       " 'https://shopee.vn/%C4%90i%E1%BB%87n-Tho%E1%BA%A1i-B%C3%A0n-D%C3%B9ng-Sim-Di-%C4%90%E1%BB%99ng-Sim-M%C3%A1y-B%C3%A0n-Gphone-HomePhon-Huawei-ETS3125i.-i.252526160.6434680400?position=991',\n",
       " 'https://shopee.vn/%C4%90i%E1%BB%87n-tho%E1%BA%A1i-c%C3%B4ng-ch%C3%BAa-k%C3%A8m-k%C3%ADnh-i.26505668.1511809483?position=992',\n",
       " 'https://shopee.vn/V%E1%BB%8E-S%C6%AF%E1%BB%9CN-IPHONE-ZIN-97-8PLUS-7PLUS-7G-6SPLUS-6PLUS-6S-i.81069780.4316608021?position=993',\n",
       " 'https://shopee.vn/-S%E1%BB%91c-%C4%90i%E1%BB%87n-tho%E1%BA%A1i-c%E1%BB%95-%C4%91%E1%BB%99c-nokia-x2-01-b%C3%A0n-ph%C3%ADm-qwerty-24-ph%C3%ADm-c%C3%B3-b%E1%BA%A3o-h%C3%A0nh-12-th%C3%A1ng-i.405102750.9538601469?position=994',\n",
       " 'https://shopee.vn/%C4%90i%E1%BB%87n-tho%E1%BA%A1i-di-%C4%91%E1%BB%99ng-Xiaomi-K20-Pro-m%E1%BB%9Bi-99--i.115660158.5558370680?position=995',\n",
       " 'https://shopee.vn/%F0%9F%93%B1-%C4%90i%E1%BB%87n-Tho%E1%BA%A1i-VIVO-Y71-B%E1%BA%A3o-H%C3%A0nh-12-Th%C3%A1ng%F0%9F%93%B1-Bao-gi%C3%A1-to%C3%A0n-qu%E1%BB%91c-i.445571332.10413097777?position=996',\n",
       " 'https://shopee.vn/%C4%90i%E1%BB%87n-tho%E1%BA%A1i-Nokia-1202-%C4%91%E1%BB%99-LED-10-B%C3%B3ng-Nh%C3%A1y-Theo-%C4%90%C3%A8n-Ph%C3%ADm-K%C3%A8m-Pin-S%E1%BA%A1c-i.207597840.4112045532?position=997',\n",
       " 'https://shopee.vn/%C4%90i%E1%BB%87n-Tho%E1%BA%A1i-Nokia-130-(2-sim)-BH-12-Th%C3%A1ng-i.251968365.5468500669?position=998',\n",
       " 'https://shopee.vn/%C4%91i%E1%BB%87n-tho%E1%BA%A1i-Oppo-Neo-7-A33-Ch%C3%ADnh-h%C3%A3ng-ram-2G-16G-2sim-chi%E1%BA%BFn-PUBG-Free-Fire-Tiktok-FB-Zalo-Youtube-ngon-i.122206336.4566223735?position=999',\n",
       " 'https://shopee.vn/%C4%90i%E1%BB%87n-tho%E1%BA%A1i-ng%C6%B0%E1%BB%9Di-gi%C3%A0-MASSTEL-FAMI-12-B%C3%A0n-ph%C3%ADm-l%E1%BB%9Bn-Loa-to-BH-12-th%C3%A1ng-i.36609202.4803205163?position=1000',\n",
       " 'https://shopee.vn/%C4%90i%E1%BB%87n-Tho%E1%BA%A1i-C%E1%BB%95-NOKIA-6300-zin-tr%C3%B9ng-imei-gi%C3%A1-r%E1%BA%BB-i.136092747.2154628876?position=1001',\n",
       " 'https://shopee.vn/Tr%E1%BB%8Dn-B%E1%BB%99-M%C3%A1y-K%C3%ADch-SIM-M%C3%A1y-Ng%C3%A0nh-SIM-N1280-N1202-N1200-N1110i-(-B%E1%BA%A3o-H%C3%A0nh-6-Th%C3%A1ng-1-%C4%91%E1%BB%97i-1-)-i.38733761.8817357871?position=1002',\n",
       " 'https://shopee.vn/%C4%90i%E1%BB%87n-tho%E1%BA%A1i-b%C3%A0n-kh%C3%B4ng-d%C3%A2y-Panasonic-KX-TGC313-i.64356112.7828504527?position=1003',\n",
       " 'https://shopee.vn/M%C3%A0n-h%C3%ACnh-iphone-4-b%C3%B3c-m%C3%A1y-%C4%91%E1%BA%B9p-i.65699315.3639560362?position=1004',\n",
       " 'https://shopee.vn/%C4%90i%E1%BB%87n-Tho%E1%BA%A1i-baby-h%C3%ACnh-g%E1%BA%A5u-hot-trend-h%E1%BB%97-tr%E1%BB%A3-%C4%91%E1%BB%8Bnh-v%E1%BB%8B-2-sim-2-s%C3%B3ng-online-t%E1%BA%B7ng-%E1%BB%91pl%C6%B0ng--i.22570014.10915265134?position=1005',\n",
       " 'https://shopee.vn/Chuy%C3%AAn-S%E1%BB%89-%C4%90i%E1%BB%87n-Tho%E1%BA%A1i-Si%C3%AAu-Nh%E1%BB%8F-Bently-Bv8-2-Sim-Thay-%C4%90%E1%BB%95i-Gi%E1%BB%8Dng-N%C3%B3i-%C4%90%E1%BA%B3ng-C%E1%BA%A5p-i.318791131.6355943658?position=1006',\n",
       " 'https://shopee.vn/%C4%90i%E1%BB%87n-Tho%E1%BA%A1i-Samsung-A52-8GB-128GB-H%C3%A0ng-Ch%C3%ADnh-H%C3%A3ng-i.193124085.8330473879?position=1007',\n",
       " 'https://shopee.vn/%C4%91i%E1%BB%87n-tho%E1%BA%A1i-v%C4%83n-ph%C3%B2ng-%C4%91i%E1%BB%87n-tho%E1%BA%A1i-kh%C3%A1ch-s%E1%BA%A1n-gia-%C4%91%C3%ACnh-lo%E1%BA%A1i-c%C3%B3-d%C3%A2y-%C4%91%E1%BB%83-b%C3%A0n-c%C3%B3-m%C3%A0n-h%C3%ACnh-hi%E1%BB%87n-s%E1%BB%91-g%E1%BB%8Di-t%E1%BB%9Bi.-KTeL-902-i.90097467.2019501320?position=1008',\n",
       " 'https://shopee.vn/-Gi%C3%A1-r%E1%BA%BB-%C4%90i%E1%BB%87n-tho%E1%BA%A1i-nokia-6300-ch%C3%ADnh-h%C3%A3ng-gi%C3%A1-r%E1%BA%BB-k%C3%A8m-pin-s%E1%BA%A1c-B%E1%BA%A3o-h%C3%A0nh-12-th%C3%A1ng-i.405102750.8330641492?position=1009',\n",
       " 'https://shopee.vn/V%E1%BB%8F-thay-lumia-540-i.64134274.1129489933?position=1010',\n",
       " 'https://shopee.vn/%C4%90i%E1%BB%87n-tho%E1%BA%A1i-OPPO-Find-X3-Pro-5G-(12GB-256GB)-H%C3%A0ng-ch%C3%ADnh-h%C3%A3ng-i.25452983.9855947296?position=1011',\n",
       " 'https://shopee.vn/H%E1%BB%99p-%C4%91%E1%BB%83-%C4%91i%E1%BB%87n-tho%E1%BA%A1i-ho%E1%BA%B7c-main-%C4%91i%E1%BB%87n-tho%E1%BA%A1i-i.36145420.2035701423?position=1012',\n",
       " 'https://shopee.vn/%C4%90i%E1%BB%87n-tho%E1%BA%A1i-di-%C4%91%E1%BB%99ng-Huawei-Mate-10-m%E1%BB%9Bi-99--i.115660158.4141470965?position=1013',\n",
       " 'https://shopee.vn/%C4%90i%E1%BB%87n-tho%E1%BA%A1i-m%C3%A8o-m%C3%A1y-kitty-si%C3%AAu-xinh-2-sim-2-m%C3%A0u-H%E1%BB%92NG-TR%E1%BA%AENG-i.95642495.2385545862?position=1014',\n",
       " 'https://shopee.vn/%C4%90i%E1%BB%87n-tho%E1%BA%A1i-ki%C3%AAm-s%E1%BA%A1c-d%E1%BB%B1-ph%C3%B2ng-Kingreat-T39-Pin-kh%E1%BB%A7ng-4500mah-Loa-si%C3%AAu-to-M%C3%A0n-2.4-H%C3%A0ng-ch%C3%ADnh-h%C3%A3ng-i.27662376.5068479199?position=1015',\n",
       " 'https://shopee.vn/-M%C3%A3-SKAMSALE10-gi%E1%BA%A3m-10-%C4%91%C6%A1n-200K-%C4%90i%E1%BB%87n-tho%E1%BA%A1i-Samsung-Galaxy-S8-Plus-1-sim-2-sim-qua-s%E1%BB%AD-d%E1%BB%A5ng-h%C3%ACnh-th%E1%BB%A9c-%C4%91%E1%BA%B9p-nh%C6%B0-m%E1%BB%9Bi-i.189268414.4910266386?position=1016',\n",
       " 'https://shopee.vn/Khay-Sim-%C4%90i%E1%BB%87n-Tho%E1%BA%A1i-Samsung-A12-(-A125)-i.36007605.9616571477?position=1017',\n",
       " 'https://shopee.vn/%C4%90i%E1%BB%87n-tho%E1%BA%A1i-Goly-150-Plus-2-sim-2-s%C3%B3ng-Pin-tr%C3%A2u-H%C3%A0ng-ch%C3%ADnh-h%C3%A3ng-i.27662376.8436358602?position=1018',\n",
       " \"https://shopee.vn/%C4%90i%E1%BB%87n-tho%E1%BA%A1i-Xiaomi-POCO-M3-PRO-5G-6.5''-MTK-DIMENSITY700-6G-128GB-H%C3%A0ng-Ch%C3%ADnh-H%C3%A3ng-(M%C3%A0u-%C4%90en)-i.340431675.11212928482?position=1019\",\n",
       " 'https://shopee.vn/%C4%90i%E1%BB%87n-tho%E1%BA%A1i-V9-%C4%91%E1%BB%99c-l%E1%BA%A1-t%E1%BA%B7ng-th%C3%AAm-1-pin-i.116456903.7148872084?position=1020',\n",
       " 'https://shopee.vn/-SALE-OFF-%C4%90i%E1%BB%87n-Tho%E1%BA%A1i-vertu-A8-FULL-BOX-Bh-1-n%C4%83m-i.54951196.2418980983?position=1021',\n",
       " 'https://shopee.vn/Camera-Tr%C6%B0%E1%BB%9Bc-Samsung-Galaxy-A70-Ch%C3%ADnh-H%C3%A3ng-i.36007605.5653678549?position=1022',\n",
       " 'https://shopee.vn/%C4%90i%E1%BB%87n-Tho%E1%BA%A1i-Nokia-2.4-2GB-32GB-H%C3%A0ng-Ch%C3%ADnh-H%C3%A3ng-i.193124085.3284546269?position=1023',\n",
       " 'https://shopee.vn/-H%C3%80NG-CH%C3%8DNH-H%C3%83NG-%C4%91i%E1%BB%87n-tho%E1%BA%A1i-Nokia-216-150-%C4%91%E1%BA%A7y-%C4%91%E1%BB%A7-ph%E1%BB%A5-ki%E1%BB%87n-i.361316234.7971502237?position=1024',\n",
       " 'https://shopee.vn/C%C6%B0%C6%A1%CC%80ng-l%C6%B0%CC%A3c-Xiaomi-Poco-m3-pro-K30-ultra-Mi-11-lite-Note-10-Note-10-5G-...-trong-su%C3%B4%CC%81t-full-ma%CC%80n-98--i.291732184.8203629307?position=1025',\n",
       " 'https://shopee.vn/%E1%BB%90p-%C4%91i%E1%BB%87n-tho%E1%BA%A1i-iphone-EM-V%E1%BB%80-TINH-KH%C3%94I-ODT17-(k%C3%A8m-video-%E1%BA%A3nh-th%E1%BA%ADt)-CMS-i.91424220.1845389587?position=1026',\n",
       " 'https://shopee.vn/LG-V50-ThinQ-5G-%C4%90i%E1%BB%87n-Tho%E1%BA%A1i-3-Camera-Snapdragon-855-6GB-128GB-M%C3%A0n-2k-Ch%C6%A1i-Li%C3%AAn-Qu%C3%A2n-Pubg-M%C6%B0%E1%BB%A3t-Sonpixel-i.49952348.8586343725?position=1027',\n",
       " 'https://shopee.vn/%C4%91i%E1%BB%87n-tho%E1%BA%A1i-Xiaomi-Mi-4-ram-3G-16G-m%E1%BB%9Bi-c%C3%B3-Ti%E1%BA%BFng-Vi%E1%BB%87t-CPU-SnapDragon-801-4-nh%C3%A2n-Ch%C6%A1i-PUBG-Free-Fire-Li%C3%AAn-Qu%C3%A2n-m%C6%B0%E1%BB%A3t-i.122206336.3820801013?position=1028',\n",
       " 'https://shopee.vn/%C4%90i%E1%BB%87n-tho%E1%BA%A1i-Masstel-IZI-300-H%C3%A0ng-ch%C3%ADnh-h%C3%A3ng-i.51080905.6746394139?position=1029',\n",
       " 'https://shopee.vn/-H%C3%A0ng-ch%C3%ADnh-h%C3%A3ng-%C4%90i%E1%BB%87n-tho%E1%BA%A1i-b%C3%A0n-kh%C3%B4ng-d%C3%A2y-Panasonic-KX-TGC310-i.43006247.6420150078?position=1030',\n",
       " 'https://shopee.vn/khe-c%E1%BA%A5m-sim-iphone-4-4s-i.65699315.4831780529?position=1031',\n",
       " 'https://shopee.vn/Camera-tr%C6%B0%E1%BB%9Bc-c%E1%BA%A3m-bi%E1%BA%BFn-iphone-6s-plus-6splus-zin-linh-ki%E1%BB%87n-i.239147858.3461396227?position=1032',\n",
       " 'https://shopee.vn/%C4%90i%E1%BB%87n-Tho%E1%BA%A1i-Sharp-Aqous-R-Compact-701SH-Chip-660-i.83158649.3920731691?position=1033',\n",
       " 'https://shopee.vn/V%E1%BB%8F-Nokia-105-c%C3%B3-ph%C3%ADm-i.78823080.7243706566?position=1035',\n",
       " \"https://shopee.vn/''R%E1%BA%BB-H%E1%BB%A7y-Di%E1%BB%87t''-%C4%91i%E1%BB%87n-tho%E1%BA%A1i-OPPO-A9-(2020)-2SIM-Ram-8G-128G-m%E1%BB%9Bi-Fullbox-Camera-48mp-pin-5000mah-i.122206336.5866219807?position=1036\",\n",
       " 'https://shopee.vn/%C4%90i%E1%BB%87n-tho%E1%BA%A1i-Xiaomi-MI3-Xiaomi-Mi-3-%C4%91%E1%BB%A7-m%C3%A0u-Nguy%C3%AAn-Seal-i.122206336.1925101161?position=1037',\n",
       " 'https://shopee.vn/Google-Pixel-4-%C4%90i%E1%BB%87n-Tho%E1%BA%A1i-GG-Chip-Snapdragon-855-Ram-6G-64GB-128GB.-Ch%C6%A1i-Game-T%E1%BB%91t-Qu%E1%BB%91c-T%E1%BA%BF-C%C5%A9-Gi%C3%A1-R%E1%BA%BB-Sonpixel.-i.49952348.10214673952?position=1038',\n",
       " 'https://shopee.vn/%C4%91i%E1%BB%87n-tho%E1%BA%A1i-nokia-e63-ch%C3%ADnh-h%C3%A3ng-(pin-s%E1%BA%A1c)-i.129982976.5849789144?position=1039',\n",
       " 'https://shopee.vn/V%E1%BB%8F-zin-c%C5%A9-b%C3%B3c-m%C3%A1y-d%C3%A0nh-cho-iphone-8p-7p-7g-6splus-97-98-Gi%C3%A1-sock-i.295766260.3482876459?position=1040',\n",
       " 'https://shopee.vn/B%E1%BB%99-khay-sim-Galaxy-J5-J7-Pro-ch%C3%ADnh-h%C3%A3ng-Samsung-J530-J730-i.190411329.7803964676?position=1041',\n",
       " 'https://shopee.vn/%C4%90I%E1%BB%86N-THO%E1%BA%A0I-NOKIA-1110i-ZIN-BH-6-TH%C3%81NG-i.20331712.1823313938?position=1042',\n",
       " 'https://shopee.vn/V%E1%BB%8F-Samsung-Galaxy-J7-Pro-J730-i.164472385.4863750600?position=1043',\n",
       " 'https://shopee.vn/%C4%90i%E1%BB%87n-tho%E1%BA%A1i-Xiaomi-Redmi-Note-10S-(8GB-128GB)-H%C3%A0ng-ch%C3%ADnh-h%C3%A3ng-i.331695868.6491734492?position=1044',\n",
       " 'https://shopee.vn/%C4%90i%E1%BB%87n-tho%E1%BA%A1i-Xiaomi-Redmi-9-(3GB-32GB)-H%C3%A0ng-ch%C3%ADnh-h%C3%A3ng-i.331695868.5663021011?position=1045',\n",
       " 'https://shopee.vn/%C4%90i%E1%BB%87n-tho%E1%BA%A1i-Vsmart-Aris-(8GB-128GB)-H%C3%A0ng-ch%C3%ADnh-h%C3%A3ng-i.407016717.3683101653?position=1046',\n",
       " ...]"
      ]
     },
     "metadata": {},
     "execution_count": 230
    }
   ],
   "metadata": {}
  },
  {
   "cell_type": "code",
   "execution_count": 231,
   "source": [
    "len(list_url)/4"
   ],
   "outputs": [
    {
     "output_type": "execute_result",
     "data": {
      "text/plain": [
       "519.5"
      ]
     },
     "metadata": {},
     "execution_count": 231
    }
   ],
   "metadata": {}
  },
  {
   "cell_type": "code",
   "execution_count": 32,
   "source": [
    "second_link = list_url[1]\n",
    "second_link"
   ],
   "outputs": [
    {
     "output_type": "execute_result",
     "data": {
      "text/plain": [
       "'https://shopee.vn/%C4%90i%E1%BB%87n-tho%E1%BA%A1i-Vivo-Y20-(2021)-4GB-64GB-H%C3%A0ng-ch%C3%ADnh-h%C3%A3ng-i.69897724.9570657944?position=1'"
      ]
     },
     "metadata": {},
     "execution_count": 32
    }
   ],
   "metadata": {}
  },
  {
   "cell_type": "code",
   "execution_count": 200,
   "source": [
    "browser = webdriver.Chrome(executable_path='./chromedriver')\n",
    "browser.get(second_link)"
   ],
   "outputs": [],
   "metadata": {}
  },
  {
   "cell_type": "markdown",
   "source": [
    "Crawl data"
   ],
   "metadata": {}
  },
  {
   "cell_type": "code",
   "execution_count": 201,
   "source": [
    "element_product = browser.find_element_by_id('main')\n",
    "element_product.find_element_by_class_name('attM6y').text"
   ],
   "outputs": [
    {
     "output_type": "execute_result",
     "data": {
      "text/plain": [
       "'Điện thoại Vivo Y20 (2021) 4GB + 64GB - Hàng chính hãng'"
      ]
     },
     "metadata": {},
     "execution_count": 201
    }
   ],
   "metadata": {}
  },
  {
   "cell_type": "code",
   "execution_count": 35,
   "source": [
    "# Name\n",
    "name = browser.find_element_by_class_name('attM6y')\n",
    "name.text"
   ],
   "outputs": [
    {
     "output_type": "execute_result",
     "data": {
      "text/plain": [
       "'Điện thoại Vivo Y20 (2021) 4GB + 64GB - Hàng chính hãng'"
      ]
     },
     "metadata": {},
     "execution_count": 35
    }
   ],
   "metadata": {}
  },
  {
   "cell_type": "code",
   "execution_count": 36,
   "source": [
    "# rating\n",
    "rating = browser.find_element_by_class_name('OitLRu._1mYa1t')\n",
    "rating.text"
   ],
   "outputs": [
    {
     "output_type": "execute_result",
     "data": {
      "text/plain": [
       "'5.0'"
      ]
     },
     "metadata": {},
     "execution_count": 36
    }
   ],
   "metadata": {}
  },
  {
   "cell_type": "code",
   "execution_count": 134,
   "source": [
    "css = browser.find_elements_by_css_selector('[type=\"application/ld+json\"]')\n",
    "css[0]"
   ],
   "outputs": [
    {
     "output_type": "execute_result",
     "data": {
      "text/plain": [
       "<selenium.webdriver.remote.webelement.WebElement (session=\"3d5503fb1c4bbd6dba9978f7a1a45ec1\", element=\"eace2551-8b0a-4a01-934f-efd7a9e5ce47\")>"
      ]
     },
     "metadata": {},
     "execution_count": 134
    }
   ],
   "metadata": {}
  },
  {
   "cell_type": "code",
   "execution_count": 144,
   "source": [
    "content_css = []\n",
    "for content in css:\n",
    "    content = content.get_attribute('innerHTML')\n",
    "    json_content = json.loads(content)\n",
    "    content_css.append(json_content)"
   ],
   "outputs": [],
   "metadata": {}
  },
  {
   "cell_type": "code",
   "execution_count": null,
   "source": [
    "content_css[1]['name']"
   ],
   "outputs": [
    {
     "data": {
      "text/plain": [
       "'Điện thoại Vivo Y20 (2021) 4GB + 64GB - Hàng chính hãng'"
      ]
     },
     "metadata": {},
     "output_type": "display_data"
    }
   ],
   "metadata": {}
  },
  {
   "cell_type": "code",
   "execution_count": 57,
   "source": [
    "# Raingt of product\n",
    "content_css[1]['aggregateRating']['ratingValue']"
   ],
   "outputs": [
    {
     "output_type": "execute_result",
     "data": {
      "text/plain": [
       "'4.95'"
      ]
     },
     "metadata": {},
     "execution_count": 57
    }
   ],
   "metadata": {}
  },
  {
   "cell_type": "code",
   "execution_count": 58,
   "source": [
    "# Rating count of product\n",
    "content_css[1]['aggregateRating']['ratingCount']"
   ],
   "outputs": [
    {
     "output_type": "execute_result",
     "data": {
      "text/plain": [
       "'931'"
      ]
     },
     "metadata": {},
     "execution_count": 58
    }
   ],
   "metadata": {}
  },
  {
   "cell_type": "code",
   "execution_count": 70,
   "source": [
    "# Price\n",
    "content_css[1]['offers']['price']"
   ],
   "outputs": [
    {
     "output_type": "execute_result",
     "data": {
      "text/plain": [
       "'3990000.00'"
      ]
     },
     "metadata": {},
     "execution_count": 70
    }
   ],
   "metadata": {}
  },
  {
   "cell_type": "code",
   "execution_count": null,
   "source": [
    "content_css[1]['name']"
   ],
   "outputs": [
    {
     "data": {
      "text/plain": [
       "'Điện thoại Vivo Y20 (2021) 4GB + 64GB - Hàng chính hãng'"
      ]
     },
     "metadata": {},
     "output_type": "display_data"
    }
   ],
   "metadata": {}
  },
  {
   "cell_type": "code",
   "execution_count": 62,
   "source": [
    "# Name of organizer\n",
    "content_css[1]['offers']['seller']['name']"
   ],
   "outputs": [
    {
     "output_type": "execute_result",
     "data": {
      "text/plain": [
       "'VIVO OFFICIAL STORE'"
      ]
     },
     "metadata": {},
     "execution_count": 62
    }
   ],
   "metadata": {}
  },
  {
   "cell_type": "code",
   "execution_count": 63,
   "source": [
    "# Rating count of shop\n",
    "content_css[1]['offers']['seller']['aggregateRating']['ratingCount']"
   ],
   "outputs": [
    {
     "output_type": "execute_result",
     "data": {
      "text/plain": [
       "'6593'"
      ]
     },
     "metadata": {},
     "execution_count": 63
    }
   ],
   "metadata": {}
  },
  {
   "cell_type": "code",
   "execution_count": 64,
   "source": [
    "# Raing of shop\n",
    "content_css[1]['offers']['seller']['aggregateRating']['ratingValue']"
   ],
   "outputs": [
    {
     "output_type": "execute_result",
     "data": {
      "text/plain": [
       "'4.92'"
      ]
     },
     "metadata": {},
     "execution_count": 64
    }
   ],
   "metadata": {}
  },
  {
   "cell_type": "code",
   "execution_count": 55,
   "source": [
    "\n",
    "content_css[1][]"
   ],
   "outputs": [
    {
     "output_type": "execute_result",
     "data": {
      "text/plain": [
       "{'@context': 'http://schema.org',\n",
       " '@type': 'Product',\n",
       " 'name': 'Điện thoại Vivo Y20 (2021) 4GB + 64GB - Hàng chính hãng',\n",
       " 'description': 'Thiết kế thời trang, hiện đại\\r\\nChiếc điện thoại Vivo Y20 có màn hình lớn 6.51 inch dạng Halo Fullview. Cùng với đó là tỷ lệ khung hình 20:9 hiện đại và độ phân giải HD+ đem đến trải nghiệm mọi hoạt động đều trở nên rộng rãi, thú vị hơn. Ngoài màu sắc sống động, hiển thị chi tiết, Vivo Y20 còn có chế độ bảo vệ mắt, giảm ánh sáng xanh khi sử dụng giúp bảo vệ mắt của bạn ngay cả khi phải sử dụng liên tục.\\r\\n\\r\\nBộ 3 camera thông minh nhiều tính năng\\r\\nVivo Y20 được trang bị tới 3 camera sau được xếp theo hình chữ nhật dọc. Trong đó bao gồm camera chính 13MP, camera chân dung 2MP và camera chụp siêu cận 2MP hứa hẹn mang đến những kiểu chụp ảnh thú vị và sắc nét để bạn thỏa sức sáng tạo.\\r\\n\\r\\nCấu hình mượt mà trong tầm giá\\r\\n\\r\\nĐiện thoại Vivo Y20 2021 dùng vi xử lý Helio P35  . Đi cùng với đó là 4GB RAM và 64GB bộ nhớ trong đủ mạnh, đa nhiệm mượt mà. Người dùng có thể chạy tốt mọi ứng dụng thường dùng hàng ngày như nghe gọi, đọc báo, lướt web, quay video, xem phim,... Ngoài ra, máy vẫn có thể chơi được một vài tựa game nhẹ nhàng cơ bản mà không lo giật lag.\\r\\n\\r\\nDung lượng pin khủng giúp trải nghiệm lâu dài\\r\\n\\r\\nVivo Y20 có viên pin dung lượng lên tới 5000mAh, giúp bạn có thể sử dụng thoải mái trọn vẹn một ngày dài nếu chỉ sử dụng các tác vụ cơ bản. Còn nếu chơi game liên tục sẽ kéo dài liên tục trong khoảng 9 tiếng.\\r\\n\\r\\nThông số kỹ thuật\\r\\nMàn hình: 6.51 inch\\t\\r\\nĐộ phân giải: 1600*720 (HD+)\\t\\r\\nChất liệu màn hình: IPS LCD\\t\\r\\nMàn hình cảm ứng: Cảm ứng điện dung đa điểm\\r\\n\\r\\nCamera: Trước 8MP / Sau 13MP+2MP+2MP\\t\\r\\nKhẩu độ: Trước f/1.8 (8MP) / Sau f/2.2 (13MP) + f/2.4 (2MP) + f/2.4 (2MP)\\t\\r\\nĐèn Flash: Đèn Flash camera sau\\t\\r\\nChế độ chụp ảnh: Chân Dung, Chụp Ảnh, Quay Video, Chụp Toàn Cảnh, Live Photo, Quay Tua Nhanh Thời Gian, DOC\\r\\n\\r\\nKích thước (cao x ngang x dày): 164.41×76.32×8.41mm\\t\\r\\nTrọng lượng: 192g\\t\\r\\nSạc nhanh: 10W\\t\\r\\nChất liệu: Polymer cao cấp\\r\\n\\r\\nBộ vi xử lý: Helio P35\\t\\r\\nRAM: 4GB\\t\\r\\nROM: 64GB\\t\\r\\nPin: 5000mAh (TYP)\\t\\r\\nMàu sắc: Xanh, Trắng\\t\\r\\nHệ điều hành: Funtouch OS 11 (Dựa trên Android 10)\\r\\n\\r\\nBộ sản phẩm bao gồm: Thân máy, Sach hướng dẫn, Dây USB, Củ sạc USB, Que lấy SIM\\r\\n\\r\\nTHÔNG TIN BẢO HÀNH\\r\\nBảo hành: 12 tháng \\r\\nThời hạn trả hàng bảo hành không quá 15 ngày đối với tất cả sản phẩm\\r\\nĐịa chỉ trung tâm bảo hành ViVo trên toàn quốc: http://www.vivo.com/vn/support/support-info#service-center\\r\\nMọi thắc mắc về lỗi điện thoại hay vấn đề bảo hành, liên hệ tổng đài Vivo để được hỗ trợ : 1800 6101.',\n",
       " 'url': 'https://shopee.vn/Điện-thoại-Vivo-Y20-(2021)-4GB-64GB-Hàng-chính-hãng-i.69897724.9570657944',\n",
       " 'productID': '9570657944',\n",
       " 'image': 'https://cf.shopee.vn/file/41694acce229f8102e750ab976683b90',\n",
       " 'brand': '',\n",
       " 'offers': {'@type': 'Offer',\n",
       "  'price': '3990000.00',\n",
       "  'priceCurrency': 'VND',\n",
       "  'seller': {'@context': 'http://schema.org',\n",
       "   '@type': 'Organization',\n",
       "   'name': 'VIVO OFFICIAL STORE',\n",
       "   'url': 'https://shopee.vn/vivo_official_store_vn',\n",
       "   'image': 'https://cf.shopee.vn/file/9f811414f6995064268457433b7d6842',\n",
       "   'aggregateRating': {'@type': 'AggregateRating',\n",
       "    'bestRating': 5,\n",
       "    'worstRating': 1,\n",
       "    'ratingCount': '6593',\n",
       "    'ratingValue': '4.92'}},\n",
       "  'itemCondition': 'NewCondition',\n",
       "  'availability': 'http://schema.org/InStock'},\n",
       " 'aggregateRating': {'@type': 'AggregateRating',\n",
       "  'bestRating': 5,\n",
       "  'worstRating': 1,\n",
       "  'ratingCount': '931',\n",
       "  'ratingValue': '4.95'}}"
      ]
     },
     "metadata": {},
     "execution_count": 55
    }
   ],
   "metadata": {}
  },
  {
   "cell_type": "code",
   "execution_count": 68,
   "source": [
    "# Number sold out\n",
    "sold_out = browser.find_element_by_class_name('aca9MM')\n",
    "sold_out.text"
   ],
   "outputs": [
    {
     "output_type": "execute_result",
     "data": {
      "text/plain": [
       "'4,6k'"
      ]
     },
     "metadata": {},
     "execution_count": 68
    }
   ],
   "metadata": {}
  },
  {
   "cell_type": "code",
   "execution_count": 185,
   "source": [
    "browser.find_element_by_class_name('aca9MM').text"
   ],
   "outputs": [
    {
     "output_type": "execute_result",
     "data": {
      "text/plain": [
       "'4,7k'"
      ]
     },
     "metadata": {},
     "execution_count": 185
    }
   ],
   "metadata": {}
  },
  {
   "cell_type": "code",
   "execution_count": 194,
   "source": [
    "# inventory \n",
    "inventory = browser.find_element_by_class_name('product-briefing')\n",
    "inventory = inventory.find_element_by_class_name('flex.items-center._90fTvx')\n",
    "\n",
    "inventory.text.split('\\n')[-1].strip(' sản phẩm có sẵn')"
   ],
   "outputs": [
    {
     "output_type": "execute_result",
     "data": {
      "text/plain": [
       "'47326'"
      ]
     },
     "metadata": {},
     "execution_count": 194
    }
   ],
   "metadata": {}
  },
  {
   "cell_type": "code",
   "execution_count": 204,
   "source": [
    "# 7 days | real 100% | freeship\n",
    "real_100 = element_product.find_element_by_class_name('_3evuG0')\n",
    "print(real_100.text.split('\\n')[0])\n",
    "print(real_100.text.split('\\n')[1])\n",
    "print(real_100.text.split('\\n')[2])"
   ],
   "outputs": [
    {
     "output_type": "stream",
     "name": "stdout",
     "text": [
      "7 ngày miễn phí trả hàng\n",
      "Hàng chính hãng 100%\n",
      "Miễn phí vận chuyển\n"
     ]
    }
   ],
   "metadata": {}
  },
  {
   "cell_type": "code",
   "execution_count": 209,
   "source": [
    "\n",
    "rate_respond = element_product.find_element_by_class_name('_309kqV')\n",
    "total_info_shop = rate_respond.text.split('\\n')\n",
    "total_info_shop"
   ],
   "outputs": [
    {
     "output_type": "execute_result",
     "data": {
      "text/plain": [
       "['Đánh Giá',\n",
       " '6,6k',\n",
       " 'Sản Phẩm',\n",
       " '26',\n",
       " 'Tỉ Lệ Phản Hồi',\n",
       " '99%',\n",
       " 'Thời Gian Phản Hồi',\n",
       " 'trong vài giờ',\n",
       " 'Tham Gia',\n",
       " '3 năm trước',\n",
       " 'Người Theo Dõi',\n",
       " '173k']"
      ]
     },
     "metadata": {},
     "execution_count": 209
    }
   ],
   "metadata": {}
  },
  {
   "cell_type": "code",
   "execution_count": 211,
   "source": [
    "print(total_info_shop[1])\n",
    "print(total_info_shop[3])\n",
    "print(total_info_shop[5])\n",
    "print(total_info_shop[7])\n",
    "print(total_info_shop[9])\n",
    "print(total_info_shop[11])\n"
   ],
   "outputs": [
    {
     "output_type": "stream",
     "name": "stdout",
     "text": [
      "6,6k\n",
      "26\n",
      "99%\n",
      "trong vài giờ\n",
      "3 năm trước\n",
      "173k\n"
     ]
    }
   ],
   "metadata": {}
  },
  {
   "cell_type": "code",
   "execution_count": null,
   "source": [
    "content_css[1]['name']"
   ],
   "outputs": [
    {
     "data": {
      "text/plain": [
       "'Điện thoại Vivo Y20 (2021) 4GB + 64GB - Hàng chính hãng'"
      ]
     },
     "metadata": {},
     "output_type": "display_data"
    }
   ],
   "metadata": {}
  },
  {
   "cell_type": "code",
   "execution_count": 85,
   "source": [
    "# Tỷ lê phản hổi \n",
    "rate_respond.text.split('\\n')[5].strip('%')"
   ],
   "outputs": [
    {
     "output_type": "execute_result",
     "data": {
      "text/plain": [
       "'99'"
      ]
     },
     "metadata": {},
     "execution_count": 85
    }
   ],
   "metadata": {}
  },
  {
   "cell_type": "code",
   "execution_count": 86,
   "source": [
    "# Name of shop\n",
    "name_shope = browser.find_element_by_class_name('_3uf2ae')\n",
    "name_shope.text"
   ],
   "outputs": [
    {
     "output_type": "execute_result",
     "data": {
      "text/plain": [
       "'vivo_official_store_vn'"
      ]
     },
     "metadata": {},
     "execution_count": 86
    }
   ],
   "metadata": {}
  },
  {
   "cell_type": "code",
   "execution_count": 205,
   "source": [
    "element_product.find_element_by_class_name('_3uf2ae').text"
   ],
   "outputs": [
    {
     "output_type": "execute_result",
     "data": {
      "text/plain": [
       "'vivo_official_store_vn'"
      ]
     },
     "metadata": {},
     "execution_count": 205
    }
   ],
   "metadata": {}
  },
  {
   "cell_type": "code",
   "execution_count": 87,
   "source": [
    "# Shopee mall\n",
    "shopee_mall = browser.find_element_by_class_name('qutJvu')\n",
    "shopee_mall.get_attribute('src')"
   ],
   "outputs": [
    {
     "output_type": "execute_result",
     "data": {
      "text/plain": [
       "'https://deo.shopeemobile.com/shopee/shopee-pcmall-live-sg//assets/483071c49603aa7163a7f51708bff61b.png'"
      ]
     },
     "metadata": {},
     "execution_count": 87
    }
   ],
   "metadata": {}
  },
  {
   "cell_type": "code",
   "execution_count": 169,
   "source": [
    "# rating\n",
    "all_rating = element_product.find_elements_by_class_name('product-rating-overview__filters')\n",
    "all_rating[0].text.split(')')[0].replace('(', '').strip('Tất Cả5 Sao')"
   ],
   "outputs": [
    {
     "output_type": "execute_result",
     "data": {
      "text/plain": [
       "'912'"
      ]
     },
     "metadata": {},
     "execution_count": 169
    }
   ],
   "metadata": {}
  },
  {
   "cell_type": "code",
   "execution_count": 172,
   "source": [
    "all_rating[0].text.split(')')[1].replace('4 Sao (', '')"
   ],
   "outputs": [
    {
     "output_type": "execute_result",
     "data": {
      "text/plain": [
       "'13'"
      ]
     },
     "metadata": {},
     "execution_count": 172
    }
   ],
   "metadata": {}
  },
  {
   "cell_type": "code",
   "execution_count": 173,
   "source": [
    "all_rating[0].text.split(')')[2].replace('3 Sao (', '')"
   ],
   "outputs": [
    {
     "output_type": "execute_result",
     "data": {
      "text/plain": [
       "'4'"
      ]
     },
     "metadata": {},
     "execution_count": 173
    }
   ],
   "metadata": {}
  },
  {
   "cell_type": "code",
   "execution_count": 182,
   "source": [
    "print(all_rating[0].text.split(')')[5].strip('Có Bình Luận ('))\n",
    "len(all_rating[0].text.split(')'))"
   ],
   "outputs": [
    {
     "output_type": "stream",
     "name": "stdout",
     "text": [
      "393\n"
     ]
    },
    {
     "output_type": "execute_result",
     "data": {
      "text/plain": [
       "8"
      ]
     },
     "metadata": {},
     "execution_count": 182
    }
   ],
   "metadata": {}
  },
  {
   "cell_type": "code",
   "execution_count": 184,
   "source": [
    "print(all_rating[0].text.split(')')[6].strip('Có Hình Ảnh / Video ('))\n"
   ],
   "outputs": [
    {
     "output_type": "stream",
     "name": "stdout",
     "text": [
      "291\n"
     ]
    }
   ],
   "metadata": {}
  },
  {
   "cell_type": "code",
   "execution_count": null,
   "source": [
    "# Code chổ lấy price kiểu\n",
    "\n",
    "try:\n",
    "    low_price\n",
    "    high_price\n",
    "except:\n",
    "    price = "
   ],
   "outputs": [],
   "metadata": {}
  },
  {
   "cell_type": "markdown",
   "source": [
    "# Non Shopee Mall"
   ],
   "metadata": {}
  },
  {
   "cell_type": "code",
   "execution_count": 186,
   "source": [
    "browser = webdriver.Chrome(executable_path='./chromedriver')\n",
    "browser.get(list_url[5])"
   ],
   "outputs": [],
   "metadata": {}
  },
  {
   "cell_type": "code",
   "execution_count": 108,
   "source": [
    "# Shopee guaranteed\n",
    "guaranteed = browser.find_element_by_class_name('flex-auto.flex-column._1rcM18')\n",
    "guaranteed.text.split('\\n')[-1]"
   ],
   "outputs": [
    {
     "output_type": "execute_result",
     "data": {
      "text/plain": [
       "'3 Ngày Trả Hàng / Hoàn Tiền'"
      ]
     },
     "metadata": {},
     "execution_count": 108
    }
   ],
   "metadata": {}
  },
  {
   "cell_type": "code",
   "execution_count": 109,
   "source": [
    "name_shop = browser.find_element_by_class_name('_3uf2ae')\n",
    "name_shop.text"
   ],
   "outputs": [
    {
     "output_type": "execute_result",
     "data": {
      "text/plain": [
       "'tomeno.store'"
      ]
     },
     "metadata": {},
     "execution_count": 109
    }
   ],
   "metadata": {}
  },
  {
   "cell_type": "code",
   "execution_count": 118,
   "source": [
    "a = browser.find_elements_by_class_name('product-rating-overview__filters')\n",
    "a[0].text"
   ],
   "outputs": [
    {
     "output_type": "execute_result",
     "data": {
      "text/plain": [
       "'Tất Cả5 Sao (619)4 Sao (35)3 Sao (20)2 Sao (5)1 Sao (10)Có Bình Luận (364)Có Hình Ảnh / Video (251)'"
      ]
     },
     "metadata": {},
     "execution_count": 118
    }
   ],
   "metadata": {}
  },
  {
   "cell_type": "code",
   "execution_count": 187,
   "source": [
    "css = browser.find_elements_by_css_selector('[type=\"application/ld+json\"]')\n",
    "content_css = []\n",
    "for content in css:\n",
    "    content = content.get_attribute('innerHTML')\n",
    "    json_content = json.loads(content)\n",
    "    content_css.append(json_content)"
   ],
   "outputs": [],
   "metadata": {}
  },
  {
   "cell_type": "code",
   "execution_count": 188,
   "source": [
    "content_css[1]"
   ],
   "outputs": [
    {
     "output_type": "execute_result",
     "data": {
      "text/plain": [
       "{'@context': 'http://schema.org',\n",
       " '@type': 'Product',\n",
       " 'name': 'Điện thoại Mini - L8STAR BM10 - ( Nokia 3310 ) - 2 sim 2 sóng siêu nhỏ - đổi giọng nói - kết nối BT , Nghe Nhạc mp3',\n",
       " 'description': '\\nThông tin sản phẩm:\\n\\n- Tên sản phẩm: L8STAR BM10 ( nokia 3310 )\\n- Công suất: MTK6261D\\n- Mạng: GSM 900/1800/850/1900 (4-band tùy chọn)\\n- Kích thước: 67.8*27.8*12.4 mét (L * W * D)\\n- Màn hình: 0.66 inch OLED/64x48\\n- Pin: pin lithium Polymer 350 mah\\n- Thời gian chờ: 20 Giờ\\n- Thẻ Tùy Chọn: SIM thẻ 1 + SIM thẻ 2 + 1 thẻ TF (Tối Đa đến 32 gam)\\n- Buetooth: V3.0\\n- Speaker: 0916\\n\\nCAM KẾT SẢN PHẨM VÀ DỊCH VỤ:\\n\\n- Cung cấp các sản phẩm theo đúng tiêu chuẩn với chất lượng tốt nhất;\\n\\n- Giá cả cạnh tranh;\\n\\n- Đáp ứng mọi yêu cầu của khách hàng trong thời gian ngắn nhất;\\n\\n- Đảm bảo về số lượng và đúng chủng loại khách đặt ;\\n\\nTư vấn miễn phí 24/24 cho quý khách hàng về các sản phẩm của chúng tôi, bất cứ thắc mắc gì trước và sau khi mua sản phẩm .\\n\\n#dienthoai #dienthoaimini #dienthoaigiare #dienthoaithonginh #smartphone #dienthoaibenley #dienthoaiphothong #bentley #dienthoai2sim #nokia #samsung #apple #xiaomi #sony#dienthoaisieunho#dienthoainokia#dienthoaiL8starBM10',\n",
       " 'url': 'https://shopee.vn/Điện-thoại-Mini-L8STAR-BM10-(-Nokia-3310-)-2-sim-2-sóng-siêu-nhỏ-đổi-giọng-nói-kết-nối-BT-Nghe-Nhạc-mp3-i.86608834.2106797077',\n",
       " 'productID': '2106797077',\n",
       " 'image': 'https://cf.shopee.vn/file/d6035604d00f9870279f0c46db93a723',\n",
       " 'brand': '',\n",
       " 'offers': {'@type': 'AggregateOffer',\n",
       "  'lowPrice': '42000.00',\n",
       "  'highPrice': '168000.00',\n",
       "  'priceCurrency': 'VND',\n",
       "  'seller': {'@context': 'http://schema.org',\n",
       "   '@type': 'Organization',\n",
       "   'name': 'Tomeno Store Công nghệ 4.0',\n",
       "   'url': 'https://shopee.vn/tomeno.store',\n",
       "   'image': 'https://cf.shopee.vn/file/7d10c999e1a8196a42b029c9aac9a511',\n",
       "   'aggregateRating': {'@type': 'AggregateRating',\n",
       "    'bestRating': 5,\n",
       "    'worstRating': 1,\n",
       "    'ratingCount': '3582',\n",
       "    'ratingValue': '4.73'}},\n",
       "  'itemCondition': 'NewCondition',\n",
       "  'availability': 'http://schema.org/InStock'},\n",
       " 'aggregateRating': {'@type': 'AggregateRating',\n",
       "  'bestRating': 5,\n",
       "  'worstRating': 1,\n",
       "  'ratingCount': '690',\n",
       "  'ratingValue': '4.81'}}"
      ]
     },
     "metadata": {},
     "execution_count": 188
    }
   ],
   "metadata": {}
  },
  {
   "cell_type": "code",
   "execution_count": 189,
   "source": [
    "content_css[1]['offers']['lowPrice']"
   ],
   "outputs": [
    {
     "output_type": "execute_result",
     "data": {
      "text/plain": [
       "'42000.00'"
      ]
     },
     "metadata": {},
     "execution_count": 189
    }
   ],
   "metadata": {}
  },
  {
   "cell_type": "code",
   "execution_count": 190,
   "source": [
    "content_css[1]['offers']['highPrice']"
   ],
   "outputs": [
    {
     "output_type": "execute_result",
     "data": {
      "text/plain": [
       "'168000.00'"
      ]
     },
     "metadata": {},
     "execution_count": 190
    }
   ],
   "metadata": {}
  },
  {
   "cell_type": "code",
   "execution_count": 220,
   "source": [
    "df_test = pd.read_csv('./test_detail_2.csv')"
   ],
   "outputs": [],
   "metadata": {}
  },
  {
   "cell_type": "code",
   "execution_count": 223,
   "source": [
    "df_test.T"
   ],
   "outputs": [
    {
     "output_type": "execute_result",
     "data": {
      "text/html": [
       "<div>\n",
       "<style scoped>\n",
       "    .dataframe tbody tr th:only-of-type {\n",
       "        vertical-align: middle;\n",
       "    }\n",
       "\n",
       "    .dataframe tbody tr th {\n",
       "        vertical-align: top;\n",
       "    }\n",
       "\n",
       "    .dataframe thead th {\n",
       "        text-align: right;\n",
       "    }\n",
       "</style>\n",
       "<table border=\"1\" class=\"dataframe\">\n",
       "  <thead>\n",
       "    <tr style=\"text-align: right;\">\n",
       "      <th></th>\n",
       "      <th>0</th>\n",
       "    </tr>\n",
       "  </thead>\n",
       "  <tbody>\n",
       "    <tr>\n",
       "      <th>Unnamed: 0</th>\n",
       "      <td>0</td>\n",
       "    </tr>\n",
       "    <tr>\n",
       "      <th>name_product</th>\n",
       "      <td>Yêu Thích\\nMiếng dán điện thoại may mắn, lung ...</td>\n",
       "    </tr>\n",
       "    <tr>\n",
       "      <th>rating_product</th>\n",
       "      <td>4.83</td>\n",
       "    </tr>\n",
       "    <tr>\n",
       "      <th>rating_count_product</th>\n",
       "      <td>629</td>\n",
       "    </tr>\n",
       "    <tr>\n",
       "      <th>quantity_5_star</th>\n",
       "      <td>77</td>\n",
       "    </tr>\n",
       "    <tr>\n",
       "      <th>quantity_4_star</th>\n",
       "      <td>11</td>\n",
       "    </tr>\n",
       "    <tr>\n",
       "      <th>quantity_3_star</th>\n",
       "      <td>NaN</td>\n",
       "    </tr>\n",
       "    <tr>\n",
       "      <th>quantity_2_star</th>\n",
       "      <td>NaN</td>\n",
       "    </tr>\n",
       "    <tr>\n",
       "      <th>quantity_1_star</th>\n",
       "      <td>NaN</td>\n",
       "    </tr>\n",
       "    <tr>\n",
       "      <th>count_cmt</th>\n",
       "      <td>357</td>\n",
       "    </tr>\n",
       "    <tr>\n",
       "      <th>images_video</th>\n",
       "      <td>291</td>\n",
       "    </tr>\n",
       "    <tr>\n",
       "      <th>sold_out</th>\n",
       "      <td>15,3k</td>\n",
       "    </tr>\n",
       "    <tr>\n",
       "      <th>low_price</th>\n",
       "      <td>6700.0</td>\n",
       "    </tr>\n",
       "    <tr>\n",
       "      <th>hight_price</th>\n",
       "      <td>1400.0</td>\n",
       "    </tr>\n",
       "    <tr>\n",
       "      <th>price</th>\n",
       "      <td>NaN</td>\n",
       "    </tr>\n",
       "    <tr>\n",
       "      <th>inventory</th>\n",
       "      <td>23034</td>\n",
       "    </tr>\n",
       "    <tr>\n",
       "      <th>return_7_days</th>\n",
       "      <td>NaN</td>\n",
       "    </tr>\n",
       "    <tr>\n",
       "      <th>authentic</th>\n",
       "      <td>NaN</td>\n",
       "    </tr>\n",
       "    <tr>\n",
       "      <th>freeship</th>\n",
       "      <td>NaN</td>\n",
       "    </tr>\n",
       "    <tr>\n",
       "      <th>shopee_guaranteedcompany</th>\n",
       "      <td>NaN</td>\n",
       "    </tr>\n",
       "    <tr>\n",
       "      <th>shop_name</th>\n",
       "      <td>hung_pham130217</td>\n",
       "    </tr>\n",
       "    <tr>\n",
       "      <th>shopee_mall</th>\n",
       "      <td>False</td>\n",
       "    </tr>\n",
       "    <tr>\n",
       "      <th>shop_total_review</th>\n",
       "      <td>1,5k</td>\n",
       "    </tr>\n",
       "    <tr>\n",
       "      <th>total_products</th>\n",
       "      <td>13</td>\n",
       "    </tr>\n",
       "    <tr>\n",
       "      <th>response_rate</th>\n",
       "      <td>96%</td>\n",
       "    </tr>\n",
       "    <tr>\n",
       "      <th>time_response</th>\n",
       "      <td>trong vài phút</td>\n",
       "    </tr>\n",
       "    <tr>\n",
       "      <th>years_ex</th>\n",
       "      <td>27 tháng trước</td>\n",
       "    </tr>\n",
       "    <tr>\n",
       "      <th>follower</th>\n",
       "      <td>3,2k</td>\n",
       "    </tr>\n",
       "    <tr>\n",
       "      <th>shopee_guaranteed</th>\n",
       "      <td>3 Ngày Trả Hàng / Hoàn Tiền</td>\n",
       "    </tr>\n",
       "    <tr>\n",
       "      <th>company</th>\n",
       "      <td>Tổng kho hàng China</td>\n",
       "    </tr>\n",
       "  </tbody>\n",
       "</table>\n",
       "</div>"
      ],
      "text/plain": [
       "                                                                          0\n",
       "Unnamed: 0                                                                0\n",
       "name_product              Yêu Thích\\nMiếng dán điện thoại may mắn, lung ...\n",
       "rating_product                                                         4.83\n",
       "rating_count_product                                                    629\n",
       "quantity_5_star                                                          77\n",
       "quantity_4_star                                                          11\n",
       "quantity_3_star                                                         NaN\n",
       "quantity_2_star                                                         NaN\n",
       "quantity_1_star                                                         NaN\n",
       "count_cmt                                                               357\n",
       "images_video                                                            291\n",
       "sold_out                                                              15,3k\n",
       "low_price                                                            6700.0\n",
       "hight_price                                                          1400.0\n",
       "price                                                                   NaN\n",
       "inventory                                                             23034\n",
       "return_7_days                                                           NaN\n",
       "authentic                                                               NaN\n",
       "freeship                                                                NaN\n",
       "shopee_guaranteedcompany                                                NaN\n",
       "shop_name                                                   hung_pham130217\n",
       "shopee_mall                                                           False\n",
       "shop_total_review                                                      1,5k\n",
       "total_products                                                           13\n",
       "response_rate                                                           96%\n",
       "time_response                                                trong vài phút\n",
       "years_ex                                                     27 tháng trước\n",
       "follower                                                               3,2k\n",
       "shopee_guaranteed                               3 Ngày Trả Hàng / Hoàn Tiền\n",
       "company                                                 Tổng kho hàng China"
      ]
     },
     "metadata": {},
     "execution_count": 223
    }
   ],
   "metadata": {}
  },
  {
   "cell_type": "code",
   "execution_count": 226,
   "source": [
    "pd.read_csv('./test_detail_3.csv').T"
   ],
   "outputs": [
    {
     "output_type": "execute_result",
     "data": {
      "text/html": [
       "<div>\n",
       "<style scoped>\n",
       "    .dataframe tbody tr th:only-of-type {\n",
       "        vertical-align: middle;\n",
       "    }\n",
       "\n",
       "    .dataframe tbody tr th {\n",
       "        vertical-align: top;\n",
       "    }\n",
       "\n",
       "    .dataframe thead th {\n",
       "        text-align: right;\n",
       "    }\n",
       "</style>\n",
       "<table border=\"1\" class=\"dataframe\">\n",
       "  <thead>\n",
       "    <tr style=\"text-align: right;\">\n",
       "      <th></th>\n",
       "      <th>0</th>\n",
       "    </tr>\n",
       "  </thead>\n",
       "  <tbody>\n",
       "    <tr>\n",
       "      <th>Unnamed: 0</th>\n",
       "      <td>0</td>\n",
       "    </tr>\n",
       "    <tr>\n",
       "      <th>name_product</th>\n",
       "      <td>Yêu Thích\\nMiếng dán điện thoại may mắn, lung ...</td>\n",
       "    </tr>\n",
       "    <tr>\n",
       "      <th>rating_product</th>\n",
       "      <td>4.83</td>\n",
       "    </tr>\n",
       "    <tr>\n",
       "      <th>rating_count_product</th>\n",
       "      <td>629</td>\n",
       "    </tr>\n",
       "    <tr>\n",
       "      <th>quantity_5_star</th>\n",
       "      <td>78</td>\n",
       "    </tr>\n",
       "    <tr>\n",
       "      <th>quantity_4_star</th>\n",
       "      <td>11</td>\n",
       "    </tr>\n",
       "    <tr>\n",
       "      <th>quantity_3_star</th>\n",
       "      <td>NaN</td>\n",
       "    </tr>\n",
       "    <tr>\n",
       "      <th>quantity_2_star</th>\n",
       "      <td>NaN</td>\n",
       "    </tr>\n",
       "    <tr>\n",
       "      <th>quantity_1_star</th>\n",
       "      <td>NaN</td>\n",
       "    </tr>\n",
       "    <tr>\n",
       "      <th>count_cmt</th>\n",
       "      <td>358</td>\n",
       "    </tr>\n",
       "    <tr>\n",
       "      <th>images_video</th>\n",
       "      <td>291</td>\n",
       "    </tr>\n",
       "    <tr>\n",
       "      <th>sold_out</th>\n",
       "      <td>15,3k</td>\n",
       "    </tr>\n",
       "    <tr>\n",
       "      <th>low_price</th>\n",
       "      <td>6700.0</td>\n",
       "    </tr>\n",
       "    <tr>\n",
       "      <th>hight_price</th>\n",
       "      <td>1400.0</td>\n",
       "    </tr>\n",
       "    <tr>\n",
       "      <th>price</th>\n",
       "      <td>NaN</td>\n",
       "    </tr>\n",
       "    <tr>\n",
       "      <th>inventory</th>\n",
       "      <td>23034</td>\n",
       "    </tr>\n",
       "    <tr>\n",
       "      <th>return_7_days</th>\n",
       "      <td>NaN</td>\n",
       "    </tr>\n",
       "    <tr>\n",
       "      <th>authentic</th>\n",
       "      <td>NaN</td>\n",
       "    </tr>\n",
       "    <tr>\n",
       "      <th>freeship</th>\n",
       "      <td>NaN</td>\n",
       "    </tr>\n",
       "    <tr>\n",
       "      <th>shopee_guaranteed</th>\n",
       "      <td>3 Ngày Trả Hàng / Hoàn Tiền</td>\n",
       "    </tr>\n",
       "    <tr>\n",
       "      <th>company</th>\n",
       "      <td>Tổng kho hàng China</td>\n",
       "    </tr>\n",
       "    <tr>\n",
       "      <th>shop_name</th>\n",
       "      <td>hung_pham130217</td>\n",
       "    </tr>\n",
       "    <tr>\n",
       "      <th>shopee_mall</th>\n",
       "      <td>False</td>\n",
       "    </tr>\n",
       "    <tr>\n",
       "      <th>shop_total_review</th>\n",
       "      <td>1,5k</td>\n",
       "    </tr>\n",
       "    <tr>\n",
       "      <th>total_products</th>\n",
       "      <td>13</td>\n",
       "    </tr>\n",
       "    <tr>\n",
       "      <th>response_rate</th>\n",
       "      <td>96%</td>\n",
       "    </tr>\n",
       "    <tr>\n",
       "      <th>time_response</th>\n",
       "      <td>trong vài phút</td>\n",
       "    </tr>\n",
       "    <tr>\n",
       "      <th>years_ex</th>\n",
       "      <td>27 tháng trước</td>\n",
       "    </tr>\n",
       "    <tr>\n",
       "      <th>follower</th>\n",
       "      <td>3,2k</td>\n",
       "    </tr>\n",
       "  </tbody>\n",
       "</table>\n",
       "</div>"
      ],
      "text/plain": [
       "                                                                      0\n",
       "Unnamed: 0                                                            0\n",
       "name_product          Yêu Thích\\nMiếng dán điện thoại may mắn, lung ...\n",
       "rating_product                                                     4.83\n",
       "rating_count_product                                                629\n",
       "quantity_5_star                                                      78\n",
       "quantity_4_star                                                      11\n",
       "quantity_3_star                                                     NaN\n",
       "quantity_2_star                                                     NaN\n",
       "quantity_1_star                                                     NaN\n",
       "count_cmt                                                           358\n",
       "images_video                                                        291\n",
       "sold_out                                                          15,3k\n",
       "low_price                                                        6700.0\n",
       "hight_price                                                      1400.0\n",
       "price                                                               NaN\n",
       "inventory                                                         23034\n",
       "return_7_days                                                       NaN\n",
       "authentic                                                           NaN\n",
       "freeship                                                            NaN\n",
       "shopee_guaranteed                           3 Ngày Trả Hàng / Hoàn Tiền\n",
       "company                                             Tổng kho hàng China\n",
       "shop_name                                               hung_pham130217\n",
       "shopee_mall                                                       False\n",
       "shop_total_review                                                  1,5k\n",
       "total_products                                                       13\n",
       "response_rate                                                       96%\n",
       "time_response                                            trong vài phút\n",
       "years_ex                                                 27 tháng trước\n",
       "follower                                                           3,2k"
      ]
     },
     "metadata": {},
     "execution_count": 226
    }
   ],
   "metadata": {}
  },
  {
   "cell_type": "code",
   "execution_count": 227,
   "source": [
    "browser = webdriver.Chrome('/Users/Thome/Desktop/CoderSchool/Shopee_Phone_EDA/chromedriver')\n",
    "browser.get('https://shopee.vn/Apple-iPhone-11-64GB-i.88201679.5600084939?position=2')"
   ],
   "outputs": [],
   "metadata": {}
  },
  {
   "cell_type": "code",
   "execution_count": 229,
   "source": [
    "all_rating = browser.find_elements_by_class_name('product-rating-overview__filters')\n",
    "\n",
    "print(all_rating[0].text.split(')')[0].replace('(', ''))\n",
    "print(all_rating[0].text.split(')')[1].replace('4 Sao (', ''))\n",
    "print(all_rating[0].text.split(')')[2].replace('3 Sao (', ''))\n",
    "print(all_rating[0].text.split(')')[3].replace('2 Sao (', ''))\n",
    "print(all_rating[0].text.split(')')[4].replace('1 Sao (', ''))\n",
    "print(all_rating[0].text.split(')')[5].strip('Có Bình Luận ('))\n",
    "print(all_rating[0].text.split(')')[6].strip('Có Hình Ảnh / Video ('))"
   ],
   "outputs": [
    {
     "output_type": "stream",
     "name": "stdout",
     "text": [
      "Tất Cả5 Sao 1,1k\n",
      "33\n",
      "9\n",
      "6\n",
      "32\n",
      "611\n",
      "509\n"
     ]
    }
   ],
   "metadata": {}
  }
 ],
 "metadata": {
  "orig_nbformat": 4,
  "language_info": {
   "name": "python",
   "version": "3.9.7",
   "mimetype": "text/x-python",
   "codemirror_mode": {
    "name": "ipython",
    "version": 3
   },
   "pygments_lexer": "ipython3",
   "nbconvert_exporter": "python",
   "file_extension": ".py"
  },
  "kernelspec": {
   "name": "python3",
   "display_name": "Python 3.9.7 64-bit ('shopee_eda': conda)"
  },
  "interpreter": {
   "hash": "e7951889ae1d8f83092ea1174e12e7ab843a6aa05497bf6d12706312405da4de"
  }
 },
 "nbformat": 4,
 "nbformat_minor": 2
}